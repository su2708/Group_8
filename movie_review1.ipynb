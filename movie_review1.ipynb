{
  "cells": [
    {
      "cell_type": "markdown",
      "metadata": {
        "id": "view-in-github",
        "colab_type": "text"
      },
      "source": [
        "<a href=\"https://colab.research.google.com/github/su2708/Group_8/blob/choi_sun1/movie_review1.ipynb\" target=\"_parent\"><img src=\"https://colab.research.google.com/assets/colab-badge.svg\" alt=\"Open In Colab\"/></a>"
      ]
    },
    {
      "cell_type": "code",
      "execution_count": 1,
      "id": "08eb4824-3c8e-4c1d-b617-535eadf9d8bf",
      "metadata": {
        "colab": {
          "base_uri": "https://localhost:8080/"
        },
        "id": "08eb4824-3c8e-4c1d-b617-535eadf9d8bf",
        "outputId": "848334bb-3e82-4a93-af86-257de6eb5872"
      },
      "outputs": [
        {
          "output_type": "stream",
          "name": "stdout",
          "text": [
            "Shape of the dataset: (116931, 8)\n",
            "Columns in the dataset: Index(['reviewId', 'userName', 'content', 'score', 'thumbsUpCount',\n",
            "       'reviewCreatedVersion', 'at', 'appVersion'],\n",
            "      dtype='object')\n"
          ]
        }
      ],
      "source": [
        "import pandas as pd\n",
        "# 데이터셋 불러오기\n",
        "df = pd.read_csv(\"netflix_reviews.csv\")\n",
        "\n",
        "# 데이터셋 크기와 열 정보 출력\n",
        "print(f\"Shape of the dataset: {df.shape}\")\n",
        "print(f\"Columns in the dataset: {df.columns}\")"
      ]
    },
    {
      "cell_type": "code",
      "execution_count": 2,
      "id": "bab33545-a70d-4a32-bb09-9d47ec7dbf26",
      "metadata": {
        "colab": {
          "base_uri": "https://localhost:8080/"
        },
        "id": "bab33545-a70d-4a32-bb09-9d47ec7dbf26",
        "outputId": "eb77c529-00f0-4712-87dc-2eb88f1b6f34"
      },
      "outputs": [
        {
          "output_type": "stream",
          "name": "stdout",
          "text": [
            "                                             content  score  sentiment\n",
            "0                                          cant open      1          0\n",
            "1                                       the best app      5          1\n",
            "2  most of the famous korean drama are not dubbed...      2          0\n",
            "3  its superb but can you please add comments sec...      5          1\n",
            "4  the only reason i didnt give it four stars is ...      1          0\n"
          ]
        }
      ],
      "source": [
        "import re\n",
        "from nltk.corpus import stopwords\n",
        "from nltk.tokenize import word_tokenize\n",
        "\n",
        "# 전처리 함수\n",
        "def preprocess_text(text):\n",
        "    if isinstance(text, float):\n",
        "        return \"\"\n",
        "    text = text.lower()  # 대문자를 소문자로\n",
        "    text = re.sub(r'[^\\w\\s]', '', text)  # 구두점 제거\n",
        "    text = re.sub(r'\\d+', '', text)  # 숫자 제거\n",
        "    text = text.strip()  # 띄어쓰기 제외하고 빈 칸 제거\n",
        "    return text\n",
        "\n",
        "# 불필요한 열 제거\n",
        "df = df[['content', 'score']]\n",
        "\n",
        "# 리뷰 텍스트 정제\n",
        "df['content'] = df['content'].apply(preprocess_text)\n",
        "\n",
        "# 평점을 이진 레이블로 변환 (예: 3점 이상은 긍정, 그 외는 부정)\n",
        "df['sentiment'] = df['score'].apply(lambda x: 1 if x >= 3 else 0)\n",
        "\n",
        "# 전처리된 데이터 확인\n",
        "print(df.head())\n"
      ]
    },
    {
      "cell_type": "code",
      "execution_count": 3,
      "id": "fae12280-17c0-4702-be1c-8b96a69d69cb",
      "metadata": {
        "colab": {
          "base_uri": "https://localhost:8080/",
          "height": 472
        },
        "id": "fae12280-17c0-4702-be1c-8b96a69d69cb",
        "outputId": "5762a160-1ed3-4497-e583-b5ecea5951a3"
      },
      "outputs": [
        {
          "output_type": "display_data",
          "data": {
            "text/plain": [
              "<Figure size 640x480 with 1 Axes>"
            ],
            "image/png": "[encoded data removed]"
          },
          "metadata": {}
        }
      ],
      "source": [
        "import seaborn as sns\n",
        "import matplotlib.pyplot as plt\n",
        "\n",
        "# 리뷰 점수 분포 확인\n",
        "sns.countplot(x='score', data=df)\n",
        "plt.xlabel('Score')\n",
        "plt.ylabel('Count')\n",
        "plt.title('Distribution of Scores')\n",
        "plt.show()"
      ]
    },
    {
      "cell_type": "code",
      "execution_count": 4,
      "id": "c9cd0889-3cbb-4ab8-9f18-539c54bf1edd",
      "metadata": {
        "colab": {
          "base_uri": "https://localhost:8080/"
        },
        "id": "c9cd0889-3cbb-4ab8-9f18-539c54bf1edd",
        "outputId": "59221339-536c-4ff9-8325-e6bb9496843e"
      },
      "outputs": [
        {
          "output_type": "stream",
          "name": "stderr",
          "text": [
            "[nltk_data] Downloading package punkt to /root/nltk_data...\n",
            "[nltk_data]   Unzipping tokenizers/punkt.zip.\n"
          ]
        },
        {
          "output_type": "execute_result",
          "data": {
            "text/plain": [
              "True"
            ]
          },
          "metadata": {},
          "execution_count": 4
        }
      ],
      "source": [
        "import torch\n",
        "import torch.nn as nn\n",
        "import torch.optim as optim\n",
        "from torch.utils.data import Dataset, DataLoader\n",
        "from sklearn.preprocessing import LabelEncoder\n",
        "from nltk.tokenize import word_tokenize\n",
        "from collections import Counter\n",
        "import nltk\n",
        "import numpy as np\n",
        "nltk.download('punkt')\n"
      ]
    },
    {
      "cell_type": "code",
      "execution_count": 5,
      "id": "601e955e-d947-4462-9b38-cd129c37c338",
      "metadata": {
        "id": "601e955e-d947-4462-9b38-cd129c37c338"
      },
      "outputs": [],
      "source": [
        "class TextPipeline:\n",
        "    def __init__(self):\n",
        "        self.vocab = {}\n",
        "\n",
        "    def fit(self, texts):\n",
        "        word_counts = Counter()\n",
        "        for text in texts:\n",
        "            words = word_tokenize(text)\n",
        "            word_counts.update(words)\n",
        "        self.vocab = {word: idx for idx, (word, _) in enumerate(word_counts.items(), 1)}  # 1부터 시작\n",
        "\n",
        "    def __call__(self, text):\n",
        "        words = word_tokenize(text)\n",
        "        return [self.vocab.get(word, 0) for word in words]  # 사전에 없는 단어는 0으로 처리"
      ]
    },
    {
      "cell_type": "code",
      "execution_count": 6,
      "id": "ce6621a0-4be5-4903-bcaf-a295d13cb93f",
      "metadata": {
        "id": "ce6621a0-4be5-4903-bcaf-a295d13cb93f"
      },
      "outputs": [],
      "source": [
        "class LabelPipeline:\n",
        "    def __init__(self):\n",
        "        self.label_encoder = LabelEncoder()\n",
        "\n",
        "    def fit(self, labels):\n",
        "        self.label_encoder.fit(labels)\n",
        "\n",
        "    def __call__(self, label):\n",
        "        return self.label_encoder.transform([label])[0]"
      ]
    },
    {
      "cell_type": "code",
      "execution_count": 7,
      "id": "35225ae6-4fa0-4f56-9e09-44932f41fe52",
      "metadata": {
        "id": "35225ae6-4fa0-4f56-9e09-44932f41fe52"
      },
      "outputs": [],
      "source": [
        "class ReviewDataset(Dataset):\n",
        "    def __init__(self, reviews, ratings, text_pipeline, label_pipeline):\n",
        "        self.reviews = reviews\n",
        "        self.ratings = ratings\n",
        "        self.text_pipeline = text_pipeline\n",
        "        self.label_pipeline = label_pipeline\n",
        "\n",
        "    def __len__(self):\n",
        "        return len(self.reviews)\n",
        "\n",
        "    def __getitem__(self, idx):\n",
        "        review = self.text_pipeline(self.reviews[idx])\n",
        "        rating = self.label_pipeline(self.ratings[idx])\n",
        "        return torch.tensor(review, dtype=torch.long), torch.tensor(rating, dtype=torch.long)"
      ]
    },
    {
      "cell_type": "code",
      "source": [
        "# 'content' 열이 문자열 형식인지 확인하고 변환\n",
        "df['content'] = df['content'].astype(str)"
      ],
      "metadata": {
        "id": "q95v-WVICzVq"
      },
      "id": "q95v-WVICzVq",
      "execution_count": 8,
      "outputs": []
    },
    {
      "cell_type": "code",
      "source": [
        "print(df.columns)"
      ],
      "metadata": {
        "colab": {
          "base_uri": "https://localhost:8080/"
        },
        "id": "cp3Xd7qKEfMK",
        "outputId": "8135694c-4b61-4e48-cd79-2e95bcd72a7d"
      },
      "id": "cp3Xd7qKEfMK",
      "execution_count": 9,
      "outputs": [
        {
          "output_type": "stream",
          "name": "stdout",
          "text": [
            "Index(['content', 'score', 'sentiment'], dtype='object')\n"
          ]
        }
      ]
    },
    {
      "cell_type": "code",
      "execution_count": 10,
      "id": "1051dab2-f396-4a00-91a1-3467daf0cd5c",
      "metadata": {
        "id": "1051dab2-f396-4a00-91a1-3467daf0cd5c"
      },
      "outputs": [],
      "source": [
        "# 텍스트 파이프라인 인스턴스 생성 및 학습\n",
        "text_pipeline = TextPipeline()\n",
        "text_pipeline.fit(df['content'].values)\n",
        "\n",
        "# 레이블 파이프라인 인스턴스 생성 및 학습\n",
        "label_pipeline = LabelPipeline()\n",
        "label_pipeline.fit(df['score'].values)\n",
        "\n",
        "# 훈련 및 테스트 데이터를 설정\n",
        "train_reviews = df['content'][:800].values  # 첫 800개는 훈련 데이터로\n",
        "train_ratings = df['score'][:800].values\n",
        "test_reviews = df['content'][800:].values   # 나머지는 테스트 데이터로\n",
        "test_ratings = df['score'][800:].values\n",
        "\n",
        "# 데이터셋 생성\n",
        "train_dataset = ReviewDataset(train_reviews, train_ratings, text_pipeline, label_pipeline)\n",
        "test_dataset = ReviewDataset(test_reviews, test_ratings, text_pipeline, label_pipeline)\n",
        "\n",
        "# DataLoader 생성\n",
        "train_loader = DataLoader(train_dataset, batch_size=32, shuffle=True)\n",
        "test_loader = DataLoader(test_dataset, batch_size=32)\n"
      ]
    },
    {
      "cell_type": "code",
      "execution_count": 11,
      "id": "48f546d4-857e-4c4c-b8b7-3d35f9c41fcc",
      "metadata": {
        "id": "48f546d4-857e-4c4c-b8b7-3d35f9c41fcc"
      },
      "outputs": [],
      "source": [
        "class SentimentLSTM(nn.Module):\n",
        "    def __init__(self, vocab_size, embed_size, hidden_size, output_size, num_layers=1):\n",
        "        super(SentimentLSTM, self).__init__()\n",
        "        self.embedding = nn.Embedding(vocab_size, embed_size)\n",
        "        self.lstm = nn.LSTM(embed_size, hidden_size, num_layers, batch_first=True)\n",
        "        self.fc = nn.Linear(hidden_size, output_size)\n",
        "\n",
        "    def forward(self, x):\n",
        "        embeds = self.embedding(x)\n",
        "        lstm_out, _ = self.lstm(embeds)\n",
        "        out = self.fc(lstm_out[:, -1, :])  # 마지막 타임스텝 출력\n",
        "        return out\n"
      ]
    },
    {
      "cell_type": "code",
      "execution_count": 12,
      "id": "44650737-a30b-4dd0-bf9f-e66d7b6a6c90",
      "metadata": {
        "id": "44650737-a30b-4dd0-bf9f-e66d7b6a6c90"
      },
      "outputs": [],
      "source": [
        "def train(model, loader, criterion, optimizer, num_epochs=5):\n",
        "    model.train()\n",
        "    for epoch in range(num_epochs):\n",
        "        total_loss = 0\n",
        "        for reviews, labels in loader:\n",
        "            optimizer.zero_grad()\n",
        "            outputs = model(reviews)\n",
        "            loss = criterion(outputs, labels)\n",
        "            loss.backward()\n",
        "            optimizer.step()\n",
        "            total_loss += loss.item()\n",
        "        print(f'Epoch {epoch+1}/{num_epochs}, Loss: {total_loss/len(loader):.4f}')\n",
        "\n",
        "def evaluate(model, loader):\n",
        "    model.eval()\n",
        "    correct, total = 0, 0\n",
        "    with torch.no_grad():\n",
        "        for reviews, labels in loader:\n",
        "            outputs = model(reviews)\n",
        "            _, predicted = torch.max(outputs, 1)\n",
        "            total += labels.size(0)\n",
        "            correct += (predicted == labels).sum().item()\n",
        "    return correct / total\n"
      ]
    },
    {
      "cell_type": "code",
      "execution_count": 13,
      "id": "13b266a1-2249-40d2-aef8-3baa1c31f095",
      "metadata": {
        "colab": {
          "base_uri": "https://localhost:8080/"
        },
        "id": "13b266a1-2249-40d2-aef8-3baa1c31f095",
        "outputId": "a4552025-17b5-4d1a-bb9e-4fa82ec11ac2"
      },
      "outputs": [
        {
          "output_type": "stream",
          "name": "stdout",
          "text": [
            "Requirement already satisfied: transformers in /usr/local/lib/python3.10/dist-packages (4.44.2)\n",
            "Requirement already satisfied: filelock in /usr/local/lib/python3.10/dist-packages (from transformers) (3.16.1)\n",
            "Requirement already satisfied: huggingface-hub<1.0,>=0.23.2 in /usr/local/lib/python3.10/dist-packages (from transformers) (0.24.7)\n",
            "Requirement already satisfied: numpy>=1.17 in /usr/local/lib/python3.10/dist-packages (from transformers) (1.26.4)\n",
            "Requirement already satisfied: packaging>=20.0 in /usr/local/lib/python3.10/dist-packages (from transformers) (24.1)\n",
            "Requirement already satisfied: pyyaml>=5.1 in /usr/local/lib/python3.10/dist-packages (from transformers) (6.0.2)\n",
            "Requirement already satisfied: regex!=2019.12.17 in /usr/local/lib/python3.10/dist-packages (from transformers) (2024.9.11)\n",
            "Requirement already satisfied: requests in /usr/local/lib/python3.10/dist-packages (from transformers) (2.32.3)\n",
            "Requirement already satisfied: safetensors>=0.4.1 in /usr/local/lib/python3.10/dist-packages (from transformers) (0.4.5)\n",
            "Requirement already satisfied: tokenizers<0.20,>=0.19 in /usr/local/lib/python3.10/dist-packages (from transformers) (0.19.1)\n",
            "Requirement already satisfied: tqdm>=4.27 in /usr/local/lib/python3.10/dist-packages (from transformers) (4.66.5)\n",
            "Requirement already satisfied: fsspec>=2023.5.0 in /usr/local/lib/python3.10/dist-packages (from huggingface-hub<1.0,>=0.23.2->transformers) (2024.6.1)\n",
            "Requirement already satisfied: typing-extensions>=3.7.4.3 in /usr/local/lib/python3.10/dist-packages (from huggingface-hub<1.0,>=0.23.2->transformers) (4.12.2)\n",
            "Requirement already satisfied: charset-normalizer<4,>=2 in /usr/local/lib/python3.10/dist-packages (from requests->transformers) (3.4.0)\n",
            "Requirement already satisfied: idna<4,>=2.5 in /usr/local/lib/python3.10/dist-packages (from requests->transformers) (3.10)\n",
            "Requirement already satisfied: urllib3<3,>=1.21.1 in /usr/local/lib/python3.10/dist-packages (from requests->transformers) (2.2.3)\n",
            "Requirement already satisfied: certifi>=2017.4.17 in /usr/local/lib/python3.10/dist-packages (from requests->transformers) (2024.8.30)\n"
          ]
        }
      ],
      "source": [
        "pip install transformers"
      ]
    },
    {
      "cell_type": "code",
      "execution_count": 14,
      "id": "5b77181b-7eb3-4bed-81dc-269871c0e7fa",
      "metadata": {
        "id": "5b77181b-7eb3-4bed-81dc-269871c0e7fa"
      },
      "outputs": [],
      "source": [
        "import torch\n",
        "import pandas as pd\n",
        "from sklearn.model_selection import train_test_split\n",
        "from transformers import BertTokenizer, BertForSequenceClassification\n",
        "from transformers import Trainer, TrainingArguments\n"
      ]
    },
    {
      "cell_type": "code",
      "execution_count": null,
      "id": "b872dbc1-a824-4f0f-8949-9e509a65faa4",
      "metadata": {
        "id": "b872dbc1-a824-4f0f-8949-9e509a65faa4"
      },
      "outputs": [],
      "source": [
        "train_df, test_df = train_test_split(df, test_size=0.2, random_state=42)\n",
        "\n",
        "tokenizer = BertTokenizer.from_pretrained('bert-base-uncased')\n",
        "import os\n",
        "os.environ[\"WANDB_DISABLED\"] = \"true\"\n",
        "\n",
        "# 데이터셋 클래스 정의\n",
        "class MovieReviewDataset(torch.utils.data.Dataset):\n",
        "    def __init__(self, texts, labels, tokenizer, max_length):\n",
        "        self.texts = texts\n",
        "        self.labels = labels\n",
        "        self.tokenizer = tokenizer\n",
        "        self.max_length = max_length\n",
        "\n",
        "    def __len__(self):\n",
        "        return len(self.texts)\n",
        "\n",
        "    def __getitem__(self, idx):\n",
        "        text = self.texts[idx]\n",
        "        label = self.labels[idx]\n",
        "        encoding = self.tokenizer.encode_plus(\n",
        "            text,\n",
        "            add_special_tokens=True,\n",
        "            max_length=self.max_length,\n",
        "            return_token_type_ids=False,\n",
        "            padding='max_length',\n",
        "            truncation=True,\n",
        "            return_attention_mask=True,\n",
        "            return_tensors='pt',\n",
        "        )\n",
        "        return {\n",
        "            'input_ids': encoding['input_ids'].flatten(),\n",
        "            'attention_mask': encoding['attention_mask'].flatten(),\n",
        "            'labels': torch.tensor(label, dtype=torch.long),\n",
        "        }\n",
        "\n",
        "# 데이터셋 생성\n",
        "max_length = 128\n",
        "train_dataset = MovieReviewDataset(train_df['content'].values, train_df['sentiment'].values, tokenizer, max_length)\n",
        "test_dataset = MovieReviewDataset(test_df['content'].values, test_df['sentiment'].values, tokenizer, max_length)\n",
        "\n",
        "# 모델 준비\n",
        "model = BertForSequenceClassification.from_pretrained('bert-base-uncased', num_labels=len(set(df['sentiment'])))\n",
        "\n",
        "# 트레이너 설정\n",
        "training_args = TrainingArguments(\n",
        "    output_dir='./results',\n",
        "    num_train_epochs=5,\n",
        "    per_device_train_batch_size=16,\n",
        "    per_device_eval_batch_size=16,\n",
        "    warmup_steps=500,\n",
        "    weight_decay=0.01,\n",
        "    logging_dir='./logs',\n",
        "    logging_steps=10,\n",
        "    evaluation_strategy='epoch'\n",
        ")\n",
        "\n",
        "trainer = Trainer(\n",
        "    model=model,\n",
        "    args=training_args,\n",
        "    train_dataset=train_dataset,\n",
        "    eval_dataset=test_dataset\n",
        ")\n",
        "\n",
        "# 모델 학습\n",
        "trainer.train()\n",
        "\n",
        "# 평가\n",
        "trainer.evaluate()"
      ]
    },
    {
      "cell_type": "code",
      "source": [
        "import torch\n",
        "from sklearn.model_selection import train_test_split\n",
        "from transformers import BertTokenizer, BertForSequenceClassification, Trainer, TrainingArguments\n",
        "from sklearn.metrics import accuracy_score, precision_recall_fscore_support\n",
        "import os\n",
        "\n",
        "# 환경 설정\n",
        "os.environ[\"WANDB_DISABLED\"] = \"true\"\n",
        "\n",
        "# 데이터셋 분리\n",
        "train_df, test_df = train_test_split(df, test_size=0.2, random_state=42)\n",
        "\n",
        "# 토크나이저 로드\n",
        "tokenizer = BertTokenizer.from_pretrained('bert-base-uncased')\n",
        "\n",
        "# 데이터셋 클래스 정의\n",
        "class MovieReviewDataset(torch.utils.data.Dataset):\n",
        "    def __init__(self, texts, labels, tokenizer, max_length):\n",
        "        self.texts = texts\n",
        "        self.labels = labels\n",
        "        self.tokenizer = tokenizer\n",
        "        self.max_length = max_length\n",
        "\n",
        "    def __len__(self):\n",
        "        return len(self.texts)\n",
        "\n",
        "    def __getitem__(self, idx):\n",
        "        text = self.texts[idx]\n",
        "        label = self.labels[idx]\n",
        "        encoding = self.tokenizer.encode_plus(\n",
        "            text,\n",
        "            add_special_tokens=True,\n",
        "            max_length=self.max_length,\n",
        "            return_token_type_ids=False,\n",
        "            padding='max_length',\n",
        "            truncation=True,\n",
        "            return_attention_mask=True,\n",
        "            return_tensors='pt',\n",
        "        )\n",
        "        return {\n",
        "            'input_ids': encoding['input_ids'].flatten(),\n",
        "            'attention_mask': encoding['attention_mask'].flatten(),\n",
        "            'labels': torch.tensor(label, dtype=torch.long),\n",
        "        }\n",
        "\n",
        "# 데이터셋 생성\n",
        "max_length = 128\n",
        "train_dataset = MovieReviewDataset(train_df['content'].values, train_df['sentiment'].values, tokenizer, max_length)\n",
        "test_dataset = MovieReviewDataset(test_df['content'].values, test_df['sentiment'].values, tokenizer, max_length)\n",
        "\n",
        "# 모델 준비\n",
        "model = BertForSequenceClassification.from_pretrained('bert-base-uncased', num_labels=len(set(df['sentiment'])))\n",
        "\n",
        "# 평가를 위한 함수 정의\n",
        "def compute_metrics(pred):\n",
        "    labels = pred.label_ids\n",
        "    preds = pred.predictions.argmax(-1)  # 예측값 중 가장 높은 점수를 가진 클래스로 선택\n",
        "    acc = accuracy_score(labels, preds)  # 정확도 계산\n",
        "    precision, recall, f1, _ = precision_recall_fscore_support(labels, preds, average='weighted')  # 정밀도, 재현율, F1 점수\n",
        "    return {\n",
        "        'accuracy': acc,\n",
        "        'precision': precision,\n",
        "        'recall': recall,\n",
        "        'f1': f1\n",
        "    }\n",
        "\n",
        "# 트레이너 설정\n",
        "training_args = TrainingArguments(\n",
        "    output_dir='./results',\n",
        "    num_train_epochs=5,\n",
        "    per_device_train_batch_size=16,\n",
        "    per_device_eval_batch_size=16,\n",
        "    warmup_steps=500,\n",
        "    weight_decay=0.01,\n",
        "    logging_dir='./logs',\n",
        "    logging_steps=10,\n",
        "    evaluation_strategy='epoch'\n",
        ")\n",
        "\n",
        "trainer = Trainer(\n",
        "    model=model,\n",
        "    args=training_args,\n",
        "    train_dataset=train_dataset,\n",
        "    eval_dataset=test_dataset,\n",
        "    compute_metrics=compute_metrics  # 평가 지표 추가\n",
        ")\n",
        "\n",
        "# 모델 학습\n",
        "trainer.train()\n",
        "\n",
        "# 평가\n",
        "eval_result = trainer.evaluate()\n",
        "\n",
        "# 평가 결과 출력\n",
        "print(f\"Evaluation Results: {eval_result}\")\n",
        "\n",
        "# 정확도만 따로 출력\n",
        "accuracy = eval_result['eval_accuracy']\n",
        "print(f\"Accuracy: {accuracy}\")\n"
      ],
      "metadata": {
        "id": "Vd6ozkyR9x7Z",
        "colab": {
          "base_uri": "https://localhost:8080/",
          "height": 433
        },
        "outputId": "4e019a29-4f62-4cee-946a-9fe8d0e4c21f"
      },
      "id": "Vd6ozkyR9x7Z",
      "execution_count": 16,
      "outputs": [
        {
          "output_type": "stream",
          "name": "stderr",
          "text": [
            "/usr/local/lib/python3.10/dist-packages/transformers/tokenization_utils_base.py:1601: FutureWarning: `clean_up_tokenization_spaces` was not set. It will be set to `True` by default. This behavior will be depracted in transformers v4.45, and will be then set to `False` by default. For more details check this issue: https://github.com/huggingface/transformers/issues/31884\n",
            "  warnings.warn(\n",
            "Some weights of BertForSequenceClassification were not initialized from the model checkpoint at bert-base-uncased and are newly initialized: ['classifier.bias', 'classifier.weight']\n",
            "You should probably TRAIN this model on a down-stream task to be able to use it for predictions and inference.\n",
            "/usr/local/lib/python3.10/dist-packages/transformers/training_args.py:1525: FutureWarning: `evaluation_strategy` is deprecated and will be removed in version 4.46 of 🤗 Transformers. Use `eval_strategy` instead\n",
            "  warnings.warn(\n",
            "Using the `WANDB_DISABLED` environment variable is deprecated and will be removed in v5. Use the --report_to flag to control the integrations used for logging result (for instance --report_to none).\n"
          ]
        },
        {
          "output_type": "display_data",
          "data": {
            "text/plain": [
              "<IPython.core.display.HTML object>"
            ],
            "text/html": [
              "\n",
              "    <div>\n",
              "      \n",
              "      <progress value='29235' max='29235' style='width:300px; height:20px; vertical-align: middle;'></progress>\n",
              "      [29235/29235 3:16:34, Epoch 5/5]\n",
              "    </div>\n",
              "    <table border=\"1\" class=\"dataframe\">\n",
              "  <thead>\n",
              " <tr style=\"text-align: left;\">\n",
              "      <th>Epoch</th>\n",
              "      <th>Training Loss</th>\n",
              "      <th>Validation Loss</th>\n",
              "      <th>Accuracy</th>\n",
              "      <th>Precision</th>\n",
              "      <th>Recall</th>\n",
              "      <th>F1</th>\n",
              "    </tr>\n",
              "  </thead>\n",
              "  <tbody>\n",
              "    <tr>\n",
              "      <td>1</td>\n",
              "      <td>0.275800</td>\n",
              "      <td>0.331494</td>\n",
              "      <td>0.863343</td>\n",
              "      <td>0.866894</td>\n",
              "      <td>0.863343</td>\n",
              "      <td>0.863214</td>\n",
              "    </tr>\n",
              "    <tr>\n",
              "      <td>2</td>\n",
              "      <td>0.250800</td>\n",
              "      <td>0.359228</td>\n",
              "      <td>0.860264</td>\n",
              "      <td>0.860303</td>\n",
              "      <td>0.860264</td>\n",
              "      <td>0.860223</td>\n",
              "    </tr>\n",
              "    <tr>\n",
              "      <td>3</td>\n",
              "      <td>0.337800</td>\n",
              "      <td>0.393436</td>\n",
              "      <td>0.864668</td>\n",
              "      <td>0.866947</td>\n",
              "      <td>0.864668</td>\n",
              "      <td>0.864617</td>\n",
              "    </tr>\n",
              "    <tr>\n",
              "      <td>4</td>\n",
              "      <td>0.222200</td>\n",
              "      <td>0.543640</td>\n",
              "      <td>0.855946</td>\n",
              "      <td>0.856320</td>\n",
              "      <td>0.855946</td>\n",
              "      <td>0.855971</td>\n",
              "    </tr>\n",
              "    <tr>\n",
              "      <td>5</td>\n",
              "      <td>0.150100</td>\n",
              "      <td>0.667738</td>\n",
              "      <td>0.848762</td>\n",
              "      <td>0.848786</td>\n",
              "      <td>0.848762</td>\n",
              "      <td>0.848770</td>\n",
              "    </tr>\n",
              "  </tbody>\n",
              "</table><p>"
            ]
          },
          "metadata": {}
        },
        {
          "output_type": "display_data",
          "data": {
            "text/plain": [
              "<IPython.core.display.HTML object>"
            ],
            "text/html": [
              "\n",
              "    <div>\n",
              "      \n",
              "      <progress value='1462' max='1462' style='width:300px; height:20px; vertical-align: middle;'></progress>\n",
              "      [1462/1462 02:50]\n",
              "    </div>\n",
              "    "
            ]
          },
          "metadata": {}
        },
        {
          "output_type": "stream",
          "name": "stdout",
          "text": [
            "Evaluation Results: {'eval_loss': 0.6677379012107849, 'eval_accuracy': 0.8487621328088254, 'eval_precision': 0.8487864630963898, 'eval_recall': 0.8487621328088254, 'eval_f1': 0.8487702605093184, 'eval_runtime': 170.5382, 'eval_samples_per_second': 137.136, 'eval_steps_per_second': 8.573, 'epoch': 5.0}\n",
            "Accuracy: 0.8487621328088254\n"
          ]
        }
      ]
    },
    {
      "cell_type": "code",
      "source": [],
      "metadata": {
        "id": "OJljZpHmyKkm"
      },
      "id": "OJljZpHmyKkm",
      "execution_count": null,
      "outputs": []
    }
  ],
  "metadata": {
    "kernelspec": {
      "display_name": "Project1",
      "language": "python",
      "name": "project1"
    },
    "language_info": {
      "codemirror_mode": {
        "name": "ipython",
        "version": 3
      },
      "file_extension": ".py",
      "mimetype": "text/x-python",
      "name": "python",
      "nbconvert_exporter": "python",
      "pygments_lexer": "ipython3",
      "version": "3.8.20"
    },
    "colab": {
      "provenance": [],
      "gpuType": "T4",
      "include_colab_link": true
    },
    "accelerator": "GPU"
  },
  "nbformat": 4,
  "nbformat_minor": 5
}