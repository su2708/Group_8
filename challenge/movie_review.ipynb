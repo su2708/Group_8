{
 "cells": [
  {
   "cell_type": "markdown",
   "metadata": {
    "id": "LwAqX71jwvuB"
   },
   "source": [
    "# 영화 리뷰 감성 분석"
   ]
  },
  {
   "cell_type": "markdown",
   "metadata": {
    "id": "jj5LWBzkxXgj"
   },
   "source": [
    "## 필수과제"
   ]
  },
  {
   "cell_type": "markdown",
   "metadata": {
    "id": "x7dzFLpXxZV-"
   },
   "source": [
    "### 1. 데이터셋 불러오기"
   ]
  },
  {
   "cell_type": "code",
   "execution_count": null,
   "metadata": {
    "colab": {
     "background_save": true
    },
    "id": "iXHlQDfkA3ro"
   },
   "outputs": [],
   "source": [
    "import pandas as pd\n",
    "\n",
    "df = pd.read_csv('./netflix_reviews.csv')"
   ]
  },
  {
   "cell_type": "code",
   "execution_count": null,
   "metadata": {
    "colab": {
     "background_save": true
    },
    "collapsed": true,
    "id": "whVH37t2A0Rj",
    "jupyter": {
     "outputs_hidden": true
    },
    "outputId": "1e95dd04-78db-45c5-b286-3a6f82e846d4"
   },
   "outputs": [
    {
     "data": {
      "application/vnd.google.colaboratory.intrinsic+json": {
       "type": "dataframe",
       "variable_name": "df"
      },
      "text/html": [
       "\n",
       "  <div id=\"df-dc4f9d3c-1757-49d0-b3b7-b889381fad32\" class=\"colab-df-container\">\n",
       "    <div>\n",
       "<style scoped>\n",
       "    .dataframe tbody tr th:only-of-type {\n",
       "        vertical-align: middle;\n",
       "    }\n",
       "\n",
       "    .dataframe tbody tr th {\n",
       "        vertical-align: top;\n",
       "    }\n",
       "\n",
       "    .dataframe thead th {\n",
       "        text-align: right;\n",
       "    }\n",
       "</style>\n",
       "<table border=\"1\" class=\"dataframe\">\n",
       "  <thead>\n",
       "    <tr style=\"text-align: right;\">\n",
       "      <th></th>\n",
       "      <th>reviewId</th>\n",
       "      <th>userName</th>\n",
       "      <th>content</th>\n",
       "      <th>score</th>\n",
       "      <th>thumbsUpCount</th>\n",
       "      <th>reviewCreatedVersion</th>\n",
       "      <th>at</th>\n",
       "      <th>appVersion</th>\n",
       "    </tr>\n",
       "  </thead>\n",
       "  <tbody>\n",
       "    <tr>\n",
       "      <th>0</th>\n",
       "      <td>a8a272de-61d1-4826-9448-8dcb4ebd216c</td>\n",
       "      <td>NIHAD Momii</td>\n",
       "      <td>Bad devolopers👎👎</td>\n",
       "      <td>1</td>\n",
       "      <td>0</td>\n",
       "      <td>8.137.0 build 4 50942</td>\n",
       "      <td>2024-10-25 14:00:19</td>\n",
       "      <td>8.137.0 build 4 50942</td>\n",
       "    </tr>\n",
       "    <tr>\n",
       "      <th>1</th>\n",
       "      <td>9ad8998b-0ba2-4b9a-9c2c-2491928e7321</td>\n",
       "      <td>Jennifer Bado</td>\n",
       "      <td>Nice movie marathon 🤩🤩</td>\n",
       "      <td>5</td>\n",
       "      <td>0</td>\n",
       "      <td>8.137.0 build 4 50942</td>\n",
       "      <td>2024-10-25 13:57:52</td>\n",
       "      <td>8.137.0 build 4 50942</td>\n",
       "    </tr>\n",
       "    <tr>\n",
       "      <th>2</th>\n",
       "      <td>ccd25096-beaa-4c48-bac1-874293fbd85a</td>\n",
       "      <td>Abdul Hadi Rajput</td>\n",
       "      <td>Best application</td>\n",
       "      <td>5</td>\n",
       "      <td>0</td>\n",
       "      <td>8.137.0 build 4 50942</td>\n",
       "      <td>2024-10-25 13:53:31</td>\n",
       "      <td>8.137.0 build 4 50942</td>\n",
       "    </tr>\n",
       "    <tr>\n",
       "      <th>3</th>\n",
       "      <td>0fcd51ae-bfc0-4a5d-90cc-c0eea1e24d26</td>\n",
       "      <td>Mvelo Luthuli</td>\n",
       "      <td>Im unable to find some other shows on the Netf...</td>\n",
       "      <td>3</td>\n",
       "      <td>0</td>\n",
       "      <td>8.132.2 build 18 50846</td>\n",
       "      <td>2024-10-25 13:53:20</td>\n",
       "      <td>8.132.2 build 18 50846</td>\n",
       "    </tr>\n",
       "    <tr>\n",
       "      <th>4</th>\n",
       "      <td>573bd7c7-a552-4156-b7cf-da1c2406eae6</td>\n",
       "      <td>Pratistha Singh</td>\n",
       "      <td>It keeps shutting down my phone every time i o...</td>\n",
       "      <td>1</td>\n",
       "      <td>0</td>\n",
       "      <td>8.137.0 build 4 50942</td>\n",
       "      <td>2024-10-25 13:51:34</td>\n",
       "      <td>8.137.0 build 4 50942</td>\n",
       "    </tr>\n",
       "  </tbody>\n",
       "</table>\n",
       "</div>\n",
       "    <div class=\"colab-df-buttons\">\n",
       "\n",
       "  <div class=\"colab-df-container\">\n",
       "    <button class=\"colab-df-convert\" onclick=\"convertToInteractive('df-dc4f9d3c-1757-49d0-b3b7-b889381fad32')\"\n",
       "            title=\"Convert this dataframe to an interactive table.\"\n",
       "            style=\"display:none;\">\n",
       "\n",
       "  <svg xmlns=\"http://www.w3.org/2000/svg\" height=\"24px\" viewBox=\"0 -960 960 960\">\n",
       "    <path d=\"M120-120v-720h720v720H120Zm60-500h600v-160H180v160Zm220 220h160v-160H400v160Zm0 220h160v-160H400v160ZM180-400h160v-160H180v160Zm440 0h160v-160H620v160ZM180-180h160v-160H180v160Zm440 0h160v-160H620v160Z\"/>\n",
       "  </svg>\n",
       "    </button>\n",
       "\n",
       "  <style>\n",
       "    .colab-df-container {\n",
       "      display:flex;\n",
       "      gap: 12px;\n",
       "    }\n",
       "\n",
       "    .colab-df-convert {\n",
       "      background-color: #E8F0FE;\n",
       "      border: none;\n",
       "      border-radius: 50%;\n",
       "      cursor: pointer;\n",
       "      display: none;\n",
       "      fill: #1967D2;\n",
       "      height: 32px;\n",
       "      padding: 0 0 0 0;\n",
       "      width: 32px;\n",
       "    }\n",
       "\n",
       "    .colab-df-convert:hover {\n",
       "      background-color: #E2EBFA;\n",
       "      box-shadow: 0px 1px 2px rgba(60, 64, 67, 0.3), 0px 1px 3px 1px rgba(60, 64, 67, 0.15);\n",
       "      fill: #174EA6;\n",
       "    }\n",
       "\n",
       "    .colab-df-buttons div {\n",
       "      margin-bottom: 4px;\n",
       "    }\n",
       "\n",
       "    [theme=dark] .colab-df-convert {\n",
       "      background-color: #3B4455;\n",
       "      fill: #D2E3FC;\n",
       "    }\n",
       "\n",
       "    [theme=dark] .colab-df-convert:hover {\n",
       "      background-color: #434B5C;\n",
       "      box-shadow: 0px 1px 3px 1px rgba(0, 0, 0, 0.15);\n",
       "      filter: drop-shadow(0px 1px 2px rgba(0, 0, 0, 0.3));\n",
       "      fill: #FFFFFF;\n",
       "    }\n",
       "  </style>\n",
       "\n",
       "    <script>\n",
       "      const buttonEl =\n",
       "        document.querySelector('#df-dc4f9d3c-1757-49d0-b3b7-b889381fad32 button.colab-df-convert');\n",
       "      buttonEl.style.display =\n",
       "        google.colab.kernel.accessAllowed ? 'block' : 'none';\n",
       "\n",
       "      async function convertToInteractive(key) {\n",
       "        const element = document.querySelector('#df-dc4f9d3c-1757-49d0-b3b7-b889381fad32');\n",
       "        const dataTable =\n",
       "          await google.colab.kernel.invokeFunction('convertToInteractive',\n",
       "                                                    [key], {});\n",
       "        if (!dataTable) return;\n",
       "\n",
       "        const docLinkHtml = 'Like what you see? Visit the ' +\n",
       "          '<a target=\"_blank\" href=https://colab.research.google.com/notebooks/data_table.ipynb>data table notebook</a>'\n",
       "          + ' to learn more about interactive tables.';\n",
       "        element.innerHTML = '';\n",
       "        dataTable['output_type'] = 'display_data';\n",
       "        await google.colab.output.renderOutput(dataTable, element);\n",
       "        const docLink = document.createElement('div');\n",
       "        docLink.innerHTML = docLinkHtml;\n",
       "        element.appendChild(docLink);\n",
       "      }\n",
       "    </script>\n",
       "  </div>\n",
       "\n",
       "\n",
       "<div id=\"df-e00acb2b-2212-4d82-9724-d6937e4aa492\">\n",
       "  <button class=\"colab-df-quickchart\" onclick=\"quickchart('df-e00acb2b-2212-4d82-9724-d6937e4aa492')\"\n",
       "            title=\"Suggest charts\"\n",
       "            style=\"display:none;\">\n",
       "\n",
       "<svg xmlns=\"http://www.w3.org/2000/svg\" height=\"24px\"viewBox=\"0 0 24 24\"\n",
       "     width=\"24px\">\n",
       "    <g>\n",
       "        <path d=\"M19 3H5c-1.1 0-2 .9-2 2v14c0 1.1.9 2 2 2h14c1.1 0 2-.9 2-2V5c0-1.1-.9-2-2-2zM9 17H7v-7h2v7zm4 0h-2V7h2v10zm4 0h-2v-4h2v4z\"/>\n",
       "    </g>\n",
       "</svg>\n",
       "  </button>\n",
       "\n",
       "<style>\n",
       "  .colab-df-quickchart {\n",
       "      --bg-color: #E8F0FE;\n",
       "      --fill-color: #1967D2;\n",
       "      --hover-bg-color: #E2EBFA;\n",
       "      --hover-fill-color: #174EA6;\n",
       "      --disabled-fill-color: #AAA;\n",
       "      --disabled-bg-color: #DDD;\n",
       "  }\n",
       "\n",
       "  [theme=dark] .colab-df-quickchart {\n",
       "      --bg-color: #3B4455;\n",
       "      --fill-color: #D2E3FC;\n",
       "      --hover-bg-color: #434B5C;\n",
       "      --hover-fill-color: #FFFFFF;\n",
       "      --disabled-bg-color: #3B4455;\n",
       "      --disabled-fill-color: #666;\n",
       "  }\n",
       "\n",
       "  .colab-df-quickchart {\n",
       "    background-color: var(--bg-color);\n",
       "    border: none;\n",
       "    border-radius: 50%;\n",
       "    cursor: pointer;\n",
       "    display: none;\n",
       "    fill: var(--fill-color);\n",
       "    height: 32px;\n",
       "    padding: 0;\n",
       "    width: 32px;\n",
       "  }\n",
       "\n",
       "  .colab-df-quickchart:hover {\n",
       "    background-color: var(--hover-bg-color);\n",
       "    box-shadow: 0 1px 2px rgba(60, 64, 67, 0.3), 0 1px 3px 1px rgba(60, 64, 67, 0.15);\n",
       "    fill: var(--button-hover-fill-color);\n",
       "  }\n",
       "\n",
       "  .colab-df-quickchart-complete:disabled,\n",
       "  .colab-df-quickchart-complete:disabled:hover {\n",
       "    background-color: var(--disabled-bg-color);\n",
       "    fill: var(--disabled-fill-color);\n",
       "    box-shadow: none;\n",
       "  }\n",
       "\n",
       "  .colab-df-spinner {\n",
       "    border: 2px solid var(--fill-color);\n",
       "    border-color: transparent;\n",
       "    border-bottom-color: var(--fill-color);\n",
       "    animation:\n",
       "      spin 1s steps(1) infinite;\n",
       "  }\n",
       "\n",
       "  @keyframes spin {\n",
       "    0% {\n",
       "      border-color: transparent;\n",
       "      border-bottom-color: var(--fill-color);\n",
       "      border-left-color: var(--fill-color);\n",
       "    }\n",
       "    20% {\n",
       "      border-color: transparent;\n",
       "      border-left-color: var(--fill-color);\n",
       "      border-top-color: var(--fill-color);\n",
       "    }\n",
       "    30% {\n",
       "      border-color: transparent;\n",
       "      border-left-color: var(--fill-color);\n",
       "      border-top-color: var(--fill-color);\n",
       "      border-right-color: var(--fill-color);\n",
       "    }\n",
       "    40% {\n",
       "      border-color: transparent;\n",
       "      border-right-color: var(--fill-color);\n",
       "      border-top-color: var(--fill-color);\n",
       "    }\n",
       "    60% {\n",
       "      border-color: transparent;\n",
       "      border-right-color: var(--fill-color);\n",
       "    }\n",
       "    80% {\n",
       "      border-color: transparent;\n",
       "      border-right-color: var(--fill-color);\n",
       "      border-bottom-color: var(--fill-color);\n",
       "    }\n",
       "    90% {\n",
       "      border-color: transparent;\n",
       "      border-bottom-color: var(--fill-color);\n",
       "    }\n",
       "  }\n",
       "</style>\n",
       "\n",
       "  <script>\n",
       "    async function quickchart(key) {\n",
       "      const quickchartButtonEl =\n",
       "        document.querySelector('#' + key + ' button');\n",
       "      quickchartButtonEl.disabled = true;  // To prevent multiple clicks.\n",
       "      quickchartButtonEl.classList.add('colab-df-spinner');\n",
       "      try {\n",
       "        const charts = await google.colab.kernel.invokeFunction(\n",
       "            'suggestCharts', [key], {});\n",
       "      } catch (error) {\n",
       "        console.error('Error during call to suggestCharts:', error);\n",
       "      }\n",
       "      quickchartButtonEl.classList.remove('colab-df-spinner');\n",
       "      quickchartButtonEl.classList.add('colab-df-quickchart-complete');\n",
       "    }\n",
       "    (() => {\n",
       "      let quickchartButtonEl =\n",
       "        document.querySelector('#df-e00acb2b-2212-4d82-9724-d6937e4aa492 button');\n",
       "      quickchartButtonEl.style.display =\n",
       "        google.colab.kernel.accessAllowed ? 'block' : 'none';\n",
       "    })();\n",
       "  </script>\n",
       "</div>\n",
       "\n",
       "    </div>\n",
       "  </div>\n"
      ],
      "text/plain": [
       "                               reviewId           userName  \\\n",
       "0  a8a272de-61d1-4826-9448-8dcb4ebd216c        NIHAD Momii   \n",
       "1  9ad8998b-0ba2-4b9a-9c2c-2491928e7321      Jennifer Bado   \n",
       "2  ccd25096-beaa-4c48-bac1-874293fbd85a  Abdul Hadi Rajput   \n",
       "3  0fcd51ae-bfc0-4a5d-90cc-c0eea1e24d26      Mvelo Luthuli   \n",
       "4  573bd7c7-a552-4156-b7cf-da1c2406eae6    Pratistha Singh   \n",
       "\n",
       "                                             content  score  thumbsUpCount  \\\n",
       "0                                   Bad devolopers👎👎      1              0   \n",
       "1                             Nice movie marathon 🤩🤩      5              0   \n",
       "2                                   Best application      5              0   \n",
       "3  Im unable to find some other shows on the Netf...      3              0   \n",
       "4  It keeps shutting down my phone every time i o...      1              0   \n",
       "\n",
       "     reviewCreatedVersion                   at              appVersion  \n",
       "0   8.137.0 build 4 50942  2024-10-25 14:00:19   8.137.0 build 4 50942  \n",
       "1   8.137.0 build 4 50942  2024-10-25 13:57:52   8.137.0 build 4 50942  \n",
       "2   8.137.0 build 4 50942  2024-10-25 13:53:31   8.137.0 build 4 50942  \n",
       "3  8.132.2 build 18 50846  2024-10-25 13:53:20  8.132.2 build 18 50846  \n",
       "4   8.137.0 build 4 50942  2024-10-25 13:51:34   8.137.0 build 4 50942  "
      ]
     },
     "execution_count": 3,
     "metadata": {},
     "output_type": "execute_result"
    }
   ],
   "source": [
    "df.head()"
   ]
  },
  {
   "cell_type": "code",
   "execution_count": null,
   "metadata": {
    "colab": {
     "background_save": true
    },
    "id": "B0JZUIJSBezE",
    "outputId": "61969771-b369-4852-c8ad-f8dd3886c36e"
   },
   "outputs": [
    {
     "data": {
      "application/vnd.google.colaboratory.intrinsic+json": {
       "repr_error": "0",
       "type": "dataframe"
      },
      "text/html": [
       "\n",
       "  <div id=\"df-5f0fa3d9-2adf-4770-9e33-cb9928da6cf5\" class=\"colab-df-container\">\n",
       "    <div>\n",
       "<style scoped>\n",
       "    .dataframe tbody tr th:only-of-type {\n",
       "        vertical-align: middle;\n",
       "    }\n",
       "\n",
       "    .dataframe tbody tr th {\n",
       "        vertical-align: top;\n",
       "    }\n",
       "\n",
       "    .dataframe thead th {\n",
       "        text-align: right;\n",
       "    }\n",
       "</style>\n",
       "<table border=\"1\" class=\"dataframe\">\n",
       "  <thead>\n",
       "    <tr style=\"text-align: right;\">\n",
       "      <th></th>\n",
       "      <th>reviewId</th>\n",
       "      <th>userName</th>\n",
       "      <th>content</th>\n",
       "      <th>score</th>\n",
       "      <th>thumbsUpCount</th>\n",
       "      <th>reviewCreatedVersion</th>\n",
       "      <th>at</th>\n",
       "      <th>appVersion</th>\n",
       "    </tr>\n",
       "  </thead>\n",
       "  <tbody>\n",
       "    <tr>\n",
       "      <th>117449</th>\n",
       "      <td>a760ead9-e7aa-4ed1-a651-5c37c3600dac</td>\n",
       "      <td>A Google user</td>\n",
       "      <td>i really like it! there are so many movies and...</td>\n",
       "      <td>5</td>\n",
       "      <td>0</td>\n",
       "      <td>NaN</td>\n",
       "      <td>2019-08-03 15:06:03</td>\n",
       "      <td>NaN</td>\n",
       "    </tr>\n",
       "    <tr>\n",
       "      <th>117450</th>\n",
       "      <td>4957f9e7-d7f4-4a52-9764-031cebcac83f</td>\n",
       "      <td>Captain Jeoy</td>\n",
       "      <td>I love Netflix. I always enjoy my time using it.</td>\n",
       "      <td>5</td>\n",
       "      <td>0</td>\n",
       "      <td>8.34.0 build 4 50250</td>\n",
       "      <td>2022-08-15 16:16:30</td>\n",
       "      <td>8.34.0 build 4 50250</td>\n",
       "    </tr>\n",
       "    <tr>\n",
       "      <th>117451</th>\n",
       "      <td>9acf7586-7abf-4b50-8c50-3ede3b2a42c4</td>\n",
       "      <td>Suryansh</td>\n",
       "      <td>Sound quality is very slow of movies</td>\n",
       "      <td>1</td>\n",
       "      <td>0</td>\n",
       "      <td>NaN</td>\n",
       "      <td>2020-08-17 07:26:58</td>\n",
       "      <td>NaN</td>\n",
       "    </tr>\n",
       "    <tr>\n",
       "      <th>117452</th>\n",
       "      <td>32870f7f-c461-4256-b602-75244ca60248</td>\n",
       "      <td>A Google user</td>\n",
       "      <td>Rate is very expensive.. bcos we see netflix s...</td>\n",
       "      <td>1</td>\n",
       "      <td>0</td>\n",
       "      <td>7.17.0 build 13 34346</td>\n",
       "      <td>2019-07-21 09:41:42</td>\n",
       "      <td>7.17.0 build 13 34346</td>\n",
       "    </tr>\n",
       "    <tr>\n",
       "      <th>117453</th>\n",
       "      <td>dc1352e9-10a8-41ca-ab23-05d045b08e90</td>\n",
       "      <td>suraj soni</td>\n",
       "      <td>this app is awesome for english movies ,series...</td>\n",
       "      <td>4</td>\n",
       "      <td>0</td>\n",
       "      <td>NaN</td>\n",
       "      <td>2020-05-24 11:04:08</td>\n",
       "      <td>NaN</td>\n",
       "    </tr>\n",
       "  </tbody>\n",
       "</table>\n",
       "</div>\n",
       "    <div class=\"colab-df-buttons\">\n",
       "\n",
       "  <div class=\"colab-df-container\">\n",
       "    <button class=\"colab-df-convert\" onclick=\"convertToInteractive('df-5f0fa3d9-2adf-4770-9e33-cb9928da6cf5')\"\n",
       "            title=\"Convert this dataframe to an interactive table.\"\n",
       "            style=\"display:none;\">\n",
       "\n",
       "  <svg xmlns=\"http://www.w3.org/2000/svg\" height=\"24px\" viewBox=\"0 -960 960 960\">\n",
       "    <path d=\"M120-120v-720h720v720H120Zm60-500h600v-160H180v160Zm220 220h160v-160H400v160Zm0 220h160v-160H400v160ZM180-400h160v-160H180v160Zm440 0h160v-160H620v160ZM180-180h160v-160H180v160Zm440 0h160v-160H620v160Z\"/>\n",
       "  </svg>\n",
       "    </button>\n",
       "\n",
       "  <style>\n",
       "    .colab-df-container {\n",
       "      display:flex;\n",
       "      gap: 12px;\n",
       "    }\n",
       "\n",
       "    .colab-df-convert {\n",
       "      background-color: #E8F0FE;\n",
       "      border: none;\n",
       "      border-radius: 50%;\n",
       "      cursor: pointer;\n",
       "      display: none;\n",
       "      fill: #1967D2;\n",
       "      height: 32px;\n",
       "      padding: 0 0 0 0;\n",
       "      width: 32px;\n",
       "    }\n",
       "\n",
       "    .colab-df-convert:hover {\n",
       "      background-color: #E2EBFA;\n",
       "      box-shadow: 0px 1px 2px rgba(60, 64, 67, 0.3), 0px 1px 3px 1px rgba(60, 64, 67, 0.15);\n",
       "      fill: #174EA6;\n",
       "    }\n",
       "\n",
       "    .colab-df-buttons div {\n",
       "      margin-bottom: 4px;\n",
       "    }\n",
       "\n",
       "    [theme=dark] .colab-df-convert {\n",
       "      background-color: #3B4455;\n",
       "      fill: #D2E3FC;\n",
       "    }\n",
       "\n",
       "    [theme=dark] .colab-df-convert:hover {\n",
       "      background-color: #434B5C;\n",
       "      box-shadow: 0px 1px 3px 1px rgba(0, 0, 0, 0.15);\n",
       "      filter: drop-shadow(0px 1px 2px rgba(0, 0, 0, 0.3));\n",
       "      fill: #FFFFFF;\n",
       "    }\n",
       "  </style>\n",
       "\n",
       "    <script>\n",
       "      const buttonEl =\n",
       "        document.querySelector('#df-5f0fa3d9-2adf-4770-9e33-cb9928da6cf5 button.colab-df-convert');\n",
       "      buttonEl.style.display =\n",
       "        google.colab.kernel.accessAllowed ? 'block' : 'none';\n",
       "\n",
       "      async function convertToInteractive(key) {\n",
       "        const element = document.querySelector('#df-5f0fa3d9-2adf-4770-9e33-cb9928da6cf5');\n",
       "        const dataTable =\n",
       "          await google.colab.kernel.invokeFunction('convertToInteractive',\n",
       "                                                    [key], {});\n",
       "        if (!dataTable) return;\n",
       "\n",
       "        const docLinkHtml = 'Like what you see? Visit the ' +\n",
       "          '<a target=\"_blank\" href=https://colab.research.google.com/notebooks/data_table.ipynb>data table notebook</a>'\n",
       "          + ' to learn more about interactive tables.';\n",
       "        element.innerHTML = '';\n",
       "        dataTable['output_type'] = 'display_data';\n",
       "        await google.colab.output.renderOutput(dataTable, element);\n",
       "        const docLink = document.createElement('div');\n",
       "        docLink.innerHTML = docLinkHtml;\n",
       "        element.appendChild(docLink);\n",
       "      }\n",
       "    </script>\n",
       "  </div>\n",
       "\n",
       "\n",
       "<div id=\"df-dfccae36-39ca-4f36-ae5c-98a38b5a2a5b\">\n",
       "  <button class=\"colab-df-quickchart\" onclick=\"quickchart('df-dfccae36-39ca-4f36-ae5c-98a38b5a2a5b')\"\n",
       "            title=\"Suggest charts\"\n",
       "            style=\"display:none;\">\n",
       "\n",
       "<svg xmlns=\"http://www.w3.org/2000/svg\" height=\"24px\"viewBox=\"0 0 24 24\"\n",
       "     width=\"24px\">\n",
       "    <g>\n",
       "        <path d=\"M19 3H5c-1.1 0-2 .9-2 2v14c0 1.1.9 2 2 2h14c1.1 0 2-.9 2-2V5c0-1.1-.9-2-2-2zM9 17H7v-7h2v7zm4 0h-2V7h2v10zm4 0h-2v-4h2v4z\"/>\n",
       "    </g>\n",
       "</svg>\n",
       "  </button>\n",
       "\n",
       "<style>\n",
       "  .colab-df-quickchart {\n",
       "      --bg-color: #E8F0FE;\n",
       "      --fill-color: #1967D2;\n",
       "      --hover-bg-color: #E2EBFA;\n",
       "      --hover-fill-color: #174EA6;\n",
       "      --disabled-fill-color: #AAA;\n",
       "      --disabled-bg-color: #DDD;\n",
       "  }\n",
       "\n",
       "  [theme=dark] .colab-df-quickchart {\n",
       "      --bg-color: #3B4455;\n",
       "      --fill-color: #D2E3FC;\n",
       "      --hover-bg-color: #434B5C;\n",
       "      --hover-fill-color: #FFFFFF;\n",
       "      --disabled-bg-color: #3B4455;\n",
       "      --disabled-fill-color: #666;\n",
       "  }\n",
       "\n",
       "  .colab-df-quickchart {\n",
       "    background-color: var(--bg-color);\n",
       "    border: none;\n",
       "    border-radius: 50%;\n",
       "    cursor: pointer;\n",
       "    display: none;\n",
       "    fill: var(--fill-color);\n",
       "    height: 32px;\n",
       "    padding: 0;\n",
       "    width: 32px;\n",
       "  }\n",
       "\n",
       "  .colab-df-quickchart:hover {\n",
       "    background-color: var(--hover-bg-color);\n",
       "    box-shadow: 0 1px 2px rgba(60, 64, 67, 0.3), 0 1px 3px 1px rgba(60, 64, 67, 0.15);\n",
       "    fill: var(--button-hover-fill-color);\n",
       "  }\n",
       "\n",
       "  .colab-df-quickchart-complete:disabled,\n",
       "  .colab-df-quickchart-complete:disabled:hover {\n",
       "    background-color: var(--disabled-bg-color);\n",
       "    fill: var(--disabled-fill-color);\n",
       "    box-shadow: none;\n",
       "  }\n",
       "\n",
       "  .colab-df-spinner {\n",
       "    border: 2px solid var(--fill-color);\n",
       "    border-color: transparent;\n",
       "    border-bottom-color: var(--fill-color);\n",
       "    animation:\n",
       "      spin 1s steps(1) infinite;\n",
       "  }\n",
       "\n",
       "  @keyframes spin {\n",
       "    0% {\n",
       "      border-color: transparent;\n",
       "      border-bottom-color: var(--fill-color);\n",
       "      border-left-color: var(--fill-color);\n",
       "    }\n",
       "    20% {\n",
       "      border-color: transparent;\n",
       "      border-left-color: var(--fill-color);\n",
       "      border-top-color: var(--fill-color);\n",
       "    }\n",
       "    30% {\n",
       "      border-color: transparent;\n",
       "      border-left-color: var(--fill-color);\n",
       "      border-top-color: var(--fill-color);\n",
       "      border-right-color: var(--fill-color);\n",
       "    }\n",
       "    40% {\n",
       "      border-color: transparent;\n",
       "      border-right-color: var(--fill-color);\n",
       "      border-top-color: var(--fill-color);\n",
       "    }\n",
       "    60% {\n",
       "      border-color: transparent;\n",
       "      border-right-color: var(--fill-color);\n",
       "    }\n",
       "    80% {\n",
       "      border-color: transparent;\n",
       "      border-right-color: var(--fill-color);\n",
       "      border-bottom-color: var(--fill-color);\n",
       "    }\n",
       "    90% {\n",
       "      border-color: transparent;\n",
       "      border-bottom-color: var(--fill-color);\n",
       "    }\n",
       "  }\n",
       "</style>\n",
       "\n",
       "  <script>\n",
       "    async function quickchart(key) {\n",
       "      const quickchartButtonEl =\n",
       "        document.querySelector('#' + key + ' button');\n",
       "      quickchartButtonEl.disabled = true;  // To prevent multiple clicks.\n",
       "      quickchartButtonEl.classList.add('colab-df-spinner');\n",
       "      try {\n",
       "        const charts = await google.colab.kernel.invokeFunction(\n",
       "            'suggestCharts', [key], {});\n",
       "      } catch (error) {\n",
       "        console.error('Error during call to suggestCharts:', error);\n",
       "      }\n",
       "      quickchartButtonEl.classList.remove('colab-df-spinner');\n",
       "      quickchartButtonEl.classList.add('colab-df-quickchart-complete');\n",
       "    }\n",
       "    (() => {\n",
       "      let quickchartButtonEl =\n",
       "        document.querySelector('#df-dfccae36-39ca-4f36-ae5c-98a38b5a2a5b button');\n",
       "      quickchartButtonEl.style.display =\n",
       "        google.colab.kernel.accessAllowed ? 'block' : 'none';\n",
       "    })();\n",
       "  </script>\n",
       "</div>\n",
       "\n",
       "    </div>\n",
       "  </div>\n"
      ],
      "text/plain": [
       "                                    reviewId       userName  \\\n",
       "117449  a760ead9-e7aa-4ed1-a651-5c37c3600dac  A Google user   \n",
       "117450  4957f9e7-d7f4-4a52-9764-031cebcac83f   Captain Jeoy   \n",
       "117451  9acf7586-7abf-4b50-8c50-3ede3b2a42c4       Suryansh   \n",
       "117452  32870f7f-c461-4256-b602-75244ca60248  A Google user   \n",
       "117453  dc1352e9-10a8-41ca-ab23-05d045b08e90     suraj soni   \n",
       "\n",
       "                                                  content  score  \\\n",
       "117449  i really like it! there are so many movies and...      5   \n",
       "117450   I love Netflix. I always enjoy my time using it.      5   \n",
       "117451               Sound quality is very slow of movies      1   \n",
       "117452  Rate is very expensive.. bcos we see netflix s...      1   \n",
       "117453  this app is awesome for english movies ,series...      4   \n",
       "\n",
       "        thumbsUpCount   reviewCreatedVersion                   at  \\\n",
       "117449              0                    NaN  2019-08-03 15:06:03   \n",
       "117450              0   8.34.0 build 4 50250  2022-08-15 16:16:30   \n",
       "117451              0                    NaN  2020-08-17 07:26:58   \n",
       "117452              0  7.17.0 build 13 34346  2019-07-21 09:41:42   \n",
       "117453              0                    NaN  2020-05-24 11:04:08   \n",
       "\n",
       "                   appVersion  \n",
       "117449                    NaN  \n",
       "117450   8.34.0 build 4 50250  \n",
       "117451                    NaN  \n",
       "117452  7.17.0 build 13 34346  \n",
       "117453                    NaN  "
      ]
     },
     "execution_count": 4,
     "metadata": {},
     "output_type": "execute_result"
    }
   ],
   "source": [
    "df.tail()"
   ]
  },
  {
   "cell_type": "code",
   "execution_count": null,
   "metadata": {
    "colab": {
     "background_save": true
    },
    "id": "8iree8aKBhSr",
    "outputId": "a33989c5-7860-41a6-87e6-1e4423c12c05"
   },
   "outputs": [
    {
     "name": "stdout",
     "output_type": "stream",
     "text": [
      "Shape of the dataset: (117454, 8)\n",
      "Columns in the dataset: Index(['reviewId', 'userName', 'content', 'score', 'thumbsUpCount',\n",
      "       'reviewCreatedVersion', 'at', 'appVersion'],\n",
      "      dtype='object')\n"
     ]
    }
   ],
   "source": [
    "print(f'Shape of the dataset: {df.shape}')\n",
    "print(f'Columns in the dataset: {df.columns}')"
   ]
  },
  {
   "cell_type": "markdown",
   "metadata": {
    "id": "1Oqnil4VxfYf"
   },
   "source": [
    "### 2. 데이터 전처리"
   ]
  },
  {
   "cell_type": "code",
   "execution_count": null,
   "metadata": {
    "colab": {
     "background_save": true
    },
    "id": "0SdCh2hFBl_j",
    "outputId": "845808f3-9eac-4747-8a5e-0946e581c404"
   },
   "outputs": [
    {
     "name": "stderr",
     "output_type": "stream",
     "text": [
      "[nltk_data] Downloading package stopwords to /root/nltk_data...\n",
      "[nltk_data]   Unzipping corpora/stopwords.zip.\n"
     ]
    }
   ],
   "source": [
    "import re  # 정규 표현식을 사용하기 위함\n",
    "import nltk  # natural language toolkit\n",
    "from nltk.corpus import stopwords\n",
    "from nltk.tokenize import word_tokenize\n",
    "nltk.download('stopwords')\n",
    "\n",
    "# 전처리 함수\n",
    "def preprocess_text(text):\n",
    "    if isinstance(text, float):\n",
    "        return \"\"\n",
    "    text = text.lower()  # 대문자를 소문자로\n",
    "    text = text.strip()  # 띄어쓰기 제외하고 빈 칸 제거\n",
    "    pattern = r'[^a-zA-Z가-힣]'\n",
    "    text = re.sub(r'[^a-zA-Z\\s.!?,]', '', text)  # 알파벳, 공백, 그리고 일부 구두점만 유지\n",
    "    return text\n",
    "\n",
    "# 불필요한 열 제거\n",
    "df = df[['content', 'score']]\n",
    "\n",
    "# 리뷰 텍스트 정제\n",
    "df['content'] = df['content'].apply(preprocess_text)\n",
    "\n",
    "# 불용어 제거\n",
    "stop_words = set(stopwords.words('english'))\n",
    "def remove_stopwords(text):\n",
    "    words = text.split()\n",
    "    words = [word for word in words if word not in stop_words]\n",
    "    return ' '.join(words)\n",
    "\n",
    "df['content'] = df['content'].apply(remove_stopwords)"
   ]
  },
  {
   "cell_type": "code",
   "execution_count": null,
   "metadata": {
    "colab": {
     "background_save": true
    },
    "id": "zA6reR4DhMxJ",
    "outputId": "8d00c0d6-0220-47cd-d682-d9b6a241e087"
   },
   "outputs": [
    {
     "data": {
      "application/vnd.google.colaboratory.intrinsic+json": {
       "type": "dataframe",
       "variable_name": "df"
      },
      "text/html": [
       "\n",
       "  <div id=\"df-3a16efdf-89e3-4880-a122-69045b1d9acf\" class=\"colab-df-container\">\n",
       "    <div>\n",
       "<style scoped>\n",
       "    .dataframe tbody tr th:only-of-type {\n",
       "        vertical-align: middle;\n",
       "    }\n",
       "\n",
       "    .dataframe tbody tr th {\n",
       "        vertical-align: top;\n",
       "    }\n",
       "\n",
       "    .dataframe thead th {\n",
       "        text-align: right;\n",
       "    }\n",
       "</style>\n",
       "<table border=\"1\" class=\"dataframe\">\n",
       "  <thead>\n",
       "    <tr style=\"text-align: right;\">\n",
       "      <th></th>\n",
       "      <th>content</th>\n",
       "      <th>score</th>\n",
       "    </tr>\n",
       "  </thead>\n",
       "  <tbody>\n",
       "    <tr>\n",
       "      <th>0</th>\n",
       "      <td>bad devolopers</td>\n",
       "      <td>1</td>\n",
       "    </tr>\n",
       "    <tr>\n",
       "      <th>1</th>\n",
       "      <td>nice movie marathon</td>\n",
       "      <td>5</td>\n",
       "    </tr>\n",
       "    <tr>\n",
       "      <th>2</th>\n",
       "      <td>best application</td>\n",
       "      <td>5</td>\n",
       "    </tr>\n",
       "    <tr>\n",
       "      <th>3</th>\n",
       "      <td>im unable find shows netflix platform..so isnt...</td>\n",
       "      <td>3</td>\n",
       "    </tr>\n",
       "    <tr>\n",
       "      <th>4</th>\n",
       "      <td>keeps shutting phone every time open</td>\n",
       "      <td>1</td>\n",
       "    </tr>\n",
       "    <tr>\n",
       "      <th>5</th>\n",
       "      <td>entertaining platform amaizing movies dubbed n...</td>\n",
       "      <td>5</td>\n",
       "    </tr>\n",
       "    <tr>\n",
       "      <th>6</th>\n",
       "      <td>nice</td>\n",
       "      <td>5</td>\n",
       "    </tr>\n",
       "    <tr>\n",
       "      <th>7</th>\n",
       "      <td>humble request,pls add moon lovers scarlet hea...</td>\n",
       "      <td>5</td>\n",
       "    </tr>\n",
       "    <tr>\n",
       "      <th>8</th>\n",
       "      <td>awesome</td>\n",
       "      <td>5</td>\n",
       "    </tr>\n",
       "    <tr>\n",
       "      <th>9</th>\n",
       "      <td>netflix got sign profile</td>\n",
       "      <td>1</td>\n",
       "    </tr>\n",
       "    <tr>\n",
       "      <th>10</th>\n",
       "      <td>seems whole lot better used</td>\n",
       "      <td>5</td>\n",
       "    </tr>\n",
       "    <tr>\n",
       "      <th>11</th>\n",
       "      <td></td>\n",
       "      <td>5</td>\n",
       "    </tr>\n",
       "    <tr>\n",
       "      <th>12</th>\n",
       "      <td>time old move waste time waste money</td>\n",
       "      <td>1</td>\n",
       "    </tr>\n",
       "    <tr>\n",
       "      <th>13</th>\n",
       "      <td>able play mobile restated several times uninst...</td>\n",
       "      <td>1</td>\n",
       "    </tr>\n",
       "    <tr>\n",
       "      <th>14</th>\n",
       "      <td>ok</td>\n",
       "      <td>5</td>\n",
       "    </tr>\n",
       "    <tr>\n",
       "      <th>15</th>\n",
       "      <td>paid , cannot log in. many time like this. whyy ?</td>\n",
       "      <td>1</td>\n",
       "    </tr>\n",
       "    <tr>\n",
       "      <th>16</th>\n",
       "      <td>app bad app want money first invest money watc...</td>\n",
       "      <td>1</td>\n",
       "    </tr>\n",
       "    <tr>\n",
       "      <th>17</th>\n",
       "      <td>bad difficult sign</td>\n",
       "      <td>1</td>\n",
       "    </tr>\n",
       "    <tr>\n",
       "      <th>18</th>\n",
       "      <td>better</td>\n",
       "      <td>2</td>\n",
       "    </tr>\n",
       "    <tr>\n",
       "      <th>19</th>\n",
       "      <td>become nusense stts</td>\n",
       "      <td>1</td>\n",
       "    </tr>\n",
       "  </tbody>\n",
       "</table>\n",
       "</div>\n",
       "    <div class=\"colab-df-buttons\">\n",
       "\n",
       "  <div class=\"colab-df-container\">\n",
       "    <button class=\"colab-df-convert\" onclick=\"convertToInteractive('df-3a16efdf-89e3-4880-a122-69045b1d9acf')\"\n",
       "            title=\"Convert this dataframe to an interactive table.\"\n",
       "            style=\"display:none;\">\n",
       "\n",
       "  <svg xmlns=\"http://www.w3.org/2000/svg\" height=\"24px\" viewBox=\"0 -960 960 960\">\n",
       "    <path d=\"M120-120v-720h720v720H120Zm60-500h600v-160H180v160Zm220 220h160v-160H400v160Zm0 220h160v-160H400v160ZM180-400h160v-160H180v160Zm440 0h160v-160H620v160ZM180-180h160v-160H180v160Zm440 0h160v-160H620v160Z\"/>\n",
       "  </svg>\n",
       "    </button>\n",
       "\n",
       "  <style>\n",
       "    .colab-df-container {\n",
       "      display:flex;\n",
       "      gap: 12px;\n",
       "    }\n",
       "\n",
       "    .colab-df-convert {\n",
       "      background-color: #E8F0FE;\n",
       "      border: none;\n",
       "      border-radius: 50%;\n",
       "      cursor: pointer;\n",
       "      display: none;\n",
       "      fill: #1967D2;\n",
       "      height: 32px;\n",
       "      padding: 0 0 0 0;\n",
       "      width: 32px;\n",
       "    }\n",
       "\n",
       "    .colab-df-convert:hover {\n",
       "      background-color: #E2EBFA;\n",
       "      box-shadow: 0px 1px 2px rgba(60, 64, 67, 0.3), 0px 1px 3px 1px rgba(60, 64, 67, 0.15);\n",
       "      fill: #174EA6;\n",
       "    }\n",
       "\n",
       "    .colab-df-buttons div {\n",
       "      margin-bottom: 4px;\n",
       "    }\n",
       "\n",
       "    [theme=dark] .colab-df-convert {\n",
       "      background-color: #3B4455;\n",
       "      fill: #D2E3FC;\n",
       "    }\n",
       "\n",
       "    [theme=dark] .colab-df-convert:hover {\n",
       "      background-color: #434B5C;\n",
       "      box-shadow: 0px 1px 3px 1px rgba(0, 0, 0, 0.15);\n",
       "      filter: drop-shadow(0px 1px 2px rgba(0, 0, 0, 0.3));\n",
       "      fill: #FFFFFF;\n",
       "    }\n",
       "  </style>\n",
       "\n",
       "    <script>\n",
       "      const buttonEl =\n",
       "        document.querySelector('#df-3a16efdf-89e3-4880-a122-69045b1d9acf button.colab-df-convert');\n",
       "      buttonEl.style.display =\n",
       "        google.colab.kernel.accessAllowed ? 'block' : 'none';\n",
       "\n",
       "      async function convertToInteractive(key) {\n",
       "        const element = document.querySelector('#df-3a16efdf-89e3-4880-a122-69045b1d9acf');\n",
       "        const dataTable =\n",
       "          await google.colab.kernel.invokeFunction('convertToInteractive',\n",
       "                                                    [key], {});\n",
       "        if (!dataTable) return;\n",
       "\n",
       "        const docLinkHtml = 'Like what you see? Visit the ' +\n",
       "          '<a target=\"_blank\" href=https://colab.research.google.com/notebooks/data_table.ipynb>data table notebook</a>'\n",
       "          + ' to learn more about interactive tables.';\n",
       "        element.innerHTML = '';\n",
       "        dataTable['output_type'] = 'display_data';\n",
       "        await google.colab.output.renderOutput(dataTable, element);\n",
       "        const docLink = document.createElement('div');\n",
       "        docLink.innerHTML = docLinkHtml;\n",
       "        element.appendChild(docLink);\n",
       "      }\n",
       "    </script>\n",
       "  </div>\n",
       "\n",
       "\n",
       "<div id=\"df-2e5e2771-263d-422e-a535-849df07a7439\">\n",
       "  <button class=\"colab-df-quickchart\" onclick=\"quickchart('df-2e5e2771-263d-422e-a535-849df07a7439')\"\n",
       "            title=\"Suggest charts\"\n",
       "            style=\"display:none;\">\n",
       "\n",
       "<svg xmlns=\"http://www.w3.org/2000/svg\" height=\"24px\"viewBox=\"0 0 24 24\"\n",
       "     width=\"24px\">\n",
       "    <g>\n",
       "        <path d=\"M19 3H5c-1.1 0-2 .9-2 2v14c0 1.1.9 2 2 2h14c1.1 0 2-.9 2-2V5c0-1.1-.9-2-2-2zM9 17H7v-7h2v7zm4 0h-2V7h2v10zm4 0h-2v-4h2v4z\"/>\n",
       "    </g>\n",
       "</svg>\n",
       "  </button>\n",
       "\n",
       "<style>\n",
       "  .colab-df-quickchart {\n",
       "      --bg-color: #E8F0FE;\n",
       "      --fill-color: #1967D2;\n",
       "      --hover-bg-color: #E2EBFA;\n",
       "      --hover-fill-color: #174EA6;\n",
       "      --disabled-fill-color: #AAA;\n",
       "      --disabled-bg-color: #DDD;\n",
       "  }\n",
       "\n",
       "  [theme=dark] .colab-df-quickchart {\n",
       "      --bg-color: #3B4455;\n",
       "      --fill-color: #D2E3FC;\n",
       "      --hover-bg-color: #434B5C;\n",
       "      --hover-fill-color: #FFFFFF;\n",
       "      --disabled-bg-color: #3B4455;\n",
       "      --disabled-fill-color: #666;\n",
       "  }\n",
       "\n",
       "  .colab-df-quickchart {\n",
       "    background-color: var(--bg-color);\n",
       "    border: none;\n",
       "    border-radius: 50%;\n",
       "    cursor: pointer;\n",
       "    display: none;\n",
       "    fill: var(--fill-color);\n",
       "    height: 32px;\n",
       "    padding: 0;\n",
       "    width: 32px;\n",
       "  }\n",
       "\n",
       "  .colab-df-quickchart:hover {\n",
       "    background-color: var(--hover-bg-color);\n",
       "    box-shadow: 0 1px 2px rgba(60, 64, 67, 0.3), 0 1px 3px 1px rgba(60, 64, 67, 0.15);\n",
       "    fill: var(--button-hover-fill-color);\n",
       "  }\n",
       "\n",
       "  .colab-df-quickchart-complete:disabled,\n",
       "  .colab-df-quickchart-complete:disabled:hover {\n",
       "    background-color: var(--disabled-bg-color);\n",
       "    fill: var(--disabled-fill-color);\n",
       "    box-shadow: none;\n",
       "  }\n",
       "\n",
       "  .colab-df-spinner {\n",
       "    border: 2px solid var(--fill-color);\n",
       "    border-color: transparent;\n",
       "    border-bottom-color: var(--fill-color);\n",
       "    animation:\n",
       "      spin 1s steps(1) infinite;\n",
       "  }\n",
       "\n",
       "  @keyframes spin {\n",
       "    0% {\n",
       "      border-color: transparent;\n",
       "      border-bottom-color: var(--fill-color);\n",
       "      border-left-color: var(--fill-color);\n",
       "    }\n",
       "    20% {\n",
       "      border-color: transparent;\n",
       "      border-left-color: var(--fill-color);\n",
       "      border-top-color: var(--fill-color);\n",
       "    }\n",
       "    30% {\n",
       "      border-color: transparent;\n",
       "      border-left-color: var(--fill-color);\n",
       "      border-top-color: var(--fill-color);\n",
       "      border-right-color: var(--fill-color);\n",
       "    }\n",
       "    40% {\n",
       "      border-color: transparent;\n",
       "      border-right-color: var(--fill-color);\n",
       "      border-top-color: var(--fill-color);\n",
       "    }\n",
       "    60% {\n",
       "      border-color: transparent;\n",
       "      border-right-color: var(--fill-color);\n",
       "    }\n",
       "    80% {\n",
       "      border-color: transparent;\n",
       "      border-right-color: var(--fill-color);\n",
       "      border-bottom-color: var(--fill-color);\n",
       "    }\n",
       "    90% {\n",
       "      border-color: transparent;\n",
       "      border-bottom-color: var(--fill-color);\n",
       "    }\n",
       "  }\n",
       "</style>\n",
       "\n",
       "  <script>\n",
       "    async function quickchart(key) {\n",
       "      const quickchartButtonEl =\n",
       "        document.querySelector('#' + key + ' button');\n",
       "      quickchartButtonEl.disabled = true;  // To prevent multiple clicks.\n",
       "      quickchartButtonEl.classList.add('colab-df-spinner');\n",
       "      try {\n",
       "        const charts = await google.colab.kernel.invokeFunction(\n",
       "            'suggestCharts', [key], {});\n",
       "      } catch (error) {\n",
       "        console.error('Error during call to suggestCharts:', error);\n",
       "      }\n",
       "      quickchartButtonEl.classList.remove('colab-df-spinner');\n",
       "      quickchartButtonEl.classList.add('colab-df-quickchart-complete');\n",
       "    }\n",
       "    (() => {\n",
       "      let quickchartButtonEl =\n",
       "        document.querySelector('#df-2e5e2771-263d-422e-a535-849df07a7439 button');\n",
       "      quickchartButtonEl.style.display =\n",
       "        google.colab.kernel.accessAllowed ? 'block' : 'none';\n",
       "    })();\n",
       "  </script>\n",
       "</div>\n",
       "\n",
       "    </div>\n",
       "  </div>\n"
      ],
      "text/plain": [
       "                                              content  score\n",
       "0                                      bad devolopers      1\n",
       "1                                 nice movie marathon      5\n",
       "2                                    best application      5\n",
       "3   im unable find shows netflix platform..so isnt...      3\n",
       "4                keeps shutting phone every time open      1\n",
       "5   entertaining platform amaizing movies dubbed n...      5\n",
       "6                                                nice      5\n",
       "7   humble request,pls add moon lovers scarlet hea...      5\n",
       "8                                             awesome      5\n",
       "9                            netflix got sign profile      1\n",
       "10                        seems whole lot better used      5\n",
       "11                                                         5\n",
       "12               time old move waste time waste money      1\n",
       "13  able play mobile restated several times uninst...      1\n",
       "14                                                 ok      5\n",
       "15  paid , cannot log in. many time like this. whyy ?      1\n",
       "16  app bad app want money first invest money watc...      1\n",
       "17                                 bad difficult sign      1\n",
       "18                                             better      2\n",
       "19                                become nusense stts      1"
      ]
     },
     "execution_count": 7,
     "metadata": {},
     "output_type": "execute_result"
    }
   ],
   "source": [
    "df.head(20)"
   ]
  },
  {
   "cell_type": "markdown",
   "metadata": {
    "id": "BdaI8Y59xmwf"
   },
   "source": [
    "### 3. feature 분석 (EDA)"
   ]
  },
  {
   "cell_type": "code",
   "execution_count": null,
   "metadata": {
    "colab": {
     "background_save": true
    },
    "id": "uBxRZoTyDBKT",
    "outputId": "c93f2b3e-2f2c-4bce-d0d8-00b9813380b0"
   },
   "outputs": [
    {
     "data": {
      "image/png": "[encoded data removed]",
      "text/plain": [
       "<Figure size 640x480 with 1 Axes>"
      ]
     },
     "metadata": {},
     "output_type": "display_data"
    }
   ],
   "source": [
    "import seaborn as sns  # 그래프를 그리기 위한 seaborn 라이브러리 임포트 (없으면 설치 바랍니다)\n",
    "import matplotlib.pyplot as plt  # 그래프 표시를 위한 pyplot 임포트\n",
    "\n",
    "sns.countplot(x='score', data=df)\n",
    "plt.xlabel('Score')\n",
    "plt.ylabel('Count')\n",
    "plt.title('Distribution of Scores')\n",
    "plt.show()"
   ]
  },
  {
   "cell_type": "markdown",
   "metadata": {
    "id": "RIb3tseZxtqV"
   },
   "source": [
    "### 4. 리뷰 예측 모델 학습시키기 (LSTM)\n"
   ]
  },
  {
   "cell_type": "code",
   "execution_count": null,
   "metadata": {
    "colab": {
     "background_save": true
    },
    "collapsed": true,
    "id": "meBQlWPKylH-",
    "jupyter": {
     "outputs_hidden": true
    },
    "outputId": "7f906e1b-4b79-42f1-d3d8-d28fc91a9894"
   },
   "outputs": [
    {
     "ename": "ModuleNotFoundError",
     "evalue": "No module named 'torchtext'",
     "output_type": "error",
     "traceback": [
      "\u001b[0;31m---------------------------------------------------------------------------\u001b[0m",
      "\u001b[0;31mModuleNotFoundError\u001b[0m                       Traceback (most recent call last)",
      "\u001b[0;32m<ipython-input-9-80fe73ad2346>\u001b[0m in \u001b[0;36m<cell line: 8>\u001b[0;34m()\u001b[0m\n\u001b[1;32m      6\u001b[0m \u001b[0;32mfrom\u001b[0m \u001b[0mtorch\u001b[0m\u001b[0;34m.\u001b[0m\u001b[0mutils\u001b[0m\u001b[0;34m.\u001b[0m\u001b[0mdata\u001b[0m \u001b[0;32mimport\u001b[0m \u001b[0mDataLoader\u001b[0m\u001b[0;34m,\u001b[0m \u001b[0mDataset\u001b[0m\u001b[0;34m\u001b[0m\u001b[0;34m\u001b[0m\u001b[0m\n\u001b[1;32m      7\u001b[0m \u001b[0;32mfrom\u001b[0m \u001b[0mtorch\u001b[0m\u001b[0;34m.\u001b[0m\u001b[0mnn\u001b[0m\u001b[0;34m.\u001b[0m\u001b[0mutils\u001b[0m\u001b[0;34m.\u001b[0m\u001b[0mrnn\u001b[0m \u001b[0;32mimport\u001b[0m \u001b[0mpad_sequence\u001b[0m\u001b[0;34m\u001b[0m\u001b[0;34m\u001b[0m\u001b[0m\n\u001b[0;32m----> 8\u001b[0;31m \u001b[0;32mfrom\u001b[0m \u001b[0mtorchtext\u001b[0m\u001b[0;34m.\u001b[0m\u001b[0mdata\u001b[0m\u001b[0;34m.\u001b[0m\u001b[0mutils\u001b[0m \u001b[0;32mimport\u001b[0m \u001b[0mget_tokenizer\u001b[0m\u001b[0;34m\u001b[0m\u001b[0;34m\u001b[0m\u001b[0m\n\u001b[0m\u001b[1;32m      9\u001b[0m \u001b[0;32mfrom\u001b[0m \u001b[0mtorchtext\u001b[0m\u001b[0;34m.\u001b[0m\u001b[0mvocab\u001b[0m \u001b[0;32mimport\u001b[0m \u001b[0mbuild_vocab_from_iterator\u001b[0m\u001b[0;34m\u001b[0m\u001b[0;34m\u001b[0m\u001b[0m\n\u001b[1;32m     10\u001b[0m \u001b[0;32mfrom\u001b[0m \u001b[0msklearn\u001b[0m\u001b[0;34m.\u001b[0m\u001b[0mmodel_selection\u001b[0m \u001b[0;32mimport\u001b[0m \u001b[0mtrain_test_split\u001b[0m\u001b[0;34m\u001b[0m\u001b[0;34m\u001b[0m\u001b[0m\n",
      "\u001b[0;31mModuleNotFoundError\u001b[0m: No module named 'torchtext'",
      "",
      "\u001b[0;31m---------------------------------------------------------------------------\u001b[0;32m\nNOTE: If your import is failing due to a missing package, you can\nmanually install dependencies using either !pip or !apt.\n\nTo view examples of installing some common dependencies, click the\n\"Open Examples\" button below.\n\u001b[0;31m---------------------------------------------------------------------------\u001b[0m\n"
     ]
    }
   ],
   "source": [
    "import pandas as pd\n",
    "import torch\n",
    "import torch.nn as nn\n",
    "import torch.optim as optim\n",
    "import numpy as np\n",
    "from torch.utils.data import DataLoader, Dataset\n",
    "from torch.nn.utils.rnn import pad_sequence\n",
    "from torchtext.data.utils import get_tokenizer\n",
    "from torchtext.vocab import build_vocab_from_iterator\n",
    "from sklearn.model_selection import train_test_split\n",
    "from sklearn.preprocessing import LabelEncoder\n",
    "from collections import Counter"
   ]
  },
  {
   "cell_type": "code",
   "execution_count": null,
   "metadata": {
    "colab": {
     "background_save": true
    },
    "id": "LbSYP7T8liYs"
   },
   "outputs": [],
   "source": [
    "nltk.download('punkt')"
   ]
  },
  {
   "cell_type": "code",
   "execution_count": null,
   "metadata": {
    "colab": {
     "background_save": true
    },
    "id": "CT_sTE44lkAa"
   },
   "outputs": [],
   "source": [
    "# 데이터 준비 (리뷰와 평점 컬럼을 추출)\n",
    "reviews = df['content']\n",
    "ratings = df['score']"
   ]
  },
  {
   "cell_type": "code",
   "execution_count": null,
   "metadata": {
    "colab": {
     "background_save": true
    },
    "id": "9XhSTRx6llgs"
   },
   "outputs": [],
   "source": [
    "# 훈련 및 테스트 데이터 분할 (train_test_split 사용)\n",
    "train_reviews, test_reviews, train_ratings, test_ratings = train_test_split(reviews, ratings, test_size=0.3, random_state=42)"
   ]
  },
  {
   "cell_type": "code",
   "execution_count": null,
   "metadata": {
    "colab": {
     "background_save": true
    },
    "id": "rahi8vqHln6f"
   },
   "outputs": [],
   "source": [
    "# 인덱스 초기화 (데이터 프레임 인덱스 리셋)\n",
    "train_reviews.reset_index(drop=True, inplace=True)\n",
    "train_ratings.reset_index(drop=True, inplace=True)\n",
    "test_reviews.reset_index(drop=True, inplace=True)\n",
    "test_ratings.reset_index(drop=True, inplace=True)"
   ]
  },
  {
   "cell_type": "code",
   "execution_count": null,
   "metadata": {
    "colab": {
     "background_save": true
    },
    "id": "ftOoi5OJlveH"
   },
   "outputs": [],
   "source": [
    "# 단어 사전 구축 함수 정의 (리뷰 텍스트를 토큰화하고 사전 생성)\n",
    "def build_vocab(reviews):\n",
    "    tokenized_reviews = [word_tokenize(review) for review in reviews]\n",
    "    vocab = build_vocab_from_iterator(tokenized_reviews, specials=[\"<pad>\", \"<unk>\"])\n",
    "    vocab.set_default_index(vocab[\"<unk>\"])  # 알 수 없는 단어 처리\n",
    "    return vocab\n",
    "\n",
    "# 단어 사전 생성 (훈련 데이터 리뷰를 기반으로 어휘 사전 구축)\n",
    "vocab = build_vocab(train_reviews)"
   ]
  },
  {
   "cell_type": "code",
   "execution_count": null,
   "metadata": {
    "colab": {
     "background_save": true
    },
    "id": "9DcSGjWLl6ex"
   },
   "outputs": [],
   "source": [
    "# 데이터셋 클래스 정의 (데이터셋을 커스텀하여 사용하기 위해 클래스 정의)\n",
    "class ReviewDataset(Dataset):\n",
    "    def __init__(self, reviews, ratings, text_pipeline, label_pipeline):\n",
    "        self.reviews = reviews\n",
    "        self.ratings = ratings\n",
    "        self.text_pipeline = text_pipeline\n",
    "        self.label_pipeline = label_pipeline\n",
    "\n",
    "    def __len__(self):\n",
    "        return len(self.reviews)\n",
    "\n",
    "    def __getitem__(self, idx):\n",
    "        review = self.text_pipeline(self.reviews[idx])\n",
    "        rating = self.label_pipeline(self.ratings[idx])\n",
    "        return review, rating"
   ]
  },
  {
   "cell_type": "code",
   "execution_count": null,
   "metadata": {
    "colab": {
     "background_save": true
    },
    "id": "0-c4J5s1l8sd"
   },
   "outputs": [],
   "source": [
    "# 패딩과 텐서 변환을 위한 collate 함수 정의\n",
    "def collate_fn(batch):\n",
    "    reviews, ratings = zip(*batch)  # 배치에서 리뷰와 레이팅 분리\n",
    "    reviews_padded = pad_sequence(reviews, batch_first=True)  # 리뷰를 패딩\n",
    "    ratings_tensor = torch.tensor(ratings, dtype=torch.long)  # 레이팅을 텐서로 변환\n",
    "    return reviews_padded, ratings_tensor  # 패딩된 리뷰와 레이팅 반환"
   ]
  },
  {
   "cell_type": "code",
   "execution_count": null,
   "metadata": {
    "colab": {
     "background_save": true
    },
    "id": "GmhNAAFNl-lX"
   },
   "outputs": [],
   "source": [
    "# 텍스트 파이프라인 정의 (텍스트를 토큰화하고 텐서로 변환)\n",
    "def text_pipeline(text):\n",
    "    tokenized = word_tokenize(text)  # 토큰화\n",
    "    return torch.tensor([vocab[token] for token in tokenized], dtype=torch.long)"
   ]
  },
  {
   "cell_type": "code",
   "execution_count": null,
   "metadata": {
    "colab": {
     "background_save": true
    },
    "id": "_xkoX-SemEw5"
   },
   "outputs": [],
   "source": [
    "# 레이블 파이프라인 클래스 정의 (평점을 수치화하여 모델에 입력)\n",
    "class LabelPipeline:\n",
    "    def __init__(self):\n",
    "        self.label_encoder = LabelEncoder()\n",
    "\n",
    "    def fit(self, labels):\n",
    "        self.label_encoder.fit(labels)\n",
    "\n",
    "    def __call__(self, label):\n",
    "        return self.label_encoder.transform([label])[0]"
   ]
  },
  {
   "cell_type": "code",
   "execution_count": null,
   "metadata": {
    "colab": {
     "background_save": true
    },
    "id": "gdagimuymG4g"
   },
   "outputs": [],
   "source": [
    "# 레이블 파이프라인 초기화 및 학습\n",
    "label_pipeline = LabelPipeline()\n",
    "label_pipeline.fit(df['score'].values)"
   ]
  },
  {
   "cell_type": "code",
   "execution_count": null,
   "metadata": {
    "colab": {
     "background_save": true
    },
    "id": "YSt4E1XFmJNI"
   },
   "outputs": [],
   "source": [
    "# 데이터셋 정의 (훈련 및 테스트 데이터셋 구성)\n",
    "train_dataset = ReviewDataset(train_reviews, train_ratings, text_pipeline, label_pipeline)\n",
    "test_dataset = ReviewDataset(test_reviews, test_ratings, text_pipeline, label_pipeline)"
   ]
  },
  {
   "cell_type": "code",
   "execution_count": null,
   "metadata": {
    "colab": {
     "background_save": true
    },
    "id": "-3izexBNmLkR"
   },
   "outputs": [],
   "source": [
    "# 데이터 로더 정의 (DataLoader를 통해 배치로 데이터를 로딩)\n",
    "BATCH_SIZE = 64\n",
    "train_dataloader = DataLoader(train_dataset, batch_size=BATCH_SIZE, shuffle=True, collate_fn=collate_fn)\n",
    "test_dataloader = DataLoader(test_dataset, batch_size=BATCH_SIZE, collate_fn=collate_fn)"
   ]
  },
  {
   "cell_type": "markdown",
   "metadata": {
    "id": "Qsk4PYcoixw7"
   },
   "source": [
    "#### LSTM model"
   ]
  },
  {
   "cell_type": "code",
   "execution_count": null,
   "metadata": {
    "colab": {
     "background_save": true
    },
    "id": "LHtyi5LdmNiv"
   },
   "outputs": [],
   "source": [
    "# 모델 정의 (LSTM 모델 구조를 설정하여 시퀀스 처리 수행)\n",
    "class LSTMModel(nn.Module):\n",
    "  def __init__(self, vocab_size, embed_dim, hidden_dim, output_dim):\n",
    "    super(LSTMModel, self).__init__()\n",
    "    self.embedding = nn.Embedding(vocab_size, embed_dim, sparse=True, padding_idx=0)\n",
    "    self.lstm = nn.LSTM(embed_dim, hidden_dim, batch_first=True)\n",
    "    self.fc = nn.Sequential(\n",
    "        nn.Linear(hidden_dim, 128),\n",
    "        nn.ReLU(),\n",
    "        nn.Dropout(0.5),\n",
    "        nn.Linear(128, output_dim),\n",
    "    )\n",
    "\n",
    "  # 순전파 정의 (입력 텍스트를 임베딩하고 LSTM과 FC 계층에 통과)\n",
    "  def forward(self, text):\n",
    "    embedded = self.embedding(text)\n",
    "    output, (hidden, cell) = self.lstm(embedded)  # 배치 사이즈에 맞게 차원 추가\n",
    "    return self.fc(hidden[-1].view(hidden.size(1), -1))"
   ]
  },
  {
   "cell_type": "code",
   "execution_count": null,
   "metadata": {
    "colab": {
     "background_save": true
    },
    "id": "LOCpVRzOmPdh"
   },
   "outputs": [],
   "source": [
    "# 하이퍼파라미터 정의 (어휘 크기, 임베딩 차원, LSTM 은닉 차원 및 출력 차원 설정)\n",
    "VOCAB_SIZE = len(vocab)\n",
    "EMBED_DIM = 64\n",
    "HIDDEN_DIM = 128\n",
    "OUTPUT_DIM = 5\n",
    "\n",
    "# 모델 초기화 (LSTM 모델 인스턴스 생성)\n",
    "model = LSTMModel(VOCAB_SIZE, EMBED_DIM, HIDDEN_DIM, OUTPUT_DIM)\n",
    "\n",
    "# 손실 함수와 옵티마이저 정의 (교차 엔트로피 손실과 SGD 사용)\n",
    "criterion = nn.CrossEntropyLoss()\n",
    "optimizer = optim.SGD(model.parameters(), lr=0.01)"
   ]
  },
  {
   "cell_type": "code",
   "execution_count": null,
   "metadata": {
    "colab": {
     "background_save": true
    },
    "id": "7JF5hhElmTNv"
   },
   "outputs": [],
   "source": [
    "# 모델 학습 과정 정의 (에포크 동안 훈련 데이터에 대해 손실 계산 및 가중치 업데이트)\n",
    "def train_model(model, train_dataloader, optimizer, criterion, epochs=10):\n",
    "    model.train()  # 모델을 학습 모드로 전환\n",
    "    for epoch in range(epochs):\n",
    "        total_loss = 0\n",
    "\n",
    "        for batch in train_dataloader:\n",
    "            reviews, ratings = batch  # 배치 데이터\n",
    "\n",
    "            # reviews와 ratings를 안전하게 복사\n",
    "            reviews = reviews.clone().detach()\n",
    "            ratings = ratings.clone().detach()\n",
    "\n",
    "            optimizer.zero_grad()  # 옵티마이저 초기화\n",
    "\n",
    "            # 모델의 출력\n",
    "            output = model(reviews)\n",
    "\n",
    "            # 손실 계산 및 역전파\n",
    "            loss = criterion(output, ratings)\n",
    "            loss.backward()  # 그라디언트 계산\n",
    "            optimizer.step()  # 옵티마이저를 통한 파라미터 업데이트\n",
    "\n",
    "            total_loss += loss.item()"
   ]
  },
  {
   "cell_type": "code",
   "execution_count": null,
   "metadata": {
    "colab": {
     "background_save": true
    },
    "id": "9DQ1Yv0AmWVh"
   },
   "outputs": [],
   "source": [
    "# 모델 학습 (훈련 함수 호출하여 모델 학습)\n",
    "train_model(model, train_dataloader, optimizer, criterion, epochs=10)"
   ]
  },
  {
   "cell_type": "code",
   "execution_count": null,
   "metadata": {
    "colab": {
     "background_save": true
    },
    "id": "ZYKrZ0wZmZRZ"
   },
   "outputs": [],
   "source": [
    "# 모델 평가 함수\n",
    "def evaluate(model, loader):\n",
    "    model.eval()\n",
    "    correct = 0\n",
    "    total = 0\n",
    "    with torch.no_grad():\n",
    "        for reviews, labels in loader:\n",
    "            outputs = model(reviews)\n",
    "            _, predicted = torch.max(outputs, 1)\n",
    "            total += labels.size(0)\n",
    "            correct += (predicted == labels).sum().item()\n",
    "    return correct / total\n",
    "\n",
    "# 모델 평가\n",
    "accuracy = evaluate(model, test_dataloader)\n",
    "print(f'Accuracy: {accuracy:.4f}')"
   ]
  },
  {
   "cell_type": "markdown",
   "metadata": {
    "id": "LxCEAriTi_lz"
   },
   "source": [
    "#### LSTM model with ***learning rate = 0.001***"
   ]
  },
  {
   "cell_type": "code",
   "execution_count": null,
   "metadata": {
    "colab": {
     "background_save": true
    },
    "id": "ps6BVuXZqRcy"
   },
   "outputs": [],
   "source": [
    "# 모델 초기화 (LSTM 모델 인스턴스 생성)\n",
    "model = LSTMModel(VOCAB_SIZE, EMBED_DIM, HIDDEN_DIM, OUTPUT_DIM)\n",
    "\n",
    "# 손실 함수와 옵티마이저 정의 (교차 엔트로피 손실과 SGD 사용, 학습률 0.001로 설정)\n",
    "criterion = nn.CrossEntropyLoss()\n",
    "optimizer = optim.SGD(model.parameters(), lr=0.001)\n",
    "\n",
    "# 모델 학습 과정 정의 (에포크 동안 훈련 데이터에 대해 손실 계산 및 가중치 업데이트)\n",
    "def train_model(model, train_dataloader, optimizer, criterion, epochs=10):\n",
    "    model.train()  # 모델을 학습 모드로 전환\n",
    "    for epoch in range(epochs):\n",
    "        total_loss = 0\n",
    "\n",
    "        for batch in train_dataloader:\n",
    "            reviews, ratings = batch  # 배치 데이터\n",
    "\n",
    "            # reviews와 ratings를 안전하게 복사\n",
    "            reviews = reviews.clone().detach()\n",
    "            ratings = ratings.clone().detach()\n",
    "\n",
    "            optimizer.zero_grad()  # 옵티마이저 초기화\n",
    "\n",
    "            # 모델의 출력\n",
    "            output = model(reviews)\n",
    "\n",
    "            # 손실 계산 및 역전파\n",
    "            loss = criterion(output, ratings)\n",
    "            loss.backward()  # 그라디언트 계산\n",
    "            optimizer.step()  # 옵티마이저를 통한 파라미터 업데이트\n",
    "\n",
    "            total_loss += loss.item()\n",
    "\n",
    "# 모델 학습 (훈련 함수 호출하여 모델 학습)\n",
    "train_model(model, train_dataloader, optimizer, criterion, epochs=10)"
   ]
  },
  {
   "cell_type": "code",
   "execution_count": null,
   "metadata": {
    "colab": {
     "background_save": true
    },
    "id": "SEft5Kse5w12"
   },
   "outputs": [],
   "source": [
    "# 모델 평가\n",
    "accuracy = evaluate(model, test_dataloader)\n",
    "print(f'Accuracy: {accuracy:.4f}')"
   ]
  },
  {
   "cell_type": "markdown",
   "metadata": {
    "id": "39jGWMCQjkhM"
   },
   "source": [
    "#### LSTM model with ***Adam optimizer***"
   ]
  },
  {
   "cell_type": "code",
   "execution_count": null,
   "metadata": {
    "colab": {
     "background_save": true
    },
    "id": "2iPoUw1E6Jzk"
   },
   "outputs": [],
   "source": [
    "# 모델 정의 (LSTM 모델 구조를 설정하여 시퀀스 처리 수행)\n",
    "class LSTMModel(nn.Module):\n",
    "  def __init__(self, vocab_size, embed_dim, hidden_dim, output_dim):\n",
    "    super(LSTMModel, self).__init__()\n",
    "    self.embedding = nn.Embedding(vocab_size, embed_dim, padding_idx=0)\n",
    "    self.lstm = nn.LSTM(embed_dim, hidden_dim, batch_first=True)\n",
    "    self.fc = nn.Sequential(\n",
    "    nn.Linear(hidden_dim, 128),\n",
    "    nn.ReLU(),\n",
    "    nn.Dropout(0.5),\n",
    "    nn.Linear(128, output_dim)\n",
    ")\n",
    "\n",
    "  # 순전파 정의 (입력 텍스트를 임베딩하고 LSTM과 FC 계층에 통과)\n",
    "  def forward(self, text):\n",
    "    embedded = self.embedding(text)\n",
    "    output, (hidden, cell) = self.lstm(embedded)  # 배치 사이즈에 맞게 차원 추가\n",
    "    return self.fc(hidden[-1].view(hidden.size(1), -1))\n",
    "\n",
    "# 하이퍼파라미터 정의 (어휘 크기, 임베딩 차원, LSTM 은닉 차원 및 출력 차원 설정)\n",
    "VOCAB_SIZE = len(vocab)\n",
    "EMBED_DIM = 64\n",
    "HIDDEN_DIM = 128\n",
    "OUTPUT_DIM = 5  # 예측할 점수 개수\n",
    "\n",
    "# 모델 초기화 (LSTM 모델 인스턴스 생성)\n",
    "model = LSTMModel(VOCAB_SIZE, EMBED_DIM, HIDDEN_DIM, OUTPUT_DIM)\n",
    "\n",
    "# 손실 함수와 옵티마이저 정의 (교차 엔트로피 손실과 Adam 사용, 학습률 0.01로 설정)\n",
    "criterion = nn.CrossEntropyLoss()\n",
    "optimizer = optim.Adam(model.parameters(), lr=0.01)\n",
    "\n",
    "# 모델 학습 과정 정의 (에포크 동안 훈련 데이터에 대해 손실 계산 및 가중치 업데이트)\n",
    "def train_model(model, train_dataloader, optimizer, criterion, epochs=10):\n",
    "    model.train()  # 모델을 학습 모드로 전환\n",
    "    for epoch in range(epochs):\n",
    "        total_loss = 0\n",
    "\n",
    "        for batch in train_dataloader:\n",
    "            reviews, ratings = batch  # 배치 데이터\n",
    "\n",
    "            # reviews와 ratings를 안전하게 복사\n",
    "            reviews = reviews.clone().detach()\n",
    "            ratings = ratings.clone().detach()\n",
    "\n",
    "            optimizer.zero_grad()  # 옵티마이저 초기화\n",
    "\n",
    "            # 모델의 출력\n",
    "            output = model(reviews)\n",
    "\n",
    "            # 손실 계산 및 역전파\n",
    "            loss = criterion(output, ratings)\n",
    "            loss.backward()  # 그라디언트 계산\n",
    "            optimizer.step()  # 옵티마이저를 통한 파라미터 업데이트\n",
    "\n",
    "            total_loss += loss.item()\n",
    "\n",
    "# 모델 학습 (훈련 함수 호출하여 모델 학습)\n",
    "train_model(model, train_dataloader, optimizer, criterion, epochs=10)"
   ]
  },
  {
   "cell_type": "code",
   "execution_count": null,
   "metadata": {
    "colab": {
     "background_save": true
    },
    "id": "R7ZDQ7086RPl"
   },
   "outputs": [],
   "source": [
    "# 모델 평가\n",
    "accuracy = evaluate(model, test_dataloader)\n",
    "print(f'Accuracy: {accuracy:.4f}')"
   ]
  },
  {
   "cell_type": "markdown",
   "metadata": {
    "id": "IlY1dVnEke_H"
   },
   "source": [
    "#### LSTM model with ***Adam optimizer and Early stopping***"
   ]
  },
  {
   "cell_type": "code",
   "execution_count": null,
   "metadata": {
    "id": "tB_WMYO6kTju"
   },
   "outputs": [],
   "source": [
    "# 데이터 분할\n",
    "# 훈련 데이터와 임시 데이터(검증 + 테스트 데이터) 분리(train_test_split 사용)\n",
    "train_reviews, temp_reviews, train_ratings, temp_ratings = train_test_split(reviews, ratings, test_size=0.3, random_state=42)\n",
    "\n",
    "# 임시 데이터를 검증 데이터와 테스트 데이터로 분리(train_test_split 사용)\n",
    "test_reviews, rtest_reviews, test_ratings, rtest_ratings = train_test_split(temp_reviews, temp_ratings, test_size=0.5, random_state=42)\n",
    "\n",
    "# 인덱스 초기화 (데이터 프레임 인덱스 리셋)\n",
    "train_reviews.reset_index(drop=True, inplace=True)\n",
    "train_ratings.reset_index(drop=True, inplace=True)\n",
    "test_reviews.reset_index(drop=True, inplace=True)\n",
    "test_ratings.reset_index(drop=True, inplace=True)\n",
    "rtest_reviews.reset_index(drop=True, inplace=True)\n",
    "rtest_ratings.reset_index(drop=True, inplace=True)\n",
    "\n",
    "# 데이터셋 정의 (훈련 및 테스트 데이터셋 구성)\n",
    "train_dataset = ReviewDataset(train_reviews, train_ratings, text_pipeline, label_pipeline)\n",
    "test_dataset = ReviewDataset(test_reviews, test_ratings, text_pipeline, label_pipeline)\n",
    "rtest_dataset = ReviewDataset(rtest_reviews, rtest_ratings, text_pipeline, label_pipeline)\n",
    "\n",
    "# 데이터 로더 정의 (DataLoader를 통해 배치로 데이터를 로딩)\n",
    "BATCH_SIZE = 64\n",
    "\n",
    "train_dataloader = DataLoader(train_dataset, batch_size=BATCH_SIZE, shuffle=True, collate_fn=collate_fn)\n",
    "test_dataloader = DataLoader(test_dataset, batch_size=BATCH_SIZE, collate_fn=collate_fn)\n",
    "rtest_dataloader = DataLoader(rtest_dataset, batch_size=BATCH_SIZE, collate_fn=collate_fn)"
   ]
  },
  {
   "cell_type": "code",
   "execution_count": null,
   "metadata": {
    "colab": {
     "background_save": true
    },
    "id": "aGPNPvfL9Xcd"
   },
   "outputs": [],
   "source": [
    "# 조기 종료 함수 정의\n",
    "class EarlyStopping:\n",
    "    def __init__(self, patience=3, verbose=False):\n",
    "        self.patience = patience\n",
    "        self.verbose = verbose\n",
    "        self.best_loss = None\n",
    "        self.counter = 0\n",
    "\n",
    "    def __call__(self, val_loss):\n",
    "        if self.best_loss is None:\n",
    "            self.best_loss = val_loss\n",
    "        elif val_loss < self.best_loss:\n",
    "            self.best_loss = val_loss\n",
    "            self.counter = 0\n",
    "        else:\n",
    "            self.counter += 1\n",
    "            if self.counter >= self.patience:\n",
    "                if self.verbose:\n",
    "                    print(\"Early stopping triggered.\")\n",
    "                return True\n",
    "        return False\n",
    "\n",
    "\n",
    "# 모델 학습 과정 정의 (Early Stopping 추가)\n",
    "def train_model(model, train_dataloader, test_dataloader, optimizer, criterion, epochs=10, patience=1):\n",
    "    model.train()  # 모델을 학습 모드로 전환\n",
    "    early_stopping = EarlyStopping(patience=patience, verbose=True)\n",
    "\n",
    "    for epoch in range(epochs):\n",
    "        total_loss = 0\n",
    "\n",
    "        # 훈련 모드에서의 손실 계산\n",
    "        for batch in train_dataloader:\n",
    "            reviews, ratings = batch  # 배치 데이터\n",
    "            optimizer.zero_grad()  # 옵티마이저 초기화\n",
    "\n",
    "            # 모델의 출력\n",
    "            output = model(reviews)\n",
    "\n",
    "            # 손실 계산 및 역전파\n",
    "            loss = criterion(output, ratings)\n",
    "            loss.backward()  # 그라디언트 계산\n",
    "            optimizer.step()  # 옵티마이저를 통한 파라미터 업데이트\n",
    "\n",
    "            total_loss += loss.item()\n",
    "\n",
    "        avg_train_loss = total_loss / len(train_dataloader)\n",
    "        print(f'Epoch [{epoch+1}/{epochs}], Train Loss: {avg_train_loss:.4f}')\n",
    "\n",
    "        # 테스트 손실 계산\n",
    "        model.eval()  # 모델을 평가 모드로 전환\n",
    "        total_test_loss = 0\n",
    "        with torch.no_grad():\n",
    "            for batch in test_dataloader:\n",
    "                reviews, ratings = batch  # 배치 데이터\n",
    "                output = model(reviews)  # 모델의 출력\n",
    "                test_loss = criterion(output, ratings)  # 테스트 손실 계산\n",
    "                total_test_loss += test_loss.item()\n",
    "\n",
    "        avg_test_loss = total_test_loss / len(test_dataloader)\n",
    "        print(f'Epoch [{epoch+1}/{epochs}], Test Loss: {avg_test_loss:.4f}')\n",
    "\n",
    "        # Early Stopping 체크\n",
    "        if early_stopping(avg_test_loss):\n",
    "            break  # 학습 중단\n",
    "\n",
    "# 모델 학습 (훈련 함수 호출하여 모델 학습)\n",
    "train_model(model, train_dataloader, test_dataloader, optimizer, criterion, epochs=10, patience=3)"
   ]
  },
  {
   "cell_type": "code",
   "execution_count": null,
   "metadata": {
    "colab": {
     "background_save": true
    },
    "id": "FmDFRXR29ayZ"
   },
   "outputs": [],
   "source": [
    "# 모델 평가\n",
    "accuracy = evaluate(model, rtest_dataloader)\n",
    "print(f'Accuracy: {accuracy:.4f}')"
   ]
  },
  {
   "cell_type": "markdown",
   "metadata": {
    "id": "0xcHmdTsy-NJ"
   },
   "source": [
    "## 추가 선택 과제"
   ]
  },
  {
   "cell_type": "markdown",
   "metadata": {
    "id": "r5dFsatDzEqM"
   },
   "source": [
    "### 5. NLP 이용해보기"
   ]
  },
  {
   "cell_type": "markdown",
   "metadata": {
    "id": "OtLJo1lMl93y"
   },
   "source": [
    "#### BERT model"
   ]
  },
  {
   "cell_type": "code",
   "execution_count": null,
   "metadata": {
    "colab": {
     "background_save": true
    },
    "id": "sYs12_6lzSka"
   },
   "outputs": [],
   "source": [
    "import torch\n",
    "import torch.nn as nn\n",
    "import torch.optim as optim\n",
    "from torch.utils.data import Dataset, DataLoader\n",
    "from sklearn.preprocessing import LabelEncoder\n",
    "from nltk.tokenize import word_tokenize\n",
    "from collections import Counter\n",
    "import nltk\n",
    "import numpy as np\n",
    "nltk.download('punkt')"
   ]
  },
  {
   "cell_type": "code",
   "execution_count": null,
   "metadata": {
    "id": "i5dl2YTtmChG"
   },
   "outputs": [],
   "source": [
    "class TextPipeline:\n",
    "    def __init__(self):\n",
    "        self.vocab = {}\n",
    "\n",
    "    def fit(self, texts):\n",
    "        word_counts = Counter()\n",
    "        for text in texts:\n",
    "            words = word_tokenize(text)\n",
    "            word_counts.update(words)\n",
    "        self.vocab = {word: idx for idx, (word, _) in enumerate(word_counts.items(), 1)}  # 1부터 시작\n",
    "\n",
    "    def __call__(self, text):\n",
    "        words = word_tokenize(text)\n",
    "        return [self.vocab.get(word, 0) for word in words]  # 사전에 없는 단어는 0으로 처리"
   ]
  },
  {
   "cell_type": "code",
   "execution_count": null,
   "metadata": {
    "id": "l7b4NbvGmFDb"
   },
   "outputs": [],
   "source": [
    "class LabelPipeline:\n",
    "    def __init__(self):\n",
    "        self.label_encoder = LabelEncoder()\n",
    "\n",
    "    def fit(self, labels):\n",
    "        self.label_encoder.fit(labels)\n",
    "\n",
    "    def __call__(self, label):\n",
    "        return self.label_encoder.transform([label])[0]"
   ]
  },
  {
   "cell_type": "code",
   "execution_count": null,
   "metadata": {
    "id": "oqZI0h5smH5D"
   },
   "outputs": [],
   "source": [
    "class ReviewDataset(Dataset):\n",
    "    def __init__(self, reviews, ratings, text_pipeline, label_pipeline):\n",
    "        self.reviews = reviews\n",
    "        self.ratings = ratings\n",
    "        self.text_pipeline = text_pipeline\n",
    "        self.label_pipeline = label_pipeline\n",
    "\n",
    "    def __len__(self):\n",
    "        return len(self.reviews)\n",
    "\n",
    "    def __getitem__(self, idx):\n",
    "        review = self.text_pipeline(self.reviews[idx])\n",
    "        rating = self.label_pipeline(self.ratings[idx])\n",
    "        return torch.tensor(review, dtype=torch.long), torch.tensor(rating, dtype=torch.long)"
   ]
  },
  {
   "cell_type": "code",
   "execution_count": null,
   "metadata": {
    "id": "zs2HLminmKIH"
   },
   "outputs": [],
   "source": [
    "# 'content' 열이 문자열 형식인지 확인하고 변환\n",
    "df['content'] = df['content'].astype(str)"
   ]
  },
  {
   "cell_type": "code",
   "execution_count": null,
   "metadata": {
    "id": "K7XLe7eJmK8d"
   },
   "outputs": [],
   "source": [
    "print(df.columns)"
   ]
  },
  {
   "cell_type": "code",
   "execution_count": null,
   "metadata": {
    "id": "oM5BrvQCmNLN"
   },
   "outputs": [],
   "source": [
    "# 텍스트 파이프라인 인스턴스 생성 및 학습\n",
    "text_pipeline = TextPipeline()\n",
    "text_pipeline.fit(df['content'].values)\n",
    "\n",
    "# 레이블 파이프라인 인스턴스 생성 및 학습\n",
    "label_pipeline = LabelPipeline()\n",
    "label_pipeline.fit(df['score'].values)\n",
    "\n",
    "# 훈련 및 테스트 데이터를 설정\n",
    "train_reviews = df['content'][:800].values  # 첫 800개는 훈련 데이터로\n",
    "train_ratings = df['score'][:800].values\n",
    "test_reviews = df['content'][800:].values   # 나머지는 테스트 데이터로\n",
    "test_ratings = df['score'][800:].values\n",
    "\n",
    "# 데이터셋 생성\n",
    "train_dataset = ReviewDataset(train_reviews, train_ratings, text_pipeline, label_pipeline)\n",
    "test_dataset = ReviewDataset(test_reviews, test_ratings, text_pipeline, label_pipeline)\n",
    "\n",
    "# DataLoader 생성\n",
    "train_loader = DataLoader(train_dataset, batch_size=32, shuffle=True)\n",
    "test_loader = DataLoader(test_dataset, batch_size=32)"
   ]
  },
  {
   "cell_type": "code",
   "execution_count": null,
   "metadata": {
    "id": "bcQFnSnOmPh2"
   },
   "outputs": [],
   "source": [
    "class SentimentLSTM(nn.Module):\n",
    "    def __init__(self, vocab_size, embed_size, hidden_size, output_size, num_layers=1):\n",
    "        super(SentimentLSTM, self).__init__()\n",
    "        self.embedding = nn.Embedding(vocab_size, embed_size)\n",
    "        self.lstm = nn.LSTM(embed_size, hidden_size, num_layers, batch_first=True)\n",
    "        self.fc = nn.Linear(hidden_size, output_size)\n",
    "\n",
    "    def forward(self, x):\n",
    "        embeds = self.embedding(x)\n",
    "        lstm_out, _ = self.lstm(embeds)\n",
    "        out = self.fc(lstm_out[:, -1, :])  # 마지막 타임스텝 출력\n",
    "        return out\n"
   ]
  },
  {
   "cell_type": "code",
   "execution_count": null,
   "metadata": {
    "id": "FcNpWhdjmRz4"
   },
   "outputs": [],
   "source": [
    "def train(model, loader, criterion, optimizer, num_epochs=5):\n",
    "    model.train()\n",
    "    for epoch in range(num_epochs):\n",
    "        total_loss = 0\n",
    "        for reviews, labels in loader:\n",
    "            optimizer.zero_grad()\n",
    "            outputs = model(reviews)\n",
    "            loss = criterion(outputs, labels)\n",
    "            loss.backward()\n",
    "            optimizer.step()\n",
    "            total_loss += loss.item()\n",
    "        print(f'Epoch {epoch+1}/{num_epochs}, Loss: {total_loss/len(loader):.4f}')\n",
    "\n",
    "def evaluate(model, loader):\n",
    "    model.eval()\n",
    "    correct, total = 0, 0\n",
    "    with torch.no_grad():\n",
    "        for reviews, labels in loader:\n",
    "            outputs = model(reviews)\n",
    "            _, predicted = torch.max(outputs, 1)\n",
    "            total += labels.size(0)\n",
    "            correct += (predicted == labels).sum().item()\n",
    "    return correct / total\n"
   ]
  },
  {
   "cell_type": "code",
   "execution_count": null,
   "metadata": {
    "id": "qocNGiDjmTwU"
   },
   "outputs": [],
   "source": [
    "!pip install transformers"
   ]
  },
  {
   "cell_type": "code",
   "execution_count": null,
   "metadata": {
    "id": "Od0pfI7NmWmv"
   },
   "outputs": [],
   "source": [
    "import torch\n",
    "import pandas as pd\n",
    "from sklearn.model_selection import train_test_split\n",
    "from transformers import BertTokenizer, BertForSequenceClassification\n",
    "from transformers import Trainer, TrainingArguments"
   ]
  },
  {
   "cell_type": "code",
   "execution_count": null,
   "metadata": {
    "id": "SxE1G9FumdDz"
   },
   "outputs": [],
   "source": [
    "train_df, test_df = train_test_split(df, test_size=0.2, random_state=42)\n",
    "\n",
    "tokenizer = BertTokenizer.from_pretrained('bert-base-uncased')\n",
    "import os\n",
    "os.environ[\"WANDB_DISABLED\"] = \"true\"\n",
    "\n",
    "# 데이터셋 클래스 정의\n",
    "class MovieReviewDataset(torch.utils.data.Dataset):\n",
    "    def __init__(self, texts, labels, tokenizer, max_length):\n",
    "        self.texts = texts\n",
    "        self.labels = labels\n",
    "        self.tokenizer = tokenizer\n",
    "        self.max_length = max_length\n",
    "\n",
    "    def __len__(self):\n",
    "        return len(self.texts)\n",
    "\n",
    "    def __getitem__(self, idx):\n",
    "        text = self.texts[idx]\n",
    "        label = self.labels[idx]\n",
    "        encoding = self.tokenizer.encode_plus(\n",
    "            text,\n",
    "            add_special_tokens=True,\n",
    "            max_length=self.max_length,\n",
    "            return_token_type_ids=False,\n",
    "            padding='max_length',\n",
    "            truncation=True,\n",
    "            return_attention_mask=True,\n",
    "            return_tensors='pt',\n",
    "        )\n",
    "        return {\n",
    "            'input_ids': encoding['input_ids'].flatten(),\n",
    "            'attention_mask': encoding['attention_mask'].flatten(),\n",
    "            'labels': torch.tensor(label, dtype=torch.long),\n",
    "        }\n",
    "\n",
    "# 데이터셋 생성\n",
    "max_length = 128\n",
    "train_dataset = MovieReviewDataset(train_df['content'].values, train_df['sentiment'].values, tokenizer, max_length)\n",
    "test_dataset = MovieReviewDataset(test_df['content'].values, test_df['sentiment'].values, tokenizer, max_length)\n",
    "\n",
    "# 모델 준비\n",
    "model = BertForSequenceClassification.from_pretrained('bert-base-uncased', num_labels=len(set(df['sentiment'])))\n",
    "\n",
    "# 트레이너 설정\n",
    "training_args = TrainingArguments(\n",
    "    output_dir='./results',\n",
    "    num_train_epochs=5,\n",
    "    per_device_train_batch_size=16,\n",
    "    per_device_eval_batch_size=16,\n",
    "    warmup_steps=500,\n",
    "    weight_decay=0.01,\n",
    "    logging_dir='./logs',\n",
    "    logging_steps=10,\n",
    "    evaluation_strategy='epoch'\n",
    ")\n",
    "\n",
    "trainer = Trainer(\n",
    "    model=model,\n",
    "    args=training_args,\n",
    "    train_dataset=train_dataset,\n",
    "    eval_dataset=test_dataset\n",
    ")\n",
    "\n",
    "# 모델 학습\n",
    "trainer.train()\n",
    "\n",
    "# 평가\n",
    "trainer.evaluate()"
   ]
  },
  {
   "cell_type": "code",
   "execution_count": null,
   "metadata": {
    "id": "V3xpsZ-BmgT7"
   },
   "outputs": [],
   "source": [
    "import torch\n",
    "from sklearn.model_selection import train_test_split\n",
    "from transformers import BertTokenizer, BertForSequenceClassification, Trainer, TrainingArguments\n",
    "from sklearn.metrics import accuracy_score, precision_recall_fscore_support\n",
    "import os\n",
    "\n",
    "# 환경 설정\n",
    "os.environ[\"WANDB_DISABLED\"] = \"true\"\n",
    "\n",
    "# 데이터셋 분리\n",
    "train_df, test_df = train_test_split(df, test_size=0.2, random_state=42)\n",
    "\n",
    "# 토크나이저 로드\n",
    "tokenizer = BertTokenizer.from_pretrained('bert-base-uncased')\n",
    "\n",
    "# 데이터셋 클래스 정의\n",
    "class MovieReviewDataset(torch.utils.data.Dataset):\n",
    "    def __init__(self, texts, labels, tokenizer, max_length):\n",
    "        self.texts = texts\n",
    "        self.labels = labels\n",
    "        self.tokenizer = tokenizer\n",
    "        self.max_length = max_length\n",
    "\n",
    "    def __len__(self):\n",
    "        return len(self.texts)\n",
    "\n",
    "    def __getitem__(self, idx):\n",
    "        text = self.texts[idx]\n",
    "        label = self.labels[idx]\n",
    "        encoding = self.tokenizer.encode_plus(\n",
    "            text,\n",
    "            add_special_tokens=True,\n",
    "            max_length=self.max_length,\n",
    "            return_token_type_ids=False,\n",
    "            padding='max_length',\n",
    "            truncation=True,\n",
    "            return_attention_mask=True,\n",
    "            return_tensors='pt',\n",
    "        )\n",
    "        return {\n",
    "            'input_ids': encoding['input_ids'].flatten(),\n",
    "            'attention_mask': encoding['attention_mask'].flatten(),\n",
    "            'labels': torch.tensor(label, dtype=torch.long),\n",
    "        }\n",
    "\n",
    "# 데이터셋 생성\n",
    "max_length = 128\n",
    "train_dataset = MovieReviewDataset(train_df['content'].values, train_df['sentiment'].values, tokenizer, max_length)\n",
    "test_dataset = MovieReviewDataset(test_df['content'].values, test_df['sentiment'].values, tokenizer, max_length)\n",
    "\n",
    "# 모델 준비\n",
    "model = BertForSequenceClassification.from_pretrained('bert-base-uncased', num_labels=len(set(df['sentiment'])))\n",
    "\n",
    "# 평가를 위한 함수 정의\n",
    "def compute_metrics(pred):\n",
    "    labels = pred.label_ids\n",
    "    preds = pred.predictions.argmax(-1)  # 예측값 중 가장 높은 점수를 가진 클래스로 선택\n",
    "    acc = accuracy_score(labels, preds)  # 정확도 계산\n",
    "    precision, recall, f1, _ = precision_recall_fscore_support(labels, preds, average='weighted')  # 정밀도, 재현율, F1 점수\n",
    "    return {\n",
    "        'accuracy': acc,\n",
    "        'precision': precision,\n",
    "        'recall': recall,\n",
    "        'f1': f1\n",
    "    }\n",
    "\n",
    "# 트레이너 설정\n",
    "training_args = TrainingArguments(\n",
    "    output_dir='./results',\n",
    "    num_train_epochs=5,\n",
    "    per_device_train_batch_size=16,\n",
    "    per_device_eval_batch_size=16,\n",
    "    warmup_steps=500,\n",
    "    weight_decay=0.01,\n",
    "    logging_dir='./logs',\n",
    "    logging_steps=10,\n",
    "    evaluation_strategy='epoch'\n",
    ")\n",
    "\n",
    "trainer = Trainer(\n",
    "    model=model,\n",
    "    args=training_args,\n",
    "    train_dataset=train_dataset,\n",
    "    eval_dataset=test_dataset,\n",
    "    compute_metrics=compute_metrics  # 평가 지표 추가\n",
    ")\n",
    "\n",
    "# 모델 학습\n",
    "trainer.train()\n",
    "\n",
    "# 평가\n",
    "eval_result = trainer.evaluate()\n",
    "\n",
    "# 평가 결과 출력\n",
    "print(f\"Evaluation Results: {eval_result}\")\n",
    "\n",
    "# 정확도만 따로 출력\n",
    "accuracy = eval_result['eval_accuracy']\n",
    "print(f\"Accuracy: {accuracy}\")\n"
   ]
  },
  {
   "cell_type": "markdown",
   "metadata": {
    "id": "Vll0DX9uzOly"
   },
   "source": [
    "### 6. 긍정 / 부정 리뷰의 워드 클라우드 그려보기"
   ]
  },
  {
   "cell_type": "markdown",
   "metadata": {
    "id": "9j9_wMvWlA2W"
   },
   "source": [
    "#### Negative word cloud"
   ]
  },
  {
   "cell_type": "code",
   "execution_count": null,
   "metadata": {
    "colab": {
     "background_save": true
    },
    "id": "o2i1Lb7LzNKf"
   },
   "outputs": [],
   "source": [
    "from wordcloud import WordCloud, STOPWORDS\n",
    "import numpy as np\n",
    "from PIL import Image\n",
    "import matplotlib.pyplot as plt\n",
    "\n",
    "# 텍스트파일 열기\n",
    "text_negative = open('./negative.txt').read()\n",
    "# 마스크 이미지 가져오기\n",
    "alice_mask = np.array(Image.open('./alice_mask.png'))\n",
    "\n",
    "# 불용어 지정\n",
    "stopwords = set(STOPWORDS)\n",
    "stopwords.update(['netflix', 'movie', 'movies', 'show', 'shows', 'watch', 'account', 'time', 'app', 'series', 'phone', 'good','use','now','cant','dont','even'])\n",
    "\n",
    "# 이미지 확인\n",
    "plt.figure(figsize = (8,8))\n",
    "plt.imshow(alice_mask, cmap=plt.cm.gray, interpolation='bilinear')\n",
    "plt.axis('off')\n",
    "plt.show()"
   ]
  },
  {
   "cell_type": "code",
   "execution_count": null,
   "metadata": {
    "id": "-zNs7ITmlF09"
   },
   "outputs": [],
   "source": [
    "# 단어들 설정과 빈도분석\n",
    "wc = WordCloud(background_color = 'white', max_words = 500, mask = alice_mask, stopwords=stopwords)\n",
    "wc = wc.generate(text_negative)\n",
    "\n",
    "# 워드클라우드생성\n",
    "plt.figure(figsize=(12, 12))\n",
    "plt.imshow(wc, interpolation='bilinear')\n",
    "plt.title('Negative Reviews Word Cloud', size=20)\n",
    "plt.axis('off')\n",
    "plt.show()"
   ]
  },
  {
   "cell_type": "markdown",
   "metadata": {
    "id": "6Bn4oUs7lJU1"
   },
   "source": [
    "#### Positive word cloud"
   ]
  },
  {
   "cell_type": "code",
   "execution_count": null,
   "metadata": {
    "id": "U2hLqC2xlMHV"
   },
   "outputs": [],
   "source": [
    "# 텍스트파일 열기\n",
    "text_positive = open('./positive.txt').read()\n",
    "# 마스크 이미지 가져오기\n",
    "alice_mask = np.array(Image.open('./alice_mask.png'))\n",
    "\n",
    "# 불용어 지정\n",
    "stopwords = set(STOPWORDS)\n",
    "stopwords.update(['netflix', 'movie', 'movies', 'show', 'shows', 'watch', 'account', 'time', 'app', 'series', 'phone','use','now','problem','cant','dont','even'])\n",
    "\n",
    "# 이미지 확인\n",
    "plt.figure(figsize = (8,8))\n",
    "plt.imshow(alice_mask, cmap=plt.cm.gray, interpolation='bilinear')\n",
    "plt.axis('off')\n",
    "plt.show()"
   ]
  },
  {
   "cell_type": "code",
   "execution_count": null,
   "metadata": {
    "id": "jjzsRD9ClOX0"
   },
   "outputs": [],
   "source": [
    "# 단어들 설정과 빈도분석\n",
    "wc = WordCloud(background_color = 'white', max_words = 500, mask = alice_mask, stopwords=stopwords)\n",
    "wc = wc.generate(text_positive)\n",
    "\n",
    "# 워드클라우드생성\n",
    "plt.figure(figsize=(12, 12))\n",
    "plt.imshow(wc, interpolation='bilinear')\n",
    "plt.title('Positive Reviews Word Cloud', size=20)\n",
    "plt.axis('off')\n",
    "plt.show()"
   ]
  }
 ],
 "metadata": {
  "accelerator": "GPU",
  "colab": {
   "gpuType": "A100",
   "machine_shape": "hm",
   "provenance": []
  },
  "kernelspec": {
   "display_name": "Python 3 (ipykernel)",
   "language": "python",
   "name": "python3"
  },
  "language_info": {
   "codemirror_mode": {
    "name": "ipython",
    "version": 3
   },
   "file_extension": ".py",
   "mimetype": "text/x-python",
   "name": "python",
   "nbconvert_exporter": "python",
   "pygments_lexer": "ipython3",
   "version": "3.12.4"
  }
 },
 "nbformat": 4,
 "nbformat_minor": 4
}
