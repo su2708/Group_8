{
<<<<<<< HEAD
 "cells": [
  {
   "cell_type": "markdown",
   "metadata": {
    "id": "LwAqX71jwvuB"
   },
   "source": [
    "# 영화 리뷰 감성 분석"
   ]
  },
  {
   "cell_type": "markdown",
   "metadata": {
    "id": "jj5LWBzkxXgj"
   },
   "source": [
    "## 필수과제"
   ]
  },
  {
   "cell_type": "markdown",
   "metadata": {
    "id": "x7dzFLpXxZV-"
   },
   "source": [
    "### 1. 데이터셋 불러오기"
   ]
  },
  {
   "cell_type": "code",
   "execution_count": 2,
   "metadata": {
    "colab": {
     "background_save": true
    },
    "id": "iXHlQDfkA3ro"
   },
   "outputs": [],
   "source": [
    "import pandas as pd\n",
    "\n",
    "df = pd.read_csv('./netflix_reviews.csv')"
   ]
  },
  {
   "cell_type": "code",
   "execution_count": 3,
   "metadata": {
    "colab": {
     "background_save": true
    },
    "id": "whVH37t2A0Rj",
    "outputId": "1e95dd04-78db-45c5-b286-3a6f82e846d4"
   },
   "outputs": [
    {
     "data": {
      "text/html": [
       "<div>\n",
       "<style scoped>\n",
       "    .dataframe tbody tr th:only-of-type {\n",
       "        vertical-align: middle;\n",
       "    }\n",
       "\n",
       "    .dataframe tbody tr th {\n",
       "        vertical-align: top;\n",
       "    }\n",
       "\n",
       "    .dataframe thead th {\n",
       "        text-align: right;\n",
       "    }\n",
       "</style>\n",
       "<table border=\"1\" class=\"dataframe\">\n",
       "  <thead>\n",
       "    <tr style=\"text-align: right;\">\n",
       "      <th></th>\n",
       "      <th>reviewId</th>\n",
       "      <th>userName</th>\n",
       "      <th>content</th>\n",
       "      <th>score</th>\n",
       "      <th>thumbsUpCount</th>\n",
       "      <th>reviewCreatedVersion</th>\n",
       "      <th>at</th>\n",
       "      <th>appVersion</th>\n",
       "    </tr>\n",
       "  </thead>\n",
       "  <tbody>\n",
       "    <tr>\n",
       "      <th>0</th>\n",
       "      <td>09ed2c3a-a4ca-4241-a01c-e7543943ee05</td>\n",
       "      <td>reyes Cruz</td>\n",
       "      <td>Very good experience. Great customer service.</td>\n",
       "      <td>5</td>\n",
       "      <td>0</td>\n",
       "      <td>7.89.0 build 18 35322</td>\n",
       "      <td>2024-10-20 14:10:34</td>\n",
       "      <td>7.89.0 build 18 35322</td>\n",
       "    </tr>\n",
       "    <tr>\n",
       "      <th>1</th>\n",
       "      <td>b2d324ff-0005-45c4-accf-dc983124400d</td>\n",
       "      <td>NISITH DISSANAYAKE (Widenn Gamer)</td>\n",
       "      <td>Bro I was watching w cartoon then this error c...</td>\n",
       "      <td>1</td>\n",
       "      <td>0</td>\n",
       "      <td>8.136.0 build 3 50908</td>\n",
       "      <td>2024-10-20 14:10:25</td>\n",
       "      <td>8.136.0 build 3 50908</td>\n",
       "    </tr>\n",
       "    <tr>\n",
       "      <th>2</th>\n",
       "      <td>2d619b1e-aca3-4807-b77f-c9446a606ddf</td>\n",
       "      <td>Evelyn Okoro</td>\n",
       "      <td>Desent</td>\n",
       "      <td>5</td>\n",
       "      <td>0</td>\n",
       "      <td>NaN</td>\n",
       "      <td>2024-10-20 14:06:08</td>\n",
       "      <td>NaN</td>\n",
       "    </tr>\n",
       "    <tr>\n",
       "      <th>3</th>\n",
       "      <td>03cc29b9-a49a-4e26-885a-d1652bb669be</td>\n",
       "      <td>Yogesh Bhatta</td>\n",
       "      <td>THIS IS SCAM COMPANY.. THEY JUST LOOT PEOPLE M...</td>\n",
       "      <td>1</td>\n",
       "      <td>0</td>\n",
       "      <td>7.98.0 build 7 35414</td>\n",
       "      <td>2024-10-20 14:02:13</td>\n",
       "      <td>7.98.0 build 7 35414</td>\n",
       "    </tr>\n",
       "    <tr>\n",
       "      <th>4</th>\n",
       "      <td>c1b98dcf-0b75-4952-b9ac-6165381f41cf</td>\n",
       "      <td>P3L0NAZ0</td>\n",
       "      <td>Stopped opening. I've uninstalled and reinstal...</td>\n",
       "      <td>1</td>\n",
       "      <td>0</td>\n",
       "      <td>8.136.0 build 3 50908</td>\n",
       "      <td>2024-10-20 14:01:12</td>\n",
       "      <td>8.136.0 build 3 50908</td>\n",
       "    </tr>\n",
       "  </tbody>\n",
       "</table>\n",
       "</div>"
      ],
      "text/plain": [
       "                               reviewId                           userName  \\\n",
       "0  09ed2c3a-a4ca-4241-a01c-e7543943ee05                         reyes Cruz   \n",
       "1  b2d324ff-0005-45c4-accf-dc983124400d  NISITH DISSANAYAKE (Widenn Gamer)   \n",
       "2  2d619b1e-aca3-4807-b77f-c9446a606ddf                       Evelyn Okoro   \n",
       "3  03cc29b9-a49a-4e26-885a-d1652bb669be                      Yogesh Bhatta   \n",
       "4  c1b98dcf-0b75-4952-b9ac-6165381f41cf                           P3L0NAZ0   \n",
       "\n",
       "                                             content  score  thumbsUpCount  \\\n",
       "0      Very good experience. Great customer service.      5              0   \n",
       "1  Bro I was watching w cartoon then this error c...      1              0   \n",
       "2                                             Desent      5              0   \n",
       "3  THIS IS SCAM COMPANY.. THEY JUST LOOT PEOPLE M...      1              0   \n",
       "4  Stopped opening. I've uninstalled and reinstal...      1              0   \n",
       "\n",
       "    reviewCreatedVersion                   at             appVersion  \n",
       "0  7.89.0 build 18 35322  2024-10-20 14:10:34  7.89.0 build 18 35322  \n",
       "1  8.136.0 build 3 50908  2024-10-20 14:10:25  8.136.0 build 3 50908  \n",
       "2                    NaN  2024-10-20 14:06:08                    NaN  \n",
       "3   7.98.0 build 7 35414  2024-10-20 14:02:13   7.98.0 build 7 35414  \n",
       "4  8.136.0 build 3 50908  2024-10-20 14:01:12  8.136.0 build 3 50908  "
      ]
     },
     "execution_count": 3,
     "metadata": {},
     "output_type": "execute_result"
    }
   ],
   "source": [
    "df.head()"
   ]
  },
  {
   "cell_type": "code",
   "execution_count": 6,
   "metadata": {
    "colab": {
     "background_save": true
=======
  "cells": [
    {
      "cell_type": "markdown",
      "metadata": {
        "id": "LwAqX71jwvuB"
      },
      "source": [
        "# 영화 리뷰 감성 분석"
      ]
>>>>>>> a51c56648f94254c54b9ec83c4d11f40548caaf9
    },
    {
<<<<<<< HEAD
     "data": {
      "text/html": [
       "<div>\n",
       "<style scoped>\n",
       "    .dataframe tbody tr th:only-of-type {\n",
       "        vertical-align: middle;\n",
       "    }\n",
       "\n",
       "    .dataframe tbody tr th {\n",
       "        vertical-align: top;\n",
       "    }\n",
       "\n",
       "    .dataframe thead th {\n",
       "        text-align: right;\n",
       "    }\n",
       "</style>\n",
       "<table border=\"1\" class=\"dataframe\">\n",
       "  <thead>\n",
       "    <tr style=\"text-align: right;\">\n",
       "      <th></th>\n",
       "      <th>reviewId</th>\n",
       "      <th>userName</th>\n",
       "      <th>content</th>\n",
       "      <th>score</th>\n",
       "      <th>thumbsUpCount</th>\n",
       "      <th>reviewCreatedVersion</th>\n",
       "      <th>at</th>\n",
       "      <th>appVersion</th>\n",
       "    </tr>\n",
       "  </thead>\n",
       "  <tbody>\n",
       "    <tr>\n",
       "      <th>117035</th>\n",
       "      <td>a760ead9-e7aa-4ed1-a651-5c37c3600dac</td>\n",
       "      <td>A Google user</td>\n",
       "      <td>i really like it! there are so many movies and...</td>\n",
       "      <td>5</td>\n",
       "      <td>0</td>\n",
       "      <td>NaN</td>\n",
       "      <td>2019-08-03 15:06:03</td>\n",
       "      <td>NaN</td>\n",
       "    </tr>\n",
       "    <tr>\n",
       "      <th>117036</th>\n",
       "      <td>4957f9e7-d7f4-4a52-9764-031cebcac83f</td>\n",
       "      <td>Captain Jeoy</td>\n",
       "      <td>I love Netflix. I always enjoy my time using it.</td>\n",
       "      <td>5</td>\n",
       "      <td>0</td>\n",
       "      <td>8.34.0 build 4 50250</td>\n",
       "      <td>2022-08-15 16:16:30</td>\n",
       "      <td>8.34.0 build 4 50250</td>\n",
       "    </tr>\n",
       "    <tr>\n",
       "      <th>117037</th>\n",
       "      <td>9acf7586-7abf-4b50-8c50-3ede3b2a42c4</td>\n",
       "      <td>Suryansh</td>\n",
       "      <td>Sound quality is very slow of movies</td>\n",
       "      <td>1</td>\n",
       "      <td>0</td>\n",
       "      <td>NaN</td>\n",
       "      <td>2020-08-17 07:26:58</td>\n",
       "      <td>NaN</td>\n",
       "    </tr>\n",
       "    <tr>\n",
       "      <th>117038</th>\n",
       "      <td>32870f7f-c461-4256-b602-75244ca60248</td>\n",
       "      <td>A Google user</td>\n",
       "      <td>Rate is very expensive.. bcos we see netflix s...</td>\n",
       "      <td>1</td>\n",
       "      <td>0</td>\n",
       "      <td>7.17.0 build 13 34346</td>\n",
       "      <td>2019-07-21 09:41:42</td>\n",
       "      <td>7.17.0 build 13 34346</td>\n",
       "    </tr>\n",
       "    <tr>\n",
       "      <th>117039</th>\n",
       "      <td>dc1352e9-10a8-41ca-ab23-05d045b08e90</td>\n",
       "      <td>suraj soni</td>\n",
       "      <td>this app is awesome for english movies ,series...</td>\n",
       "      <td>4</td>\n",
       "      <td>0</td>\n",
       "      <td>NaN</td>\n",
       "      <td>2020-05-24 11:04:08</td>\n",
       "      <td>NaN</td>\n",
       "    </tr>\n",
       "  </tbody>\n",
       "</table>\n",
       "</div>"
      ],
      "text/plain": [
       "                                    reviewId       userName  \\\n",
       "117035  a760ead9-e7aa-4ed1-a651-5c37c3600dac  A Google user   \n",
       "117036  4957f9e7-d7f4-4a52-9764-031cebcac83f   Captain Jeoy   \n",
       "117037  9acf7586-7abf-4b50-8c50-3ede3b2a42c4       Suryansh   \n",
       "117038  32870f7f-c461-4256-b602-75244ca60248  A Google user   \n",
       "117039  dc1352e9-10a8-41ca-ab23-05d045b08e90     suraj soni   \n",
       "\n",
       "                                                  content  score  \\\n",
       "117035  i really like it! there are so many movies and...      5   \n",
       "117036   I love Netflix. I always enjoy my time using it.      5   \n",
       "117037               Sound quality is very slow of movies      1   \n",
       "117038  Rate is very expensive.. bcos we see netflix s...      1   \n",
       "117039  this app is awesome for english movies ,series...      4   \n",
       "\n",
       "        thumbsUpCount   reviewCreatedVersion                   at  \\\n",
       "117035              0                    NaN  2019-08-03 15:06:03   \n",
       "117036              0   8.34.0 build 4 50250  2022-08-15 16:16:30   \n",
       "117037              0                    NaN  2020-08-17 07:26:58   \n",
       "117038              0  7.17.0 build 13 34346  2019-07-21 09:41:42   \n",
       "117039              0                    NaN  2020-05-24 11:04:08   \n",
       "\n",
       "                   appVersion  \n",
       "117035                    NaN  \n",
       "117036   8.34.0 build 4 50250  \n",
       "117037                    NaN  \n",
       "117038  7.17.0 build 13 34346  \n",
       "117039                    NaN  "
      ]
     },
     "execution_count": 6,
     "metadata": {},
     "output_type": "execute_result"
    }
   ],
   "source": [
    "df.tail()"
   ]
  },
  {
   "cell_type": "code",
   "execution_count": 8,
   "metadata": {
    "colab": {
     "background_save": true
=======
      "cell_type": "markdown",
      "metadata": {
        "id": "jj5LWBzkxXgj"
      },
      "source": [
        "## 필수과제"
      ]
>>>>>>> a51c56648f94254c54b9ec83c4d11f40548caaf9
    },
    {
<<<<<<< HEAD
     "name": "stdout",
     "output_type": "stream",
     "text": [
      "Shape of the dataset: (117040, 8)\n",
      "Columns in the dataset: Index(['reviewId', 'userName', 'content', 'score', 'thumbsUpCount',\n",
      "       'reviewCreatedVersion', 'at', 'appVersion'],\n",
      "      dtype='object')\n"
     ]
    }
   ],
   "source": [
    "print(f'Shape of the dataset: {df.shape}')\n",
    "print(f'Columns in the dataset: {df.columns}')"
   ]
  },
  {
   "cell_type": "markdown",
   "metadata": {
    "id": "1Oqnil4VxfYf"
   },
   "source": [
    "### 2. 데이터 전처리"
   ]
  },
  {
   "cell_type": "code",
   "execution_count": 11,
   "metadata": {
    "colab": {
     "background_save": true
    },
    "id": "0SdCh2hFBl_j",
    "outputId": "845808f3-9eac-4747-8a5e-0946e581c404"
   },
   "outputs": [
    {
     "name": "stderr",
     "output_type": "stream",
     "text": [
      "[nltk_data] Downloading package stopwords to\n",
      "[nltk_data]     /Users/t2023-m0072/nltk_data...\n",
      "[nltk_data]   Package stopwords is already up-to-date!\n"
     ]
    }
   ],
   "source": [
    "import re  # 정규 표현식을 사용하기 위함\n",
    "import nltk  # natural language toolkit\n",
    "from nltk.corpus import stopwords\n",
    "from nltk.tokenize import word_tokenize\n",
    "nltk.download('stopwords')\n",
    "\n",
    "# 전처리 함수\n",
    "def preprocess_text(text):\n",
    "    if isinstance(text, float):\n",
    "        return \"\"\n",
    "    text = text.lower()  # 대문자를 소문자로\n",
    "    text = text.strip()  # 띄어쓰기 제외하고 빈 칸 제거\n",
    "    pattern = r'[^a-zA-Z가-힣]'\n",
    "    text = re.sub(r'[^a-zA-Z\\s.!?,]', '', text)  # 알파벳, 공백, 그리고 일부 구두점만 유지\n",
    "    return text\n",
    "\n",
    "# 불필요한 열 제거\n",
    "df = df[['content', 'score']]\n",
    "\n",
    "# 리뷰 텍스트 정제\n",
    "df['content'] = df['content'].apply(preprocess_text)\n",
    "\n",
    "# 불용어 제거\n",
    "stop_words = set(stopwords.words('english'))\n",
    "def remove_stopwords(text):\n",
    "    words = text.split()\n",
    "    words = [word for word in words if word not in stop_words]\n",
    "    return ' '.join(words)\n",
    "\n",
    "df['content'] = df['content'].apply(remove_stopwords)"
   ]
  },
  {
   "cell_type": "code",
   "execution_count": 13,
   "metadata": {
    "colab": {
     "background_save": true
    },
    "id": "zA6reR4DhMxJ",
    "outputId": "8d00c0d6-0220-47cd-d682-d9b6a241e087"
   },
   "outputs": [
    {
     "data": {
      "text/html": [
       "<div>\n",
       "<style scoped>\n",
       "    .dataframe tbody tr th:only-of-type {\n",
       "        vertical-align: middle;\n",
       "    }\n",
       "\n",
       "    .dataframe tbody tr th {\n",
       "        vertical-align: top;\n",
       "    }\n",
       "\n",
       "    .dataframe thead th {\n",
       "        text-align: right;\n",
       "    }\n",
       "</style>\n",
       "<table border=\"1\" class=\"dataframe\">\n",
       "  <thead>\n",
       "    <tr style=\"text-align: right;\">\n",
       "      <th></th>\n",
       "      <th>content</th>\n",
       "      <th>score</th>\n",
       "    </tr>\n",
       "  </thead>\n",
       "  <tbody>\n",
       "    <tr>\n",
       "      <th>0</th>\n",
       "      <td>good experience. great customer service.</td>\n",
       "      <td>5</td>\n",
       "    </tr>\n",
       "    <tr>\n",
       "      <th>1</th>\n",
       "      <td>bro watching w cartoon error came next season ...</td>\n",
       "      <td>1</td>\n",
       "    </tr>\n",
       "    <tr>\n",
       "      <th>2</th>\n",
       "      <td>desent</td>\n",
       "      <td>5</td>\n",
       "    </tr>\n",
       "    <tr>\n",
       "      <th>3</th>\n",
       "      <td>scam company.. loot people money name giftcard...</td>\n",
       "      <td>1</td>\n",
       "    </tr>\n",
       "    <tr>\n",
       "      <th>4</th>\n",
       "      <td>stopped opening. ive uninstalled reinstalled s...</td>\n",
       "      <td>1</td>\n",
       "    </tr>\n",
       "    <tr>\n",
       "      <th>5</th>\n",
       "      <td>phone cant watch netflix. stupid app</td>\n",
       "      <td>1</td>\n",
       "    </tr>\n",
       "    <tr>\n",
       "      <th>6</th>\n",
       "      <td></td>\n",
       "      <td>1</td>\n",
       "    </tr>\n",
       "    <tr>\n",
       "      <th>7</th>\n",
       "      <td>beban q</td>\n",
       "      <td>1</td>\n",
       "    </tr>\n",
       "    <tr>\n",
       "      <th>8</th>\n",
       "      <td>z</td>\n",
       "      <td>5</td>\n",
       "    </tr>\n",
       "    <tr>\n",
       "      <th>9</th>\n",
       "      <td>progress often saved, takes away core function...</td>\n",
       "      <td>1</td>\n",
       "    </tr>\n",
       "    <tr>\n",
       "      <th>10</th>\n",
       "      <td>minds shaped,your opinions molded men manipula...</td>\n",
       "      <td>1</td>\n",
       "    </tr>\n",
       "    <tr>\n",
       "      <th>11</th>\n",
       "      <td>paying subscription still getting english hind...</td>\n",
       "      <td>1</td>\n",
       "    </tr>\n",
       "    <tr>\n",
       "      <th>12</th>\n",
       "      <td></td>\n",
       "      <td>4</td>\n",
       "    </tr>\n",
       "    <tr>\n",
       "      <th>13</th>\n",
       "      <td>streaming services worse every day. minutes lo...</td>\n",
       "      <td>1</td>\n",
       "    </tr>\n",
       "    <tr>\n",
       "      <th>14</th>\n",
       "      <td>add kannadda</td>\n",
       "      <td>1</td>\n",
       "    </tr>\n",
       "    <tr>\n",
       "      <th>15</th>\n",
       "      <td>sorry oh brother saw good offer ebay dad lowli...</td>\n",
       "      <td>5</td>\n",
       "    </tr>\n",
       "    <tr>\n",
       "      <th>16</th>\n",
       "      <td>get new account</td>\n",
       "      <td>5</td>\n",
       "    </tr>\n",
       "    <tr>\n",
       "      <th>17</th>\n",
       "      <td>always hang</td>\n",
       "      <td>1</td>\n",
       "    </tr>\n",
       "    <tr>\n",
       "      <th>18</th>\n",
       "      <td>nice option always hand</td>\n",
       "      <td>5</td>\n",
       "    </tr>\n",
       "    <tr>\n",
       "      <th>19</th>\n",
       "      <td>uninstalling due persistent buffering issues. ...</td>\n",
       "      <td>1</td>\n",
       "    </tr>\n",
       "  </tbody>\n",
       "</table>\n",
       "</div>"
      ],
      "text/plain": [
       "                                              content  score\n",
       "0            good experience. great customer service.      5\n",
       "1   bro watching w cartoon error came next season ...      1\n",
       "2                                              desent      5\n",
       "3   scam company.. loot people money name giftcard...      1\n",
       "4   stopped opening. ive uninstalled reinstalled s...      1\n",
       "5                phone cant watch netflix. stupid app      1\n",
       "6                                                          1\n",
       "7                                             beban q      1\n",
       "8                                                   z      5\n",
       "9   progress often saved, takes away core function...      1\n",
       "10  minds shaped,your opinions molded men manipula...      1\n",
       "11  paying subscription still getting english hind...      1\n",
       "12                                                         4\n",
       "13  streaming services worse every day. minutes lo...      1\n",
       "14                                       add kannadda      1\n",
       "15  sorry oh brother saw good offer ebay dad lowli...      5\n",
       "16                                    get new account      5\n",
       "17                                        always hang      1\n",
       "18                            nice option always hand      5\n",
       "19  uninstalling due persistent buffering issues. ...      1"
      ]
     },
     "execution_count": 13,
     "metadata": {},
     "output_type": "execute_result"
    }
   ],
   "source": [
    "df.head(20)"
   ]
  },
  {
   "cell_type": "markdown",
   "metadata": {
    "id": "BdaI8Y59xmwf"
   },
   "source": [
    "### 3. feature 분석 (EDA)"
   ]
  },
  {
   "cell_type": "code",
   "execution_count": 90,
   "metadata": {
    "colab": {
     "background_save": true
=======
      "cell_type": "markdown",
      "metadata": {
        "id": "x7dzFLpXxZV-"
      },
      "source": [
        "### 1. 데이터셋 불러오기"
      ]
    },
    {
      "cell_type": "code",
      "execution_count": 13,
      "metadata": {
        "id": "iXHlQDfkA3ro"
      },
      "outputs": [],
      "source": [
        "import pandas as pd\n",
        "\n",
        "df = pd.read_csv('./netflix_reviews.csv')"
      ]
    },
    {
      "cell_type": "code",
      "execution_count": 14,
      "metadata": {
        "colab": {
          "base_uri": "https://localhost:8080/",
          "height": 293
        },
        "collapsed": true,
        "id": "whVH37t2A0Rj",
        "jupyter": {
          "outputs_hidden": true
        },
        "outputId": "be613ae5-191b-41ae-c83c-f9e52c74c9c5"
      },
      "outputs": [
        {
          "output_type": "execute_result",
          "data": {
            "text/plain": [
              "                               reviewId                           userName  \\\n",
              "0  09ed2c3a-a4ca-4241-a01c-e7543943ee05                         reyes Cruz   \n",
              "1  b2d324ff-0005-45c4-accf-dc983124400d  NISITH DISSANAYAKE (Widenn Gamer)   \n",
              "2  2d619b1e-aca3-4807-b77f-c9446a606ddf                       Evelyn Okoro   \n",
              "3  03cc29b9-a49a-4e26-885a-d1652bb669be                      Yogesh Bhatta   \n",
              "4  c1b98dcf-0b75-4952-b9ac-6165381f41cf                           P3L0NAZ0   \n",
              "\n",
              "                                             content  score  thumbsUpCount  \\\n",
              "0      Very good experience. Great customer service.      5              0   \n",
              "1  Bro I was watching w cartoon then this error c...      1              0   \n",
              "2                                             Desent      5              0   \n",
              "3  THIS IS SCAM COMPANY.. THEY JUST LOOT PEOPLE M...      1              0   \n",
              "4  Stopped opening. I've uninstalled and reinstal...      1              0   \n",
              "\n",
              "    reviewCreatedVersion                   at             appVersion  \n",
              "0  7.89.0 build 18 35322  2024-10-20 14:10:34  7.89.0 build 18 35322  \n",
              "1  8.136.0 build 3 50908  2024-10-20 14:10:25  8.136.0 build 3 50908  \n",
              "2                    NaN  2024-10-20 14:06:08                    NaN  \n",
              "3   7.98.0 build 7 35414  2024-10-20 14:02:13   7.98.0 build 7 35414  \n",
              "4  8.136.0 build 3 50908  2024-10-20 14:01:12  8.136.0 build 3 50908  "
            ],
            "text/html": [
              "\n",
              "  <div id=\"df-64850ca9-c744-4f72-a630-69e6d1b84321\" class=\"colab-df-container\">\n",
              "    <div>\n",
              "<style scoped>\n",
              "    .dataframe tbody tr th:only-of-type {\n",
              "        vertical-align: middle;\n",
              "    }\n",
              "\n",
              "    .dataframe tbody tr th {\n",
              "        vertical-align: top;\n",
              "    }\n",
              "\n",
              "    .dataframe thead th {\n",
              "        text-align: right;\n",
              "    }\n",
              "</style>\n",
              "<table border=\"1\" class=\"dataframe\">\n",
              "  <thead>\n",
              "    <tr style=\"text-align: right;\">\n",
              "      <th></th>\n",
              "      <th>reviewId</th>\n",
              "      <th>userName</th>\n",
              "      <th>content</th>\n",
              "      <th>score</th>\n",
              "      <th>thumbsUpCount</th>\n",
              "      <th>reviewCreatedVersion</th>\n",
              "      <th>at</th>\n",
              "      <th>appVersion</th>\n",
              "    </tr>\n",
              "  </thead>\n",
              "  <tbody>\n",
              "    <tr>\n",
              "      <th>0</th>\n",
              "      <td>09ed2c3a-a4ca-4241-a01c-e7543943ee05</td>\n",
              "      <td>reyes Cruz</td>\n",
              "      <td>Very good experience. Great customer service.</td>\n",
              "      <td>5</td>\n",
              "      <td>0</td>\n",
              "      <td>7.89.0 build 18 35322</td>\n",
              "      <td>2024-10-20 14:10:34</td>\n",
              "      <td>7.89.0 build 18 35322</td>\n",
              "    </tr>\n",
              "    <tr>\n",
              "      <th>1</th>\n",
              "      <td>b2d324ff-0005-45c4-accf-dc983124400d</td>\n",
              "      <td>NISITH DISSANAYAKE (Widenn Gamer)</td>\n",
              "      <td>Bro I was watching w cartoon then this error c...</td>\n",
              "      <td>1</td>\n",
              "      <td>0</td>\n",
              "      <td>8.136.0 build 3 50908</td>\n",
              "      <td>2024-10-20 14:10:25</td>\n",
              "      <td>8.136.0 build 3 50908</td>\n",
              "    </tr>\n",
              "    <tr>\n",
              "      <th>2</th>\n",
              "      <td>2d619b1e-aca3-4807-b77f-c9446a606ddf</td>\n",
              "      <td>Evelyn Okoro</td>\n",
              "      <td>Desent</td>\n",
              "      <td>5</td>\n",
              "      <td>0</td>\n",
              "      <td>NaN</td>\n",
              "      <td>2024-10-20 14:06:08</td>\n",
              "      <td>NaN</td>\n",
              "    </tr>\n",
              "    <tr>\n",
              "      <th>3</th>\n",
              "      <td>03cc29b9-a49a-4e26-885a-d1652bb669be</td>\n",
              "      <td>Yogesh Bhatta</td>\n",
              "      <td>THIS IS SCAM COMPANY.. THEY JUST LOOT PEOPLE M...</td>\n",
              "      <td>1</td>\n",
              "      <td>0</td>\n",
              "      <td>7.98.0 build 7 35414</td>\n",
              "      <td>2024-10-20 14:02:13</td>\n",
              "      <td>7.98.0 build 7 35414</td>\n",
              "    </tr>\n",
              "    <tr>\n",
              "      <th>4</th>\n",
              "      <td>c1b98dcf-0b75-4952-b9ac-6165381f41cf</td>\n",
              "      <td>P3L0NAZ0</td>\n",
              "      <td>Stopped opening. I've uninstalled and reinstal...</td>\n",
              "      <td>1</td>\n",
              "      <td>0</td>\n",
              "      <td>8.136.0 build 3 50908</td>\n",
              "      <td>2024-10-20 14:01:12</td>\n",
              "      <td>8.136.0 build 3 50908</td>\n",
              "    </tr>\n",
              "  </tbody>\n",
              "</table>\n",
              "</div>\n",
              "    <div class=\"colab-df-buttons\">\n",
              "\n",
              "  <div class=\"colab-df-container\">\n",
              "    <button class=\"colab-df-convert\" onclick=\"convertToInteractive('df-64850ca9-c744-4f72-a630-69e6d1b84321')\"\n",
              "            title=\"Convert this dataframe to an interactive table.\"\n",
              "            style=\"display:none;\">\n",
              "\n",
              "  <svg xmlns=\"http://www.w3.org/2000/svg\" height=\"24px\" viewBox=\"0 -960 960 960\">\n",
              "    <path d=\"M120-120v-720h720v720H120Zm60-500h600v-160H180v160Zm220 220h160v-160H400v160Zm0 220h160v-160H400v160ZM180-400h160v-160H180v160Zm440 0h160v-160H620v160ZM180-180h160v-160H180v160Zm440 0h160v-160H620v160Z\"/>\n",
              "  </svg>\n",
              "    </button>\n",
              "\n",
              "  <style>\n",
              "    .colab-df-container {\n",
              "      display:flex;\n",
              "      gap: 12px;\n",
              "    }\n",
              "\n",
              "    .colab-df-convert {\n",
              "      background-color: #E8F0FE;\n",
              "      border: none;\n",
              "      border-radius: 50%;\n",
              "      cursor: pointer;\n",
              "      display: none;\n",
              "      fill: #1967D2;\n",
              "      height: 32px;\n",
              "      padding: 0 0 0 0;\n",
              "      width: 32px;\n",
              "    }\n",
              "\n",
              "    .colab-df-convert:hover {\n",
              "      background-color: #E2EBFA;\n",
              "      box-shadow: 0px 1px 2px rgba(60, 64, 67, 0.3), 0px 1px 3px 1px rgba(60, 64, 67, 0.15);\n",
              "      fill: #174EA6;\n",
              "    }\n",
              "\n",
              "    .colab-df-buttons div {\n",
              "      margin-bottom: 4px;\n",
              "    }\n",
              "\n",
              "    [theme=dark] .colab-df-convert {\n",
              "      background-color: #3B4455;\n",
              "      fill: #D2E3FC;\n",
              "    }\n",
              "\n",
              "    [theme=dark] .colab-df-convert:hover {\n",
              "      background-color: #434B5C;\n",
              "      box-shadow: 0px 1px 3px 1px rgba(0, 0, 0, 0.15);\n",
              "      filter: drop-shadow(0px 1px 2px rgba(0, 0, 0, 0.3));\n",
              "      fill: #FFFFFF;\n",
              "    }\n",
              "  </style>\n",
              "\n",
              "    <script>\n",
              "      const buttonEl =\n",
              "        document.querySelector('#df-64850ca9-c744-4f72-a630-69e6d1b84321 button.colab-df-convert');\n",
              "      buttonEl.style.display =\n",
              "        google.colab.kernel.accessAllowed ? 'block' : 'none';\n",
              "\n",
              "      async function convertToInteractive(key) {\n",
              "        const element = document.querySelector('#df-64850ca9-c744-4f72-a630-69e6d1b84321');\n",
              "        const dataTable =\n",
              "          await google.colab.kernel.invokeFunction('convertToInteractive',\n",
              "                                                    [key], {});\n",
              "        if (!dataTable) return;\n",
              "\n",
              "        const docLinkHtml = 'Like what you see? Visit the ' +\n",
              "          '<a target=\"_blank\" href=https://colab.research.google.com/notebooks/data_table.ipynb>data table notebook</a>'\n",
              "          + ' to learn more about interactive tables.';\n",
              "        element.innerHTML = '';\n",
              "        dataTable['output_type'] = 'display_data';\n",
              "        await google.colab.output.renderOutput(dataTable, element);\n",
              "        const docLink = document.createElement('div');\n",
              "        docLink.innerHTML = docLinkHtml;\n",
              "        element.appendChild(docLink);\n",
              "      }\n",
              "    </script>\n",
              "  </div>\n",
              "\n",
              "\n",
              "<div id=\"df-8bb62a00-96d5-4b9b-81db-d60f32281aef\">\n",
              "  <button class=\"colab-df-quickchart\" onclick=\"quickchart('df-8bb62a00-96d5-4b9b-81db-d60f32281aef')\"\n",
              "            title=\"Suggest charts\"\n",
              "            style=\"display:none;\">\n",
              "\n",
              "<svg xmlns=\"http://www.w3.org/2000/svg\" height=\"24px\"viewBox=\"0 0 24 24\"\n",
              "     width=\"24px\">\n",
              "    <g>\n",
              "        <path d=\"M19 3H5c-1.1 0-2 .9-2 2v14c0 1.1.9 2 2 2h14c1.1 0 2-.9 2-2V5c0-1.1-.9-2-2-2zM9 17H7v-7h2v7zm4 0h-2V7h2v10zm4 0h-2v-4h2v4z\"/>\n",
              "    </g>\n",
              "</svg>\n",
              "  </button>\n",
              "\n",
              "<style>\n",
              "  .colab-df-quickchart {\n",
              "      --bg-color: #E8F0FE;\n",
              "      --fill-color: #1967D2;\n",
              "      --hover-bg-color: #E2EBFA;\n",
              "      --hover-fill-color: #174EA6;\n",
              "      --disabled-fill-color: #AAA;\n",
              "      --disabled-bg-color: #DDD;\n",
              "  }\n",
              "\n",
              "  [theme=dark] .colab-df-quickchart {\n",
              "      --bg-color: #3B4455;\n",
              "      --fill-color: #D2E3FC;\n",
              "      --hover-bg-color: #434B5C;\n",
              "      --hover-fill-color: #FFFFFF;\n",
              "      --disabled-bg-color: #3B4455;\n",
              "      --disabled-fill-color: #666;\n",
              "  }\n",
              "\n",
              "  .colab-df-quickchart {\n",
              "    background-color: var(--bg-color);\n",
              "    border: none;\n",
              "    border-radius: 50%;\n",
              "    cursor: pointer;\n",
              "    display: none;\n",
              "    fill: var(--fill-color);\n",
              "    height: 32px;\n",
              "    padding: 0;\n",
              "    width: 32px;\n",
              "  }\n",
              "\n",
              "  .colab-df-quickchart:hover {\n",
              "    background-color: var(--hover-bg-color);\n",
              "    box-shadow: 0 1px 2px rgba(60, 64, 67, 0.3), 0 1px 3px 1px rgba(60, 64, 67, 0.15);\n",
              "    fill: var(--button-hover-fill-color);\n",
              "  }\n",
              "\n",
              "  .colab-df-quickchart-complete:disabled,\n",
              "  .colab-df-quickchart-complete:disabled:hover {\n",
              "    background-color: var(--disabled-bg-color);\n",
              "    fill: var(--disabled-fill-color);\n",
              "    box-shadow: none;\n",
              "  }\n",
              "\n",
              "  .colab-df-spinner {\n",
              "    border: 2px solid var(--fill-color);\n",
              "    border-color: transparent;\n",
              "    border-bottom-color: var(--fill-color);\n",
              "    animation:\n",
              "      spin 1s steps(1) infinite;\n",
              "  }\n",
              "\n",
              "  @keyframes spin {\n",
              "    0% {\n",
              "      border-color: transparent;\n",
              "      border-bottom-color: var(--fill-color);\n",
              "      border-left-color: var(--fill-color);\n",
              "    }\n",
              "    20% {\n",
              "      border-color: transparent;\n",
              "      border-left-color: var(--fill-color);\n",
              "      border-top-color: var(--fill-color);\n",
              "    }\n",
              "    30% {\n",
              "      border-color: transparent;\n",
              "      border-left-color: var(--fill-color);\n",
              "      border-top-color: var(--fill-color);\n",
              "      border-right-color: var(--fill-color);\n",
              "    }\n",
              "    40% {\n",
              "      border-color: transparent;\n",
              "      border-right-color: var(--fill-color);\n",
              "      border-top-color: var(--fill-color);\n",
              "    }\n",
              "    60% {\n",
              "      border-color: transparent;\n",
              "      border-right-color: var(--fill-color);\n",
              "    }\n",
              "    80% {\n",
              "      border-color: transparent;\n",
              "      border-right-color: var(--fill-color);\n",
              "      border-bottom-color: var(--fill-color);\n",
              "    }\n",
              "    90% {\n",
              "      border-color: transparent;\n",
              "      border-bottom-color: var(--fill-color);\n",
              "    }\n",
              "  }\n",
              "</style>\n",
              "\n",
              "  <script>\n",
              "    async function quickchart(key) {\n",
              "      const quickchartButtonEl =\n",
              "        document.querySelector('#' + key + ' button');\n",
              "      quickchartButtonEl.disabled = true;  // To prevent multiple clicks.\n",
              "      quickchartButtonEl.classList.add('colab-df-spinner');\n",
              "      try {\n",
              "        const charts = await google.colab.kernel.invokeFunction(\n",
              "            'suggestCharts', [key], {});\n",
              "      } catch (error) {\n",
              "        console.error('Error during call to suggestCharts:', error);\n",
              "      }\n",
              "      quickchartButtonEl.classList.remove('colab-df-spinner');\n",
              "      quickchartButtonEl.classList.add('colab-df-quickchart-complete');\n",
              "    }\n",
              "    (() => {\n",
              "      let quickchartButtonEl =\n",
              "        document.querySelector('#df-8bb62a00-96d5-4b9b-81db-d60f32281aef button');\n",
              "      quickchartButtonEl.style.display =\n",
              "        google.colab.kernel.accessAllowed ? 'block' : 'none';\n",
              "    })();\n",
              "  </script>\n",
              "</div>\n",
              "\n",
              "    </div>\n",
              "  </div>\n"
            ],
            "application/vnd.google.colaboratory.intrinsic+json": {
              "type": "dataframe",
              "variable_name": "df"
            }
          },
          "metadata": {},
          "execution_count": 14
        }
      ],
      "source": [
        "df.head()"
      ]
>>>>>>> a51c56648f94254c54b9ec83c4d11f40548caaf9
    },
    {
<<<<<<< HEAD
     "data": {
      "image/png": "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",
      "text/plain": [
       "<Figure size 640x480 with 1 Axes>"
      ]
     },
     "metadata": {},
     "output_type": "display_data"
    }
   ],
   "source": [
    "import seaborn as sns  # 그래프를 그리기 위한 seaborn 라이브러리 임포트 (없으면 설치 바랍니다)\n",
    "import matplotlib.pyplot as plt  # 그래프 표시를 위한 pyplot 임포트\n",
    "\n",
    "sns.countplot(x='score', data=df)\n",
    "plt.xlabel('Score')\n",
    "plt.ylabel('Count')\n",
    "plt.title('Distribution of Scores')\n",
    "plt.show()"
   ]
  },
  {
   "cell_type": "markdown",
   "metadata": {
    "id": "RIb3tseZxtqV"
   },
   "source": [
    "### 4. 리뷰 예측 모델 학습시키기 (LSTM)\n"
   ]
  },
  {
   "cell_type": "code",
   "execution_count": 99,
   "metadata": {
    "colab": {
     "background_save": true
    },
    "id": "meBQlWPKylH-",
    "outputId": "7f906e1b-4b79-42f1-d3d8-d28fc91a9894"
   },
   "outputs": [
    {
     "ename": "OSError",
     "evalue": "dlopen(/opt/anaconda3/envs/dl_test/lib/python3.12/site-packages/torchtext/lib/libtorchtext.so, 0x0006): Symbol not found: __ZN3c105ErrorC1ENSt3__112basic_stringIcNS1_11char_traitsIcEENS1_9allocatorIcEEEES7_PKv\n  Referenced from: <7E3C8144-0701-3505-8587-6E953627B6AF> /opt/anaconda3/envs/dl_test/lib/python3.12/site-packages/torchtext/lib/libtorchtext.so\n  Expected in:     <491AC3A9-1969-3567-B114-DEE7C365DC2B> /opt/anaconda3/envs/dl_test/lib/python3.12/site-packages/torch/lib/libc10.dylib",
     "output_type": "error",
     "traceback": [
      "\u001b[0;31m---------------------------------------------------------------------------\u001b[0m",
      "\u001b[0;31mOSError\u001b[0m                                   Traceback (most recent call last)",
      "Cell \u001b[0;32mIn[99], line 8\u001b[0m\n\u001b[1;32m      6\u001b[0m \u001b[38;5;28;01mfrom\u001b[39;00m \u001b[38;5;21;01mtorch\u001b[39;00m\u001b[38;5;21;01m.\u001b[39;00m\u001b[38;5;21;01mutils\u001b[39;00m\u001b[38;5;21;01m.\u001b[39;00m\u001b[38;5;21;01mdata\u001b[39;00m \u001b[38;5;28;01mimport\u001b[39;00m DataLoader, Dataset\n\u001b[1;32m      7\u001b[0m \u001b[38;5;28;01mfrom\u001b[39;00m \u001b[38;5;21;01mtorch\u001b[39;00m\u001b[38;5;21;01m.\u001b[39;00m\u001b[38;5;21;01mnn\u001b[39;00m\u001b[38;5;21;01m.\u001b[39;00m\u001b[38;5;21;01mutils\u001b[39;00m\u001b[38;5;21;01m.\u001b[39;00m\u001b[38;5;21;01mrnn\u001b[39;00m \u001b[38;5;28;01mimport\u001b[39;00m pad_sequence\n\u001b[0;32m----> 8\u001b[0m \u001b[38;5;28;01mfrom\u001b[39;00m \u001b[38;5;21;01mtorchtext\u001b[39;00m\u001b[38;5;21;01m.\u001b[39;00m\u001b[38;5;21;01mdata\u001b[39;00m\u001b[38;5;21;01m.\u001b[39;00m\u001b[38;5;21;01mutils\u001b[39;00m \u001b[38;5;28;01mimport\u001b[39;00m get_tokenizer\n\u001b[1;32m      9\u001b[0m \u001b[38;5;28;01mfrom\u001b[39;00m \u001b[38;5;21;01mtorchtext\u001b[39;00m\u001b[38;5;21;01m.\u001b[39;00m\u001b[38;5;21;01mvocab\u001b[39;00m \u001b[38;5;28;01mimport\u001b[39;00m build_vocab_from_iterator\n\u001b[1;32m     10\u001b[0m \u001b[38;5;28;01mfrom\u001b[39;00m \u001b[38;5;21;01msklearn\u001b[39;00m\u001b[38;5;21;01m.\u001b[39;00m\u001b[38;5;21;01mmodel_selection\u001b[39;00m \u001b[38;5;28;01mimport\u001b[39;00m train_test_split\n",
      "File \u001b[0;32m/opt/anaconda3/envs/dl_test/lib/python3.12/site-packages/torchtext/__init__.py:18\u001b[0m\n\u001b[1;32m     15\u001b[0m     _WARN \u001b[38;5;241m=\u001b[39m \u001b[38;5;28;01mFalse\u001b[39;00m\n\u001b[1;32m     17\u001b[0m \u001b[38;5;66;03m# the following import has to happen first in order to load the torchtext C++ library\u001b[39;00m\n\u001b[0;32m---> 18\u001b[0m \u001b[38;5;28;01mfrom\u001b[39;00m \u001b[38;5;21;01mtorchtext\u001b[39;00m \u001b[38;5;28;01mimport\u001b[39;00m _extension  \u001b[38;5;66;03m# noqa: F401\u001b[39;00m\n\u001b[1;32m     20\u001b[0m _TEXT_BUCKET \u001b[38;5;241m=\u001b[39m \u001b[38;5;124m\"\u001b[39m\u001b[38;5;124mhttps://download.pytorch.org/models/text/\u001b[39m\u001b[38;5;124m\"\u001b[39m\n\u001b[1;32m     22\u001b[0m _CACHE_DIR \u001b[38;5;241m=\u001b[39m os\u001b[38;5;241m.\u001b[39mpath\u001b[38;5;241m.\u001b[39mexpanduser(os\u001b[38;5;241m.\u001b[39mpath\u001b[38;5;241m.\u001b[39mjoin(_get_torch_home(), \u001b[38;5;124m\"\u001b[39m\u001b[38;5;124mtext\u001b[39m\u001b[38;5;124m\"\u001b[39m))\n",
      "File \u001b[0;32m/opt/anaconda3/envs/dl_test/lib/python3.12/site-packages/torchtext/_extension.py:64\u001b[0m\n\u001b[1;32m     59\u001b[0m     \u001b[38;5;66;03m# This import is for initializing the methods registered via PyBind11\u001b[39;00m\n\u001b[1;32m     60\u001b[0m     \u001b[38;5;66;03m# This has to happen after the base library is loaded\u001b[39;00m\n\u001b[1;32m     61\u001b[0m     \u001b[38;5;28;01mfrom\u001b[39;00m \u001b[38;5;21;01mtorchtext\u001b[39;00m \u001b[38;5;28;01mimport\u001b[39;00m _torchtext  \u001b[38;5;66;03m# noqa\u001b[39;00m\n\u001b[0;32m---> 64\u001b[0m _init_extension()\n",
      "File \u001b[0;32m/opt/anaconda3/envs/dl_test/lib/python3.12/site-packages/torchtext/_extension.py:58\u001b[0m, in \u001b[0;36m_init_extension\u001b[0;34m()\u001b[0m\n\u001b[1;32m     55\u001b[0m \u001b[38;5;28;01mif\u001b[39;00m \u001b[38;5;129;01mnot\u001b[39;00m _mod_utils\u001b[38;5;241m.\u001b[39mis_module_available(\u001b[38;5;124m\"\u001b[39m\u001b[38;5;124mtorchtext._torchtext\u001b[39m\u001b[38;5;124m\"\u001b[39m):\n\u001b[1;32m     56\u001b[0m     \u001b[38;5;28;01mraise\u001b[39;00m \u001b[38;5;167;01mImportError\u001b[39;00m(\u001b[38;5;124m\"\u001b[39m\u001b[38;5;124mtorchtext C++ Extension is not found.\u001b[39m\u001b[38;5;124m\"\u001b[39m)\n\u001b[0;32m---> 58\u001b[0m _load_lib(\u001b[38;5;124m\"\u001b[39m\u001b[38;5;124mlibtorchtext\u001b[39m\u001b[38;5;124m\"\u001b[39m)\n\u001b[1;32m     59\u001b[0m \u001b[38;5;66;03m# This import is for initializing the methods registered via PyBind11\u001b[39;00m\n\u001b[1;32m     60\u001b[0m \u001b[38;5;66;03m# This has to happen after the base library is loaded\u001b[39;00m\n\u001b[1;32m     61\u001b[0m \u001b[38;5;28;01mfrom\u001b[39;00m \u001b[38;5;21;01mtorchtext\u001b[39;00m \u001b[38;5;28;01mimport\u001b[39;00m _torchtext\n",
      "File \u001b[0;32m/opt/anaconda3/envs/dl_test/lib/python3.12/site-packages/torchtext/_extension.py:50\u001b[0m, in \u001b[0;36m_load_lib\u001b[0;34m(lib)\u001b[0m\n\u001b[1;32m     48\u001b[0m \u001b[38;5;28;01mif\u001b[39;00m \u001b[38;5;129;01mnot\u001b[39;00m path\u001b[38;5;241m.\u001b[39mexists():\n\u001b[1;32m     49\u001b[0m     \u001b[38;5;28;01mreturn\u001b[39;00m \u001b[38;5;28;01mFalse\u001b[39;00m\n\u001b[0;32m---> 50\u001b[0m torch\u001b[38;5;241m.\u001b[39mops\u001b[38;5;241m.\u001b[39mload_library(path)\n\u001b[1;32m     51\u001b[0m \u001b[38;5;28;01mreturn\u001b[39;00m \u001b[38;5;28;01mTrue\u001b[39;00m\n",
      "File \u001b[0;32m/opt/anaconda3/envs/dl_test/lib/python3.12/site-packages/torch/_ops.py:1350\u001b[0m, in \u001b[0;36m_Ops.load_library\u001b[0;34m(self, path)\u001b[0m\n\u001b[1;32m   1345\u001b[0m path \u001b[38;5;241m=\u001b[39m _utils_internal\u001b[38;5;241m.\u001b[39mresolve_library_path(path)\n\u001b[1;32m   1346\u001b[0m \u001b[38;5;28;01mwith\u001b[39;00m dl_open_guard():\n\u001b[1;32m   1347\u001b[0m     \u001b[38;5;66;03m# Import the shared library into the process, thus running its\u001b[39;00m\n\u001b[1;32m   1348\u001b[0m     \u001b[38;5;66;03m# static (global) initialization code in order to register custom\u001b[39;00m\n\u001b[1;32m   1349\u001b[0m     \u001b[38;5;66;03m# operators with the JIT.\u001b[39;00m\n\u001b[0;32m-> 1350\u001b[0m     ctypes\u001b[38;5;241m.\u001b[39mCDLL(path)\n\u001b[1;32m   1351\u001b[0m \u001b[38;5;28mself\u001b[39m\u001b[38;5;241m.\u001b[39mloaded_libraries\u001b[38;5;241m.\u001b[39madd(path)\n",
      "File \u001b[0;32m/opt/anaconda3/envs/dl_test/lib/python3.12/ctypes/__init__.py:379\u001b[0m, in \u001b[0;36mCDLL.__init__\u001b[0;34m(self, name, mode, handle, use_errno, use_last_error, winmode)\u001b[0m\n\u001b[1;32m    376\u001b[0m \u001b[38;5;28mself\u001b[39m\u001b[38;5;241m.\u001b[39m_FuncPtr \u001b[38;5;241m=\u001b[39m _FuncPtr\n\u001b[1;32m    378\u001b[0m \u001b[38;5;28;01mif\u001b[39;00m handle \u001b[38;5;129;01mis\u001b[39;00m \u001b[38;5;28;01mNone\u001b[39;00m:\n\u001b[0;32m--> 379\u001b[0m     \u001b[38;5;28mself\u001b[39m\u001b[38;5;241m.\u001b[39m_handle \u001b[38;5;241m=\u001b[39m _dlopen(\u001b[38;5;28mself\u001b[39m\u001b[38;5;241m.\u001b[39m_name, mode)\n\u001b[1;32m    380\u001b[0m \u001b[38;5;28;01melse\u001b[39;00m:\n\u001b[1;32m    381\u001b[0m     \u001b[38;5;28mself\u001b[39m\u001b[38;5;241m.\u001b[39m_handle \u001b[38;5;241m=\u001b[39m handle\n",
      "\u001b[0;31mOSError\u001b[0m: dlopen(/opt/anaconda3/envs/dl_test/lib/python3.12/site-packages/torchtext/lib/libtorchtext.so, 0x0006): Symbol not found: __ZN3c105ErrorC1ENSt3__112basic_stringIcNS1_11char_traitsIcEENS1_9allocatorIcEEEES7_PKv\n  Referenced from: <7E3C8144-0701-3505-8587-6E953627B6AF> /opt/anaconda3/envs/dl_test/lib/python3.12/site-packages/torchtext/lib/libtorchtext.so\n  Expected in:     <491AC3A9-1969-3567-B114-DEE7C365DC2B> /opt/anaconda3/envs/dl_test/lib/python3.12/site-packages/torch/lib/libc10.dylib"
     ]
    }
   ],
   "source": [
    "import pandas as pd\n",
    "import torch\n",
    "import torch.nn as nn\n",
    "import torch.optim as optim\n",
    "import numpy as np\n",
    "from torch.utils.data import DataLoader, Dataset\n",
    "from torch.nn.utils.rnn import pad_sequence\n",
    "from torchtext.data.utils import get_tokenizer\n",
    "from torchtext.vocab import build_vocab_from_iterator\n",
    "from sklearn.model_selection import train_test_split\n",
    "from sklearn.preprocessing import LabelEncoder\n",
    "from collections import Counter"
   ]
  },
  {
   "cell_type": "code",
   "execution_count": 95,
   "metadata": {
=======
      "cell_type": "code",
      "execution_count": 15,
      "metadata": {
        "colab": {
          "base_uri": "https://localhost:8080/",
          "height": 293
        },
        "id": "B0JZUIJSBezE",
        "outputId": "2d7a43a8-45be-4ea5-d8ca-3b6bda2cc319"
      },
      "outputs": [
        {
          "output_type": "execute_result",
          "data": {
            "text/plain": [
              "                                    reviewId       userName  \\\n",
              "117035  a760ead9-e7aa-4ed1-a651-5c37c3600dac  A Google user   \n",
              "117036  4957f9e7-d7f4-4a52-9764-031cebcac83f   Captain Jeoy   \n",
              "117037  9acf7586-7abf-4b50-8c50-3ede3b2a42c4       Suryansh   \n",
              "117038  32870f7f-c461-4256-b602-75244ca60248  A Google user   \n",
              "117039  dc1352e9-10a8-41ca-ab23-05d045b08e90     suraj soni   \n",
              "\n",
              "                                                  content  score  \\\n",
              "117035  i really like it! there are so many movies and...      5   \n",
              "117036   I love Netflix. I always enjoy my time using it.      5   \n",
              "117037               Sound quality is very slow of movies      1   \n",
              "117038  Rate is very expensive.. bcos we see netflix s...      1   \n",
              "117039  this app is awesome for english movies ,series...      4   \n",
              "\n",
              "        thumbsUpCount   reviewCreatedVersion                   at  \\\n",
              "117035              0                    NaN  2019-08-03 15:06:03   \n",
              "117036              0   8.34.0 build 4 50250  2022-08-15 16:16:30   \n",
              "117037              0                    NaN  2020-08-17 07:26:58   \n",
              "117038              0  7.17.0 build 13 34346  2019-07-21 09:41:42   \n",
              "117039              0                    NaN  2020-05-24 11:04:08   \n",
              "\n",
              "                   appVersion  \n",
              "117035                    NaN  \n",
              "117036   8.34.0 build 4 50250  \n",
              "117037                    NaN  \n",
              "117038  7.17.0 build 13 34346  \n",
              "117039                    NaN  "
            ],
            "text/html": [
              "\n",
              "  <div id=\"df-f9086e24-d41b-4f0d-a8f6-5da3b7ba2e83\" class=\"colab-df-container\">\n",
              "    <div>\n",
              "<style scoped>\n",
              "    .dataframe tbody tr th:only-of-type {\n",
              "        vertical-align: middle;\n",
              "    }\n",
              "\n",
              "    .dataframe tbody tr th {\n",
              "        vertical-align: top;\n",
              "    }\n",
              "\n",
              "    .dataframe thead th {\n",
              "        text-align: right;\n",
              "    }\n",
              "</style>\n",
              "<table border=\"1\" class=\"dataframe\">\n",
              "  <thead>\n",
              "    <tr style=\"text-align: right;\">\n",
              "      <th></th>\n",
              "      <th>reviewId</th>\n",
              "      <th>userName</th>\n",
              "      <th>content</th>\n",
              "      <th>score</th>\n",
              "      <th>thumbsUpCount</th>\n",
              "      <th>reviewCreatedVersion</th>\n",
              "      <th>at</th>\n",
              "      <th>appVersion</th>\n",
              "    </tr>\n",
              "  </thead>\n",
              "  <tbody>\n",
              "    <tr>\n",
              "      <th>117035</th>\n",
              "      <td>a760ead9-e7aa-4ed1-a651-5c37c3600dac</td>\n",
              "      <td>A Google user</td>\n",
              "      <td>i really like it! there are so many movies and...</td>\n",
              "      <td>5</td>\n",
              "      <td>0</td>\n",
              "      <td>NaN</td>\n",
              "      <td>2019-08-03 15:06:03</td>\n",
              "      <td>NaN</td>\n",
              "    </tr>\n",
              "    <tr>\n",
              "      <th>117036</th>\n",
              "      <td>4957f9e7-d7f4-4a52-9764-031cebcac83f</td>\n",
              "      <td>Captain Jeoy</td>\n",
              "      <td>I love Netflix. I always enjoy my time using it.</td>\n",
              "      <td>5</td>\n",
              "      <td>0</td>\n",
              "      <td>8.34.0 build 4 50250</td>\n",
              "      <td>2022-08-15 16:16:30</td>\n",
              "      <td>8.34.0 build 4 50250</td>\n",
              "    </tr>\n",
              "    <tr>\n",
              "      <th>117037</th>\n",
              "      <td>9acf7586-7abf-4b50-8c50-3ede3b2a42c4</td>\n",
              "      <td>Suryansh</td>\n",
              "      <td>Sound quality is very slow of movies</td>\n",
              "      <td>1</td>\n",
              "      <td>0</td>\n",
              "      <td>NaN</td>\n",
              "      <td>2020-08-17 07:26:58</td>\n",
              "      <td>NaN</td>\n",
              "    </tr>\n",
              "    <tr>\n",
              "      <th>117038</th>\n",
              "      <td>32870f7f-c461-4256-b602-75244ca60248</td>\n",
              "      <td>A Google user</td>\n",
              "      <td>Rate is very expensive.. bcos we see netflix s...</td>\n",
              "      <td>1</td>\n",
              "      <td>0</td>\n",
              "      <td>7.17.0 build 13 34346</td>\n",
              "      <td>2019-07-21 09:41:42</td>\n",
              "      <td>7.17.0 build 13 34346</td>\n",
              "    </tr>\n",
              "    <tr>\n",
              "      <th>117039</th>\n",
              "      <td>dc1352e9-10a8-41ca-ab23-05d045b08e90</td>\n",
              "      <td>suraj soni</td>\n",
              "      <td>this app is awesome for english movies ,series...</td>\n",
              "      <td>4</td>\n",
              "      <td>0</td>\n",
              "      <td>NaN</td>\n",
              "      <td>2020-05-24 11:04:08</td>\n",
              "      <td>NaN</td>\n",
              "    </tr>\n",
              "  </tbody>\n",
              "</table>\n",
              "</div>\n",
              "    <div class=\"colab-df-buttons\">\n",
              "\n",
              "  <div class=\"colab-df-container\">\n",
              "    <button class=\"colab-df-convert\" onclick=\"convertToInteractive('df-f9086e24-d41b-4f0d-a8f6-5da3b7ba2e83')\"\n",
              "            title=\"Convert this dataframe to an interactive table.\"\n",
              "            style=\"display:none;\">\n",
              "\n",
              "  <svg xmlns=\"http://www.w3.org/2000/svg\" height=\"24px\" viewBox=\"0 -960 960 960\">\n",
              "    <path d=\"M120-120v-720h720v720H120Zm60-500h600v-160H180v160Zm220 220h160v-160H400v160Zm0 220h160v-160H400v160ZM180-400h160v-160H180v160Zm440 0h160v-160H620v160ZM180-180h160v-160H180v160Zm440 0h160v-160H620v160Z\"/>\n",
              "  </svg>\n",
              "    </button>\n",
              "\n",
              "  <style>\n",
              "    .colab-df-container {\n",
              "      display:flex;\n",
              "      gap: 12px;\n",
              "    }\n",
              "\n",
              "    .colab-df-convert {\n",
              "      background-color: #E8F0FE;\n",
              "      border: none;\n",
              "      border-radius: 50%;\n",
              "      cursor: pointer;\n",
              "      display: none;\n",
              "      fill: #1967D2;\n",
              "      height: 32px;\n",
              "      padding: 0 0 0 0;\n",
              "      width: 32px;\n",
              "    }\n",
              "\n",
              "    .colab-df-convert:hover {\n",
              "      background-color: #E2EBFA;\n",
              "      box-shadow: 0px 1px 2px rgba(60, 64, 67, 0.3), 0px 1px 3px 1px rgba(60, 64, 67, 0.15);\n",
              "      fill: #174EA6;\n",
              "    }\n",
              "\n",
              "    .colab-df-buttons div {\n",
              "      margin-bottom: 4px;\n",
              "    }\n",
              "\n",
              "    [theme=dark] .colab-df-convert {\n",
              "      background-color: #3B4455;\n",
              "      fill: #D2E3FC;\n",
              "    }\n",
              "\n",
              "    [theme=dark] .colab-df-convert:hover {\n",
              "      background-color: #434B5C;\n",
              "      box-shadow: 0px 1px 3px 1px rgba(0, 0, 0, 0.15);\n",
              "      filter: drop-shadow(0px 1px 2px rgba(0, 0, 0, 0.3));\n",
              "      fill: #FFFFFF;\n",
              "    }\n",
              "  </style>\n",
              "\n",
              "    <script>\n",
              "      const buttonEl =\n",
              "        document.querySelector('#df-f9086e24-d41b-4f0d-a8f6-5da3b7ba2e83 button.colab-df-convert');\n",
              "      buttonEl.style.display =\n",
              "        google.colab.kernel.accessAllowed ? 'block' : 'none';\n",
              "\n",
              "      async function convertToInteractive(key) {\n",
              "        const element = document.querySelector('#df-f9086e24-d41b-4f0d-a8f6-5da3b7ba2e83');\n",
              "        const dataTable =\n",
              "          await google.colab.kernel.invokeFunction('convertToInteractive',\n",
              "                                                    [key], {});\n",
              "        if (!dataTable) return;\n",
              "\n",
              "        const docLinkHtml = 'Like what you see? Visit the ' +\n",
              "          '<a target=\"_blank\" href=https://colab.research.google.com/notebooks/data_table.ipynb>data table notebook</a>'\n",
              "          + ' to learn more about interactive tables.';\n",
              "        element.innerHTML = '';\n",
              "        dataTable['output_type'] = 'display_data';\n",
              "        await google.colab.output.renderOutput(dataTable, element);\n",
              "        const docLink = document.createElement('div');\n",
              "        docLink.innerHTML = docLinkHtml;\n",
              "        element.appendChild(docLink);\n",
              "      }\n",
              "    </script>\n",
              "  </div>\n",
              "\n",
              "\n",
              "<div id=\"df-394ff12e-fcdd-4c70-a358-b57c1919fb22\">\n",
              "  <button class=\"colab-df-quickchart\" onclick=\"quickchart('df-394ff12e-fcdd-4c70-a358-b57c1919fb22')\"\n",
              "            title=\"Suggest charts\"\n",
              "            style=\"display:none;\">\n",
              "\n",
              "<svg xmlns=\"http://www.w3.org/2000/svg\" height=\"24px\"viewBox=\"0 0 24 24\"\n",
              "     width=\"24px\">\n",
              "    <g>\n",
              "        <path d=\"M19 3H5c-1.1 0-2 .9-2 2v14c0 1.1.9 2 2 2h14c1.1 0 2-.9 2-2V5c0-1.1-.9-2-2-2zM9 17H7v-7h2v7zm4 0h-2V7h2v10zm4 0h-2v-4h2v4z\"/>\n",
              "    </g>\n",
              "</svg>\n",
              "  </button>\n",
              "\n",
              "<style>\n",
              "  .colab-df-quickchart {\n",
              "      --bg-color: #E8F0FE;\n",
              "      --fill-color: #1967D2;\n",
              "      --hover-bg-color: #E2EBFA;\n",
              "      --hover-fill-color: #174EA6;\n",
              "      --disabled-fill-color: #AAA;\n",
              "      --disabled-bg-color: #DDD;\n",
              "  }\n",
              "\n",
              "  [theme=dark] .colab-df-quickchart {\n",
              "      --bg-color: #3B4455;\n",
              "      --fill-color: #D2E3FC;\n",
              "      --hover-bg-color: #434B5C;\n",
              "      --hover-fill-color: #FFFFFF;\n",
              "      --disabled-bg-color: #3B4455;\n",
              "      --disabled-fill-color: #666;\n",
              "  }\n",
              "\n",
              "  .colab-df-quickchart {\n",
              "    background-color: var(--bg-color);\n",
              "    border: none;\n",
              "    border-radius: 50%;\n",
              "    cursor: pointer;\n",
              "    display: none;\n",
              "    fill: var(--fill-color);\n",
              "    height: 32px;\n",
              "    padding: 0;\n",
              "    width: 32px;\n",
              "  }\n",
              "\n",
              "  .colab-df-quickchart:hover {\n",
              "    background-color: var(--hover-bg-color);\n",
              "    box-shadow: 0 1px 2px rgba(60, 64, 67, 0.3), 0 1px 3px 1px rgba(60, 64, 67, 0.15);\n",
              "    fill: var(--button-hover-fill-color);\n",
              "  }\n",
              "\n",
              "  .colab-df-quickchart-complete:disabled,\n",
              "  .colab-df-quickchart-complete:disabled:hover {\n",
              "    background-color: var(--disabled-bg-color);\n",
              "    fill: var(--disabled-fill-color);\n",
              "    box-shadow: none;\n",
              "  }\n",
              "\n",
              "  .colab-df-spinner {\n",
              "    border: 2px solid var(--fill-color);\n",
              "    border-color: transparent;\n",
              "    border-bottom-color: var(--fill-color);\n",
              "    animation:\n",
              "      spin 1s steps(1) infinite;\n",
              "  }\n",
              "\n",
              "  @keyframes spin {\n",
              "    0% {\n",
              "      border-color: transparent;\n",
              "      border-bottom-color: var(--fill-color);\n",
              "      border-left-color: var(--fill-color);\n",
              "    }\n",
              "    20% {\n",
              "      border-color: transparent;\n",
              "      border-left-color: var(--fill-color);\n",
              "      border-top-color: var(--fill-color);\n",
              "    }\n",
              "    30% {\n",
              "      border-color: transparent;\n",
              "      border-left-color: var(--fill-color);\n",
              "      border-top-color: var(--fill-color);\n",
              "      border-right-color: var(--fill-color);\n",
              "    }\n",
              "    40% {\n",
              "      border-color: transparent;\n",
              "      border-right-color: var(--fill-color);\n",
              "      border-top-color: var(--fill-color);\n",
              "    }\n",
              "    60% {\n",
              "      border-color: transparent;\n",
              "      border-right-color: var(--fill-color);\n",
              "    }\n",
              "    80% {\n",
              "      border-color: transparent;\n",
              "      border-right-color: var(--fill-color);\n",
              "      border-bottom-color: var(--fill-color);\n",
              "    }\n",
              "    90% {\n",
              "      border-color: transparent;\n",
              "      border-bottom-color: var(--fill-color);\n",
              "    }\n",
              "  }\n",
              "</style>\n",
              "\n",
              "  <script>\n",
              "    async function quickchart(key) {\n",
              "      const quickchartButtonEl =\n",
              "        document.querySelector('#' + key + ' button');\n",
              "      quickchartButtonEl.disabled = true;  // To prevent multiple clicks.\n",
              "      quickchartButtonEl.classList.add('colab-df-spinner');\n",
              "      try {\n",
              "        const charts = await google.colab.kernel.invokeFunction(\n",
              "            'suggestCharts', [key], {});\n",
              "      } catch (error) {\n",
              "        console.error('Error during call to suggestCharts:', error);\n",
              "      }\n",
              "      quickchartButtonEl.classList.remove('colab-df-spinner');\n",
              "      quickchartButtonEl.classList.add('colab-df-quickchart-complete');\n",
              "    }\n",
              "    (() => {\n",
              "      let quickchartButtonEl =\n",
              "        document.querySelector('#df-394ff12e-fcdd-4c70-a358-b57c1919fb22 button');\n",
              "      quickchartButtonEl.style.display =\n",
              "        google.colab.kernel.accessAllowed ? 'block' : 'none';\n",
              "    })();\n",
              "  </script>\n",
              "</div>\n",
              "\n",
              "    </div>\n",
              "  </div>\n"
            ],
            "application/vnd.google.colaboratory.intrinsic+json": {
              "type": "dataframe",
              "repr_error": "0"
            }
          },
          "metadata": {},
          "execution_count": 15
        }
      ],
      "source": [
        "df.tail()"
      ]
    },
    {
      "cell_type": "code",
      "execution_count": 16,
      "metadata": {
        "colab": {
          "base_uri": "https://localhost:8080/"
        },
        "id": "8iree8aKBhSr",
        "outputId": "fad4cfc0-08f9-45b1-9534-a106499abee5"
      },
      "outputs": [
        {
          "output_type": "stream",
          "name": "stdout",
          "text": [
            "Shape of the dataset: (117040, 8)\n",
            "Columns in the dataset: Index(['reviewId', 'userName', 'content', 'score', 'thumbsUpCount',\n",
            "       'reviewCreatedVersion', 'at', 'appVersion'],\n",
            "      dtype='object')\n"
          ]
        }
      ],
      "source": [
        "print(f'Shape of the dataset: {df.shape}')\n",
        "print(f'Columns in the dataset: {df.columns}')"
      ]
    },
    {
      "cell_type": "markdown",
      "metadata": {
        "id": "1Oqnil4VxfYf"
      },
      "source": [
        "### 2. 데이터 전처리"
      ]
    },
    {
      "cell_type": "code",
      "execution_count": 17,
      "metadata": {
        "colab": {
          "base_uri": "https://localhost:8080/"
        },
        "id": "0SdCh2hFBl_j",
        "outputId": "faf2e45a-966e-4d0a-d81a-105d54a8cac0"
      },
      "outputs": [
        {
          "output_type": "stream",
          "name": "stderr",
          "text": [
            "[nltk_data] Downloading package stopwords to /root/nltk_data...\n",
            "[nltk_data]   Package stopwords is already up-to-date!\n"
          ]
        }
      ],
      "source": [
        "import re  # 정규 표현식을 사용하기 위함\n",
        "import nltk  # natural language toolkit\n",
        "from nltk.corpus import stopwords\n",
        "from nltk.tokenize import word_tokenize\n",
        "nltk.download('stopwords')\n",
        "\n",
        "# 전처리 함수\n",
        "def preprocess_text(text):\n",
        "    if isinstance(text, float):\n",
        "        return \"\"\n",
        "    text = text.lower()  # 대문자를 소문자로\n",
        "    text = text.strip()  # 띄어쓰기 제외하고 빈 칸 제거\n",
        "    pattern = r'[^a-zA-Z가-힣]'\n",
        "    text = re.sub(r'[^a-zA-Z\\s.!?,]', '', text)  # 알파벳, 공백, 그리고 일부 구두점만 유지\n",
        "    return text\n",
        "\n",
        "# 불필요한 열 제거\n",
        "df = df[['content', 'score']]\n",
        "\n",
        "# 리뷰 텍스트 정제\n",
        "df['content'] = df['content'].apply(preprocess_text)\n",
        "\n",
        "# 불용어 제거\n",
        "stop_words = set(stopwords.words('english'))\n",
        "def remove_stopwords(text):\n",
        "    words = text.split()\n",
        "    words = [word for word in words if word not in stop_words]\n",
        "    return ' '.join(words)\n",
        "\n",
        "df['content'] = df['content'].apply(remove_stopwords)"
      ]
    },
    {
      "cell_type": "code",
      "execution_count": 18,
      "metadata": {
        "colab": {
          "base_uri": "https://localhost:8080/",
          "height": 676
        },
        "id": "zA6reR4DhMxJ",
        "outputId": "ecf531c8-94b2-4837-da76-23e43de2765e"
      },
      "outputs": [
        {
          "output_type": "execute_result",
          "data": {
            "text/plain": [
              "                                              content  score\n",
              "0            good experience. great customer service.      5\n",
              "1   bro watching w cartoon error came next season ...      1\n",
              "2                                              desent      5\n",
              "3   scam company.. loot people money name giftcard...      1\n",
              "4   stopped opening. ive uninstalled reinstalled s...      1\n",
              "5                phone cant watch netflix. stupid app      1\n",
              "6                                                          1\n",
              "7                                             beban q      1\n",
              "8                                                   z      5\n",
              "9   progress often saved, takes away core function...      1\n",
              "10  minds shaped,your opinions molded men manipula...      1\n",
              "11  paying subscription still getting english hind...      1\n",
              "12                                                         4\n",
              "13  streaming services worse every day. minutes lo...      1\n",
              "14                                       add kannadda      1\n",
              "15  sorry oh brother saw good offer ebay dad lowli...      5\n",
              "16                                    get new account      5\n",
              "17                                        always hang      1\n",
              "18                            nice option always hand      5\n",
              "19  uninstalling due persistent buffering issues. ...      1"
            ],
            "text/html": [
              "\n",
              "  <div id=\"df-68826289-946f-4825-a9e1-d35971df6d4d\" class=\"colab-df-container\">\n",
              "    <div>\n",
              "<style scoped>\n",
              "    .dataframe tbody tr th:only-of-type {\n",
              "        vertical-align: middle;\n",
              "    }\n",
              "\n",
              "    .dataframe tbody tr th {\n",
              "        vertical-align: top;\n",
              "    }\n",
              "\n",
              "    .dataframe thead th {\n",
              "        text-align: right;\n",
              "    }\n",
              "</style>\n",
              "<table border=\"1\" class=\"dataframe\">\n",
              "  <thead>\n",
              "    <tr style=\"text-align: right;\">\n",
              "      <th></th>\n",
              "      <th>content</th>\n",
              "      <th>score</th>\n",
              "    </tr>\n",
              "  </thead>\n",
              "  <tbody>\n",
              "    <tr>\n",
              "      <th>0</th>\n",
              "      <td>good experience. great customer service.</td>\n",
              "      <td>5</td>\n",
              "    </tr>\n",
              "    <tr>\n",
              "      <th>1</th>\n",
              "      <td>bro watching w cartoon error came next season ...</td>\n",
              "      <td>1</td>\n",
              "    </tr>\n",
              "    <tr>\n",
              "      <th>2</th>\n",
              "      <td>desent</td>\n",
              "      <td>5</td>\n",
              "    </tr>\n",
              "    <tr>\n",
              "      <th>3</th>\n",
              "      <td>scam company.. loot people money name giftcard...</td>\n",
              "      <td>1</td>\n",
              "    </tr>\n",
              "    <tr>\n",
              "      <th>4</th>\n",
              "      <td>stopped opening. ive uninstalled reinstalled s...</td>\n",
              "      <td>1</td>\n",
              "    </tr>\n",
              "    <tr>\n",
              "      <th>5</th>\n",
              "      <td>phone cant watch netflix. stupid app</td>\n",
              "      <td>1</td>\n",
              "    </tr>\n",
              "    <tr>\n",
              "      <th>6</th>\n",
              "      <td></td>\n",
              "      <td>1</td>\n",
              "    </tr>\n",
              "    <tr>\n",
              "      <th>7</th>\n",
              "      <td>beban q</td>\n",
              "      <td>1</td>\n",
              "    </tr>\n",
              "    <tr>\n",
              "      <th>8</th>\n",
              "      <td>z</td>\n",
              "      <td>5</td>\n",
              "    </tr>\n",
              "    <tr>\n",
              "      <th>9</th>\n",
              "      <td>progress often saved, takes away core function...</td>\n",
              "      <td>1</td>\n",
              "    </tr>\n",
              "    <tr>\n",
              "      <th>10</th>\n",
              "      <td>minds shaped,your opinions molded men manipula...</td>\n",
              "      <td>1</td>\n",
              "    </tr>\n",
              "    <tr>\n",
              "      <th>11</th>\n",
              "      <td>paying subscription still getting english hind...</td>\n",
              "      <td>1</td>\n",
              "    </tr>\n",
              "    <tr>\n",
              "      <th>12</th>\n",
              "      <td></td>\n",
              "      <td>4</td>\n",
              "    </tr>\n",
              "    <tr>\n",
              "      <th>13</th>\n",
              "      <td>streaming services worse every day. minutes lo...</td>\n",
              "      <td>1</td>\n",
              "    </tr>\n",
              "    <tr>\n",
              "      <th>14</th>\n",
              "      <td>add kannadda</td>\n",
              "      <td>1</td>\n",
              "    </tr>\n",
              "    <tr>\n",
              "      <th>15</th>\n",
              "      <td>sorry oh brother saw good offer ebay dad lowli...</td>\n",
              "      <td>5</td>\n",
              "    </tr>\n",
              "    <tr>\n",
              "      <th>16</th>\n",
              "      <td>get new account</td>\n",
              "      <td>5</td>\n",
              "    </tr>\n",
              "    <tr>\n",
              "      <th>17</th>\n",
              "      <td>always hang</td>\n",
              "      <td>1</td>\n",
              "    </tr>\n",
              "    <tr>\n",
              "      <th>18</th>\n",
              "      <td>nice option always hand</td>\n",
              "      <td>5</td>\n",
              "    </tr>\n",
              "    <tr>\n",
              "      <th>19</th>\n",
              "      <td>uninstalling due persistent buffering issues. ...</td>\n",
              "      <td>1</td>\n",
              "    </tr>\n",
              "  </tbody>\n",
              "</table>\n",
              "</div>\n",
              "    <div class=\"colab-df-buttons\">\n",
              "\n",
              "  <div class=\"colab-df-container\">\n",
              "    <button class=\"colab-df-convert\" onclick=\"convertToInteractive('df-68826289-946f-4825-a9e1-d35971df6d4d')\"\n",
              "            title=\"Convert this dataframe to an interactive table.\"\n",
              "            style=\"display:none;\">\n",
              "\n",
              "  <svg xmlns=\"http://www.w3.org/2000/svg\" height=\"24px\" viewBox=\"0 -960 960 960\">\n",
              "    <path d=\"M120-120v-720h720v720H120Zm60-500h600v-160H180v160Zm220 220h160v-160H400v160Zm0 220h160v-160H400v160ZM180-400h160v-160H180v160Zm440 0h160v-160H620v160ZM180-180h160v-160H180v160Zm440 0h160v-160H620v160Z\"/>\n",
              "  </svg>\n",
              "    </button>\n",
              "\n",
              "  <style>\n",
              "    .colab-df-container {\n",
              "      display:flex;\n",
              "      gap: 12px;\n",
              "    }\n",
              "\n",
              "    .colab-df-convert {\n",
              "      background-color: #E8F0FE;\n",
              "      border: none;\n",
              "      border-radius: 50%;\n",
              "      cursor: pointer;\n",
              "      display: none;\n",
              "      fill: #1967D2;\n",
              "      height: 32px;\n",
              "      padding: 0 0 0 0;\n",
              "      width: 32px;\n",
              "    }\n",
              "\n",
              "    .colab-df-convert:hover {\n",
              "      background-color: #E2EBFA;\n",
              "      box-shadow: 0px 1px 2px rgba(60, 64, 67, 0.3), 0px 1px 3px 1px rgba(60, 64, 67, 0.15);\n",
              "      fill: #174EA6;\n",
              "    }\n",
              "\n",
              "    .colab-df-buttons div {\n",
              "      margin-bottom: 4px;\n",
              "    }\n",
              "\n",
              "    [theme=dark] .colab-df-convert {\n",
              "      background-color: #3B4455;\n",
              "      fill: #D2E3FC;\n",
              "    }\n",
              "\n",
              "    [theme=dark] .colab-df-convert:hover {\n",
              "      background-color: #434B5C;\n",
              "      box-shadow: 0px 1px 3px 1px rgba(0, 0, 0, 0.15);\n",
              "      filter: drop-shadow(0px 1px 2px rgba(0, 0, 0, 0.3));\n",
              "      fill: #FFFFFF;\n",
              "    }\n",
              "  </style>\n",
              "\n",
              "    <script>\n",
              "      const buttonEl =\n",
              "        document.querySelector('#df-68826289-946f-4825-a9e1-d35971df6d4d button.colab-df-convert');\n",
              "      buttonEl.style.display =\n",
              "        google.colab.kernel.accessAllowed ? 'block' : 'none';\n",
              "\n",
              "      async function convertToInteractive(key) {\n",
              "        const element = document.querySelector('#df-68826289-946f-4825-a9e1-d35971df6d4d');\n",
              "        const dataTable =\n",
              "          await google.colab.kernel.invokeFunction('convertToInteractive',\n",
              "                                                    [key], {});\n",
              "        if (!dataTable) return;\n",
              "\n",
              "        const docLinkHtml = 'Like what you see? Visit the ' +\n",
              "          '<a target=\"_blank\" href=https://colab.research.google.com/notebooks/data_table.ipynb>data table notebook</a>'\n",
              "          + ' to learn more about interactive tables.';\n",
              "        element.innerHTML = '';\n",
              "        dataTable['output_type'] = 'display_data';\n",
              "        await google.colab.output.renderOutput(dataTable, element);\n",
              "        const docLink = document.createElement('div');\n",
              "        docLink.innerHTML = docLinkHtml;\n",
              "        element.appendChild(docLink);\n",
              "      }\n",
              "    </script>\n",
              "  </div>\n",
              "\n",
              "\n",
              "<div id=\"df-b7795d21-6600-406b-817e-ee188d9207c1\">\n",
              "  <button class=\"colab-df-quickchart\" onclick=\"quickchart('df-b7795d21-6600-406b-817e-ee188d9207c1')\"\n",
              "            title=\"Suggest charts\"\n",
              "            style=\"display:none;\">\n",
              "\n",
              "<svg xmlns=\"http://www.w3.org/2000/svg\" height=\"24px\"viewBox=\"0 0 24 24\"\n",
              "     width=\"24px\">\n",
              "    <g>\n",
              "        <path d=\"M19 3H5c-1.1 0-2 .9-2 2v14c0 1.1.9 2 2 2h14c1.1 0 2-.9 2-2V5c0-1.1-.9-2-2-2zM9 17H7v-7h2v7zm4 0h-2V7h2v10zm4 0h-2v-4h2v4z\"/>\n",
              "    </g>\n",
              "</svg>\n",
              "  </button>\n",
              "\n",
              "<style>\n",
              "  .colab-df-quickchart {\n",
              "      --bg-color: #E8F0FE;\n",
              "      --fill-color: #1967D2;\n",
              "      --hover-bg-color: #E2EBFA;\n",
              "      --hover-fill-color: #174EA6;\n",
              "      --disabled-fill-color: #AAA;\n",
              "      --disabled-bg-color: #DDD;\n",
              "  }\n",
              "\n",
              "  [theme=dark] .colab-df-quickchart {\n",
              "      --bg-color: #3B4455;\n",
              "      --fill-color: #D2E3FC;\n",
              "      --hover-bg-color: #434B5C;\n",
              "      --hover-fill-color: #FFFFFF;\n",
              "      --disabled-bg-color: #3B4455;\n",
              "      --disabled-fill-color: #666;\n",
              "  }\n",
              "\n",
              "  .colab-df-quickchart {\n",
              "    background-color: var(--bg-color);\n",
              "    border: none;\n",
              "    border-radius: 50%;\n",
              "    cursor: pointer;\n",
              "    display: none;\n",
              "    fill: var(--fill-color);\n",
              "    height: 32px;\n",
              "    padding: 0;\n",
              "    width: 32px;\n",
              "  }\n",
              "\n",
              "  .colab-df-quickchart:hover {\n",
              "    background-color: var(--hover-bg-color);\n",
              "    box-shadow: 0 1px 2px rgba(60, 64, 67, 0.3), 0 1px 3px 1px rgba(60, 64, 67, 0.15);\n",
              "    fill: var(--button-hover-fill-color);\n",
              "  }\n",
              "\n",
              "  .colab-df-quickchart-complete:disabled,\n",
              "  .colab-df-quickchart-complete:disabled:hover {\n",
              "    background-color: var(--disabled-bg-color);\n",
              "    fill: var(--disabled-fill-color);\n",
              "    box-shadow: none;\n",
              "  }\n",
              "\n",
              "  .colab-df-spinner {\n",
              "    border: 2px solid var(--fill-color);\n",
              "    border-color: transparent;\n",
              "    border-bottom-color: var(--fill-color);\n",
              "    animation:\n",
              "      spin 1s steps(1) infinite;\n",
              "  }\n",
              "\n",
              "  @keyframes spin {\n",
              "    0% {\n",
              "      border-color: transparent;\n",
              "      border-bottom-color: var(--fill-color);\n",
              "      border-left-color: var(--fill-color);\n",
              "    }\n",
              "    20% {\n",
              "      border-color: transparent;\n",
              "      border-left-color: var(--fill-color);\n",
              "      border-top-color: var(--fill-color);\n",
              "    }\n",
              "    30% {\n",
              "      border-color: transparent;\n",
              "      border-left-color: var(--fill-color);\n",
              "      border-top-color: var(--fill-color);\n",
              "      border-right-color: var(--fill-color);\n",
              "    }\n",
              "    40% {\n",
              "      border-color: transparent;\n",
              "      border-right-color: var(--fill-color);\n",
              "      border-top-color: var(--fill-color);\n",
              "    }\n",
              "    60% {\n",
              "      border-color: transparent;\n",
              "      border-right-color: var(--fill-color);\n",
              "    }\n",
              "    80% {\n",
              "      border-color: transparent;\n",
              "      border-right-color: var(--fill-color);\n",
              "      border-bottom-color: var(--fill-color);\n",
              "    }\n",
              "    90% {\n",
              "      border-color: transparent;\n",
              "      border-bottom-color: var(--fill-color);\n",
              "    }\n",
              "  }\n",
              "</style>\n",
              "\n",
              "  <script>\n",
              "    async function quickchart(key) {\n",
              "      const quickchartButtonEl =\n",
              "        document.querySelector('#' + key + ' button');\n",
              "      quickchartButtonEl.disabled = true;  // To prevent multiple clicks.\n",
              "      quickchartButtonEl.classList.add('colab-df-spinner');\n",
              "      try {\n",
              "        const charts = await google.colab.kernel.invokeFunction(\n",
              "            'suggestCharts', [key], {});\n",
              "      } catch (error) {\n",
              "        console.error('Error during call to suggestCharts:', error);\n",
              "      }\n",
              "      quickchartButtonEl.classList.remove('colab-df-spinner');\n",
              "      quickchartButtonEl.classList.add('colab-df-quickchart-complete');\n",
              "    }\n",
              "    (() => {\n",
              "      let quickchartButtonEl =\n",
              "        document.querySelector('#df-b7795d21-6600-406b-817e-ee188d9207c1 button');\n",
              "      quickchartButtonEl.style.display =\n",
              "        google.colab.kernel.accessAllowed ? 'block' : 'none';\n",
              "    })();\n",
              "  </script>\n",
              "</div>\n",
              "\n",
              "    </div>\n",
              "  </div>\n"
            ],
            "application/vnd.google.colaboratory.intrinsic+json": {
              "type": "dataframe",
              "variable_name": "df"
            }
          },
          "metadata": {},
          "execution_count": 18
        }
      ],
      "source": [
        "df.head(20)"
      ]
    },
    {
      "cell_type": "markdown",
      "metadata": {
        "id": "BdaI8Y59xmwf"
      },
      "source": [
        "### 3. feature 분석 (EDA)"
      ]
    },
    {
      "cell_type": "code",
      "execution_count": 19,
      "metadata": {
        "colab": {
          "base_uri": "https://localhost:8080/",
          "height": 472
        },
        "id": "uBxRZoTyDBKT",
        "outputId": "9f1554e6-3933-4f39-ea27-d1e0c5e74a73"
      },
      "outputs": [
        {
          "output_type": "display_data",
          "data": {
            "text/plain": [
              "<Figure size 640x480 with 1 Axes>"
            ],
            "image/png": "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\n"
          },
          "metadata": {}
        }
      ],
      "source": [
        "import seaborn as sns  # 그래프를 그리기 위한 seaborn 라이브러리 임포트 (없으면 설치 바랍니다)\n",
        "import matplotlib.pyplot as plt  # 그래프 표시를 위한 pyplot 임포트\n",
        "\n",
        "sns.countplot(x='score', data=df)\n",
        "plt.xlabel('Score')\n",
        "plt.ylabel('Count')\n",
        "plt.title('Distribution of Scores')\n",
        "plt.show()"
      ]
    },
    {
      "cell_type": "markdown",
      "metadata": {
        "id": "RIb3tseZxtqV"
      },
      "source": [
        "### 4. 리뷰 예측 모델 학습시키기 (LSTM)\n"
      ]
    },
    {
      "cell_type": "code",
      "execution_count": 33,
      "metadata": {
        "collapsed": true,
        "id": "meBQlWPKylH-",
        "jupyter": {
          "outputs_hidden": true
        }
      },
      "outputs": [],
      "source": [
        "import pandas as pd\n",
        "import torch\n",
        "import torch.nn as nn\n",
        "import torch.optim as optim\n",
        "import numpy as np\n",
        "from torch.utils.data import DataLoader, Dataset\n",
        "from torch.nn.utils.rnn import pad_sequence\n",
        "from torchtext.data.utils import get_tokenizer\n",
        "from torchtext.vocab import build_vocab_from_iterator\n",
        "from sklearn.model_selection import train_test_split\n",
        "from sklearn.preprocessing import LabelEncoder\n",
        "from collections import Counter\n",
        "import nltk"
      ]
    },
    {
      "cell_type": "code",
      "execution_count": 34,
      "metadata": {
        "colab": {
          "base_uri": "https://localhost:8080/"
        },
        "id": "LbSYP7T8liYs",
        "outputId": "ad8457a0-aea5-4758-d237-9877c4cd90c5"
      },
      "outputs": [
        {
          "output_type": "stream",
          "name": "stderr",
          "text": [
            "[nltk_data] Downloading package punkt to /root/nltk_data...\n",
            "[nltk_data]   Package punkt is already up-to-date!\n"
          ]
        },
        {
          "output_type": "execute_result",
          "data": {
            "text/plain": [
              "True"
            ]
          },
          "metadata": {},
          "execution_count": 34
        }
      ],
      "source": [
        "nltk.download('punkt')"
      ]
    },
    {
      "cell_type": "code",
      "execution_count": 35,
      "metadata": {
        "id": "CT_sTE44lkAa"
      },
      "outputs": [],
      "source": [
        "# 데이터 준비 (리뷰와 평점 컬럼을 추출)\n",
        "reviews = df['content']\n",
        "ratings = df['score']"
      ]
    },
    {
      "cell_type": "code",
      "execution_count": 36,
      "metadata": {
        "id": "ftOoi5OJlveH"
      },
      "outputs": [],
      "source": [
        "# 단어 사전 구축 함수 정의 (리뷰 텍스트를 토큰화하고 사전 생성)\n",
        "def build_vocab(reviews):\n",
        "    tokenized_reviews = [word_tokenize(review) for review in reviews]\n",
        "    vocab = build_vocab_from_iterator(tokenized_reviews, specials=[\"<pad>\", \"<unk>\"])\n",
        "    vocab.set_default_index(vocab[\"<unk>\"])  # 알 수 없는 단어 처리\n",
        "    return vocab"
      ]
    },
    {
      "cell_type": "code",
      "execution_count": 37,
      "metadata": {
        "id": "9DcSGjWLl6ex"
      },
      "outputs": [],
      "source": [
        "# 데이터셋 클래스 정의 (데이터셋을 커스텀하여 사용하기 위해 클래스 정의)\n",
        "class ReviewDataset(Dataset):\n",
        "    def __init__(self, reviews, ratings, text_pipeline, label_pipeline):\n",
        "        self.reviews = reviews\n",
        "        self.ratings = ratings\n",
        "        self.text_pipeline = text_pipeline\n",
        "        self.label_pipeline = label_pipeline\n",
        "\n",
        "    def __len__(self):\n",
        "        return len(self.reviews)\n",
        "\n",
        "    def __getitem__(self, idx):\n",
        "        review = self.text_pipeline(self.reviews[idx])\n",
        "        rating = self.label_pipeline(self.ratings[idx])\n",
        "        return review, rating"
      ]
    },
    {
      "cell_type": "code",
      "execution_count": 38,
      "metadata": {
        "id": "0-c4J5s1l8sd"
      },
      "outputs": [],
      "source": [
        "# 패딩과 텐서 변환을 위한 collate 함수 정의\n",
        "def collate_fn(batch):\n",
        "    reviews, ratings = zip(*batch)  # 배치에서 리뷰와 레이팅 분리\n",
        "    reviews_padded = pad_sequence(reviews, batch_first=True)  # 리뷰를 패딩\n",
        "    ratings_tensor = torch.tensor(ratings, dtype=torch.long)  # 레이팅을 텐서로 변환\n",
        "    return reviews_padded, ratings_tensor  # 패딩된 리뷰와 레이팅 반환"
      ]
    },
    {
      "cell_type": "code",
      "execution_count": 39,
      "metadata": {
        "id": "GmhNAAFNl-lX"
      },
      "outputs": [],
      "source": [
        "# 텍스트 파이프라인 정의 (텍스트를 토큰화하고 텐서로 변환)\n",
        "def text_pipeline(text):\n",
        "    tokenized = word_tokenize(text)  # 토큰화\n",
        "    return torch.tensor([vocab[token] for token in tokenized], dtype=torch.long)"
      ]
    },
    {
      "cell_type": "code",
      "execution_count": 40,
      "metadata": {
        "id": "_xkoX-SemEw5"
      },
      "outputs": [],
      "source": [
        "# 레이블 파이프라인 클래스 정의 (평점을 수치화하여 모델에 입력)\n",
        "class LabelPipeline:\n",
        "    def __init__(self):\n",
        "        self.label_encoder = LabelEncoder()\n",
        "\n",
        "    def fit(self, labels):\n",
        "        self.label_encoder.fit(labels)\n",
        "\n",
        "    def __call__(self, label):\n",
        "        return self.label_encoder.transform([label])[0]"
      ]
    },
    {
      "cell_type": "code",
      "execution_count": 41,
      "metadata": {
        "id": "gdagimuymG4g"
      },
      "outputs": [],
      "source": [
        "# 레이블 파이프라인 초기화 및 학습\n",
        "label_pipeline = LabelPipeline()\n",
        "label_pipeline.fit(df['score'].values)"
      ]
    },
    {
      "cell_type": "markdown",
      "source": [
        "#### LSTM model with ***Adam optimizer and Early stopping***"
      ],
      "metadata": {
        "id": "IlY1dVnEke_H"
      }
    },
    {
      "cell_type": "code",
      "source": [
        "# 데이터 분할\n",
        "# 훈련 데이터와 임시 데이터(검증 + 테스트 데이터) 분리(train_test_split 사용)\n",
        "train_reviews, temp_reviews, train_ratings, temp_ratings = train_test_split(reviews, ratings, test_size=0.3, random_state=42)\n",
        "\n",
        "# 임시 데이터를 검증 데이터와 테스트 데이터로 분리(train_test_split 사용)\n",
        "test_reviews, rtest_reviews, test_ratings, rtest_ratings = train_test_split(temp_reviews, temp_ratings, test_size=0.5, random_state=42)\n",
        "\n",
        "# 인덱스 초기화 (데이터 프레임 인덱스 리셋)\n",
        "train_reviews.reset_index(drop=True, inplace=True)\n",
        "train_ratings.reset_index(drop=True, inplace=True)\n",
        "test_reviews.reset_index(drop=True, inplace=True)\n",
        "test_ratings.reset_index(drop=True, inplace=True)\n",
        "rtest_reviews.reset_index(drop=True, inplace=True)\n",
        "rtest_ratings.reset_index(drop=True, inplace=True)\n",
        "\n",
        "# 데이터셋 정의 (훈련 및 테스트 데이터셋 구성)\n",
        "train_dataset = ReviewDataset(train_reviews, train_ratings, text_pipeline, label_pipeline)\n",
        "test_dataset = ReviewDataset(test_reviews, test_ratings, text_pipeline, label_pipeline)\n",
        "rtest_dataset = ReviewDataset(rtest_reviews, rtest_ratings, text_pipeline, label_pipeline)\n",
        "\n",
        "# 단어 사전 생성 (훈련 데이터 리뷰를 기반으로 어휘 사전 구축)\n",
        "vocab = build_vocab(train_reviews)\n",
        "\n",
        "# 데이터 로더 정의 (DataLoader를 통해 배치로 데이터를 로딩)\n",
        "BATCH_SIZE = 64\n",
        "\n",
        "train_dataloader = DataLoader(train_dataset, batch_size=BATCH_SIZE, shuffle=True, collate_fn=collate_fn)\n",
        "test_dataloader = DataLoader(test_dataset, batch_size=BATCH_SIZE, collate_fn=collate_fn)\n",
        "rtest_dataloader = DataLoader(rtest_dataset, batch_size=BATCH_SIZE, collate_fn=collate_fn)"
      ],
      "metadata": {
        "id": "tB_WMYO6kTju"
      },
      "execution_count": 42,
      "outputs": []
    },
    {
      "cell_type": "code",
      "execution_count": 43,
      "metadata": {
        "id": "2iPoUw1E6Jzk"
      },
      "outputs": [],
      "source": [
        "# 모델 정의 (LSTM 모델 구조를 설정하여 시퀀스 처리 수행)\n",
        "class LSTMModel(nn.Module):\n",
        "  def __init__(self, vocab_size, embed_dim, hidden_dim, output_dim):\n",
        "    super(LSTMModel, self).__init__()\n",
        "    self.embedding = nn.Embedding(vocab_size, embed_dim, padding_idx=0)\n",
        "    self.lstm = nn.LSTM(embed_dim, hidden_dim, batch_first=True)\n",
        "    self.fc = nn.Sequential(\n",
        "    nn.Linear(hidden_dim, 128),\n",
        "    nn.ReLU(),\n",
        "    nn.Dropout(0.5),\n",
        "    nn.Linear(128, output_dim)\n",
        ")\n",
        "\n",
        "  # 순전파 정의 (입력 텍스트를 임베딩하고 LSTM과 FC 계층에 통과)\n",
        "  def forward(self, text):\n",
        "    embedded = self.embedding(text)\n",
        "    output, (hidden, cell) = self.lstm(embedded)  # 배치 사이즈에 맞게 차원 추가\n",
        "    return self.fc(hidden[-1].view(hidden.size(1), -1))\n",
        "\n",
        "# 단어 사전 생성 (훈련 데이터 리뷰를 기반으로 어휘 사전 구축)\n",
        "vocab = build_vocab(train_reviews)\n",
        "\n",
        "# 하이퍼파라미터 정의 (어휘 크기, 임베딩 차원, LSTM 은닉 차원 및 출력 차원 설정)\n",
        "VOCAB_SIZE = len(vocab)\n",
        "EMBED_DIM = 64\n",
        "HIDDEN_DIM = 128\n",
        "OUTPUT_DIM = 5  # 예측할 점수 개수\n",
        "\n",
        "# 모델 초기화 (LSTM 모델 인스턴스 생성)\n",
        "model = LSTMModel(VOCAB_SIZE, EMBED_DIM, HIDDEN_DIM, OUTPUT_DIM)\n",
        "\n",
        "# 손실 함수와 옵티마이저 정의 (교차 엔트로피 손실과 Adam 사용, 학습률 0.01로 설정)\n",
        "criterion = nn.CrossEntropyLoss()\n",
        "optimizer = optim.Adam(model.parameters(), lr=0.01)"
      ]
    },
    {
      "cell_type": "code",
      "execution_count": 44,
      "metadata": {
        "colab": {
          "base_uri": "https://localhost:8080/"
        },
        "id": "aGPNPvfL9Xcd",
        "outputId": "5a538905-3d8c-4d86-ab95-a125c8ef937b"
      },
      "outputs": [
        {
          "output_type": "stream",
          "name": "stdout",
          "text": [
            "Epoch [1/10], Train Loss: 1.2433\n",
            "Epoch [1/10], Test Loss: 1.0547\n",
            "Epoch [2/10], Train Loss: 1.0122\n",
            "Epoch [2/10], Test Loss: 1.0071\n",
            "Epoch [3/10], Train Loss: 0.9604\n",
            "Epoch [3/10], Test Loss: 1.0068\n",
            "Epoch [4/10], Train Loss: 0.9299\n",
            "Epoch [4/10], Test Loss: 1.0159\n",
            "Epoch [5/10], Train Loss: 0.9106\n",
            "Epoch [5/10], Test Loss: 1.0085\n",
            "Epoch [6/10], Train Loss: 0.8898\n",
            "Epoch [6/10], Test Loss: 1.0113\n",
            "Early stopping triggered.\n"
          ]
        }
      ],
      "source": [
        "# 조기 종료 함수 정의\n",
        "class EarlyStopping:\n",
        "    def __init__(self, patience=3, verbose=False):\n",
        "        self.patience = patience\n",
        "        self.verbose = verbose\n",
        "        self.best_loss = None\n",
        "        self.counter = 0\n",
        "\n",
        "    def __call__(self, val_loss):\n",
        "        if self.best_loss is None:\n",
        "            self.best_loss = val_loss\n",
        "        elif val_loss < self.best_loss:\n",
        "            self.best_loss = val_loss\n",
        "            self.counter = 0\n",
        "        else:\n",
        "            self.counter += 1\n",
        "            if self.counter >= self.patience:\n",
        "                if self.verbose:\n",
        "                    print(\"Early stopping triggered.\")\n",
        "                return True\n",
        "        return False\n",
        "\n",
        "\n",
        "# 모델 학습 과정 정의 (Early Stopping 추가)\n",
        "def train_model(model, train_dataloader, test_dataloader, optimizer, criterion, epochs=10, patience=1):\n",
        "    model.train()  # 모델을 학습 모드로 전환\n",
        "    early_stopping = EarlyStopping(patience=patience, verbose=True)\n",
        "\n",
        "    for epoch in range(epochs):\n",
        "        total_loss = 0\n",
        "\n",
        "        # 훈련 모드에서의 손실 계산\n",
        "        for batch in train_dataloader:\n",
        "            reviews, ratings = batch  # 배치 데이터\n",
        "            optimizer.zero_grad()  # 옵티마이저 초기화\n",
        "\n",
        "            # 모델의 출력\n",
        "            output = model(reviews)\n",
        "\n",
        "            # 손실 계산 및 역전파\n",
        "            loss = criterion(output, ratings)\n",
        "            loss.backward()  # 그라디언트 계산\n",
        "            optimizer.step()  # 옵티마이저를 통한 파라미터 업데이트\n",
        "\n",
        "            total_loss += loss.item()\n",
        "\n",
        "        avg_train_loss = total_loss / len(train_dataloader)\n",
        "        print(f'Epoch [{epoch+1}/{epochs}], Train Loss: {avg_train_loss:.4f}')\n",
        "\n",
        "        # 테스트 손실 계산\n",
        "        model.eval()  # 모델을 평가 모드로 전환\n",
        "        total_test_loss = 0\n",
        "        with torch.no_grad():\n",
        "            for batch in test_dataloader:\n",
        "                reviews, ratings = batch  # 배치 데이터\n",
        "                output = model(reviews)  # 모델의 출력\n",
        "                test_loss = criterion(output, ratings)  # 테스트 손실 계산\n",
        "                total_test_loss += test_loss.item()\n",
        "\n",
        "        avg_test_loss = total_test_loss / len(test_dataloader)\n",
        "        print(f'Epoch [{epoch+1}/{epochs}], Test Loss: {avg_test_loss:.4f}')\n",
        "\n",
        "        # Early Stopping 체크\n",
        "        if early_stopping(avg_test_loss):\n",
        "            break  # 학습 중단\n",
        "\n",
        "# 모델 학습 (훈련 함수 호출하여 모델 학습)\n",
        "train_model(model, train_dataloader, test_dataloader, optimizer, criterion, epochs=10, patience=3)"
      ]
    },
    {
      "cell_type": "code",
      "execution_count": 45,
      "metadata": {
        "id": "FmDFRXR29ayZ",
        "colab": {
          "base_uri": "https://localhost:8080/"
        },
        "outputId": "fc22224e-f59b-4257-e633-6851baf05850"
      },
      "outputs": [
        {
          "output_type": "stream",
          "name": "stdout",
          "text": [
            "Accuracy: 0.6386\n"
          ]
        }
      ],
      "source": [
        "# 모델 평가 함수\n",
        "def evaluate(model, loader):\n",
        "    model.eval()\n",
        "    correct = 0\n",
        "    total = 0\n",
        "    with torch.no_grad():\n",
        "        for reviews, labels in loader:\n",
        "            outputs = model(reviews)\n",
        "            _, predicted = torch.max(outputs, 1)\n",
        "            total += labels.size(0)\n",
        "            correct += (predicted == labels).sum().item()\n",
        "    return correct / total\n",
        "\n",
        "# 모델 평가\n",
        "accuracy = evaluate(model, rtest_dataloader)\n",
        "print(f'Accuracy: {accuracy:.4f}')"
      ]
    },
    {
      "cell_type": "markdown",
      "metadata": {
        "id": "0xcHmdTsy-NJ"
      },
      "source": [
        "## 추가 선택 과제"
      ]
    },
    {
      "cell_type": "markdown",
      "metadata": {
        "id": "r5dFsatDzEqM"
      },
      "source": [
        "### 5. NLP 이용해보기"
      ]
    },
    {
      "cell_type": "markdown",
      "metadata": {
        "id": "OtLJo1lMl93y"
      },
      "source": [
        "#### BERT model"
      ]
    },
    {
      "cell_type": "code",
      "execution_count": null,
      "metadata": {
        "colab": {
          "background_save": true
        },
        "id": "sYs12_6lzSka"
      },
      "outputs": [],
      "source": [
        "import torch\n",
        "import torch.nn as nn\n",
        "import torch.optim as optim\n",
        "from torch.utils.data import Dataset, DataLoader\n",
        "from sklearn.preprocessing import LabelEncoder\n",
        "from nltk.tokenize import word_tokenize\n",
        "from collections import Counter\n",
        "import nltk\n",
        "import numpy as np\n",
        "nltk.download('punkt')"
      ]
    },
    {
      "cell_type": "code",
      "execution_count": null,
      "metadata": {
        "id": "i5dl2YTtmChG"
      },
      "outputs": [],
      "source": [
        "class TextPipeline:\n",
        "    def __init__(self):\n",
        "        self.vocab = {}\n",
        "\n",
        "    def fit(self, texts):\n",
        "        word_counts = Counter()\n",
        "        for text in texts:\n",
        "            words = word_tokenize(text)\n",
        "            word_counts.update(words)\n",
        "        self.vocab = {word: idx for idx, (word, _) in enumerate(word_counts.items(), 1)}  # 1부터 시작\n",
        "\n",
        "    def __call__(self, text):\n",
        "        words = word_tokenize(text)\n",
        "        return [self.vocab.get(word, 0) for word in words]  # 사전에 없는 단어는 0으로 처리"
      ]
    },
    {
      "cell_type": "code",
      "execution_count": null,
      "metadata": {
        "id": "l7b4NbvGmFDb"
      },
      "outputs": [],
      "source": [
        "class LabelPipeline:\n",
        "    def __init__(self):\n",
        "        self.label_encoder = LabelEncoder()\n",
        "\n",
        "    def fit(self, labels):\n",
        "        self.label_encoder.fit(labels)\n",
        "\n",
        "    def __call__(self, label):\n",
        "        return self.label_encoder.transform([label])[0]"
      ]
    },
    {
      "cell_type": "code",
      "execution_count": null,
      "metadata": {
        "id": "oqZI0h5smH5D"
      },
      "outputs": [],
      "source": [
        "class ReviewDataset(Dataset):\n",
        "    def __init__(self, reviews, ratings, text_pipeline, label_pipeline):\n",
        "        self.reviews = reviews\n",
        "        self.ratings = ratings\n",
        "        self.text_pipeline = text_pipeline\n",
        "        self.label_pipeline = label_pipeline\n",
        "\n",
        "    def __len__(self):\n",
        "        return len(self.reviews)\n",
        "\n",
        "    def __getitem__(self, idx):\n",
        "        review = self.text_pipeline(self.reviews[idx])\n",
        "        rating = self.label_pipeline(self.ratings[idx])\n",
        "        return torch.tensor(review, dtype=torch.long), torch.tensor(rating, dtype=torch.long)"
      ]
    },
    {
      "cell_type": "code",
      "execution_count": null,
      "metadata": {
        "id": "zs2HLminmKIH"
      },
      "outputs": [],
      "source": [
        "# 'content' 열이 문자열 형식인지 확인하고 변환\n",
        "df['content'] = df['content'].astype(str)"
      ]
    },
    {
      "cell_type": "code",
      "execution_count": null,
      "metadata": {
        "id": "K7XLe7eJmK8d"
      },
      "outputs": [],
      "source": [
        "print(df.columns)"
      ]
    },
    {
      "cell_type": "code",
      "execution_count": null,
      "metadata": {
        "id": "oM5BrvQCmNLN"
      },
      "outputs": [],
      "source": [
        "# 텍스트 파이프라인 인스턴스 생성 및 학습\n",
        "text_pipeline = TextPipeline()\n",
        "text_pipeline.fit(df['content'].values)\n",
        "\n",
        "# 레이블 파이프라인 인스턴스 생성 및 학습\n",
        "label_pipeline = LabelPipeline()\n",
        "label_pipeline.fit(df['score'].values)\n",
        "\n",
        "# 훈련 및 테스트 데이터를 설정\n",
        "train_reviews = df['content'][:800].values  # 첫 800개는 훈련 데이터로\n",
        "train_ratings = df['score'][:800].values\n",
        "test_reviews = df['content'][800:].values   # 나머지는 테스트 데이터로\n",
        "test_ratings = df['score'][800:].values\n",
        "\n",
        "# 데이터셋 생성\n",
        "train_dataset = ReviewDataset(train_reviews, train_ratings, text_pipeline, label_pipeline)\n",
        "test_dataset = ReviewDataset(test_reviews, test_ratings, text_pipeline, label_pipeline)\n",
        "\n",
        "# DataLoader 생성\n",
        "train_loader = DataLoader(train_dataset, batch_size=32, shuffle=True)\n",
        "test_loader = DataLoader(test_dataset, batch_size=32)"
      ]
    },
    {
      "cell_type": "code",
      "execution_count": null,
      "metadata": {
        "id": "bcQFnSnOmPh2"
      },
      "outputs": [],
      "source": [
        "class SentimentLSTM(nn.Module):\n",
        "    def __init__(self, vocab_size, embed_size, hidden_size, output_size, num_layers=1):\n",
        "        super(SentimentLSTM, self).__init__()\n",
        "        self.embedding = nn.Embedding(vocab_size, embed_size)\n",
        "        self.lstm = nn.LSTM(embed_size, hidden_size, num_layers, batch_first=True)\n",
        "        self.fc = nn.Linear(hidden_size, output_size)\n",
        "\n",
        "    def forward(self, x):\n",
        "        embeds = self.embedding(x)\n",
        "        lstm_out, _ = self.lstm(embeds)\n",
        "        out = self.fc(lstm_out[:, -1, :])  # 마지막 타임스텝 출력\n",
        "        return out\n"
      ]
    },
    {
      "cell_type": "code",
      "execution_count": null,
      "metadata": {
        "id": "FcNpWhdjmRz4"
      },
      "outputs": [],
      "source": [
        "def train(model, loader, criterion, optimizer, num_epochs=5):\n",
        "    model.train()\n",
        "    for epoch in range(num_epochs):\n",
        "        total_loss = 0\n",
        "        for reviews, labels in loader:\n",
        "            optimizer.zero_grad()\n",
        "            outputs = model(reviews)\n",
        "            loss = criterion(outputs, labels)\n",
        "            loss.backward()\n",
        "            optimizer.step()\n",
        "            total_loss += loss.item()\n",
        "        print(f'Epoch {epoch+1}/{num_epochs}, Loss: {total_loss/len(loader):.4f}')\n",
        "\n",
        "def evaluate(model, loader):\n",
        "    model.eval()\n",
        "    correct, total = 0, 0\n",
        "    with torch.no_grad():\n",
        "        for reviews, labels in loader:\n",
        "            outputs = model(reviews)\n",
        "            _, predicted = torch.max(outputs, 1)\n",
        "            total += labels.size(0)\n",
        "            correct += (predicted == labels).sum().item()\n",
        "    return correct / total\n"
      ]
    },
    {
      "cell_type": "code",
      "execution_count": null,
      "metadata": {
        "id": "qocNGiDjmTwU"
      },
      "outputs": [],
      "source": [
        "!pip install transformers"
      ]
    },
    {
      "cell_type": "code",
      "execution_count": null,
      "metadata": {
        "id": "Od0pfI7NmWmv"
      },
      "outputs": [],
      "source": [
        "import torch\n",
        "import pandas as pd\n",
        "from sklearn.model_selection import train_test_split\n",
        "from transformers import BertTokenizer, BertForSequenceClassification\n",
        "from transformers import Trainer, TrainingArguments"
      ]
    },
    {
      "cell_type": "code",
      "execution_count": null,
      "metadata": {
        "id": "SxE1G9FumdDz"
      },
      "outputs": [],
      "source": [
        "train_df, test_df = train_test_split(df, test_size=0.2, random_state=42)\n",
        "\n",
        "tokenizer = BertTokenizer.from_pretrained('bert-base-uncased')\n",
        "import os\n",
        "os.environ[\"WANDB_DISABLED\"] = \"true\"\n",
        "\n",
        "# 데이터셋 클래스 정의\n",
        "class MovieReviewDataset(torch.utils.data.Dataset):\n",
        "    def __init__(self, texts, labels, tokenizer, max_length):\n",
        "        self.texts = texts\n",
        "        self.labels = labels\n",
        "        self.tokenizer = tokenizer\n",
        "        self.max_length = max_length\n",
        "\n",
        "    def __len__(self):\n",
        "        return len(self.texts)\n",
        "\n",
        "    def __getitem__(self, idx):\n",
        "        text = self.texts[idx]\n",
        "        label = self.labels[idx]\n",
        "        encoding = self.tokenizer.encode_plus(\n",
        "            text,\n",
        "            add_special_tokens=True,\n",
        "            max_length=self.max_length,\n",
        "            return_token_type_ids=False,\n",
        "            padding='max_length',\n",
        "            truncation=True,\n",
        "            return_attention_mask=True,\n",
        "            return_tensors='pt',\n",
        "        )\n",
        "        return {\n",
        "            'input_ids': encoding['input_ids'].flatten(),\n",
        "            'attention_mask': encoding['attention_mask'].flatten(),\n",
        "            'labels': torch.tensor(label, dtype=torch.long),\n",
        "        }\n",
        "\n",
        "# 데이터셋 생성\n",
        "max_length = 128\n",
        "train_dataset = MovieReviewDataset(train_df['content'].values, train_df['sentiment'].values, tokenizer, max_length)\n",
        "test_dataset = MovieReviewDataset(test_df['content'].values, test_df['sentiment'].values, tokenizer, max_length)\n",
        "\n",
        "# 모델 준비\n",
        "model = BertForSequenceClassification.from_pretrained('bert-base-uncased', num_labels=len(set(df['sentiment'])))\n",
        "\n",
        "# 트레이너 설정\n",
        "training_args = TrainingArguments(\n",
        "    output_dir='./results',\n",
        "    num_train_epochs=5,\n",
        "    per_device_train_batch_size=16,\n",
        "    per_device_eval_batch_size=16,\n",
        "    warmup_steps=500,\n",
        "    weight_decay=0.01,\n",
        "    logging_dir='./logs',\n",
        "    logging_steps=10,\n",
        "    evaluation_strategy='epoch'\n",
        ")\n",
        "\n",
        "trainer = Trainer(\n",
        "    model=model,\n",
        "    args=training_args,\n",
        "    train_dataset=train_dataset,\n",
        "    eval_dataset=test_dataset\n",
        ")\n",
        "\n",
        "# 모델 학습\n",
        "trainer.train()\n",
        "\n",
        "# 평가\n",
        "trainer.evaluate()"
      ]
    },
    {
      "cell_type": "code",
      "execution_count": null,
      "metadata": {
        "id": "V3xpsZ-BmgT7"
      },
      "outputs": [],
      "source": [
        "import torch\n",
        "from sklearn.model_selection import train_test_split\n",
        "from transformers import BertTokenizer, BertForSequenceClassification, Trainer, TrainingArguments\n",
        "from sklearn.metrics import accuracy_score, precision_recall_fscore_support\n",
        "import os\n",
        "\n",
        "# 환경 설정\n",
        "os.environ[\"WANDB_DISABLED\"] = \"true\"\n",
        "\n",
        "# 데이터셋 분리\n",
        "train_df, test_df = train_test_split(df, test_size=0.2, random_state=42)\n",
        "\n",
        "# 토크나이저 로드\n",
        "tokenizer = BertTokenizer.from_pretrained('bert-base-uncased')\n",
        "\n",
        "# 데이터셋 클래스 정의\n",
        "class MovieReviewDataset(torch.utils.data.Dataset):\n",
        "    def __init__(self, texts, labels, tokenizer, max_length):\n",
        "        self.texts = texts\n",
        "        self.labels = labels\n",
        "        self.tokenizer = tokenizer\n",
        "        self.max_length = max_length\n",
        "\n",
        "    def __len__(self):\n",
        "        return len(self.texts)\n",
        "\n",
        "    def __getitem__(self, idx):\n",
        "        text = self.texts[idx]\n",
        "        label = self.labels[idx]\n",
        "        encoding = self.tokenizer.encode_plus(\n",
        "            text,\n",
        "            add_special_tokens=True,\n",
        "            max_length=self.max_length,\n",
        "            return_token_type_ids=False,\n",
        "            padding='max_length',\n",
        "            truncation=True,\n",
        "            return_attention_mask=True,\n",
        "            return_tensors='pt',\n",
        "        )\n",
        "        return {\n",
        "            'input_ids': encoding['input_ids'].flatten(),\n",
        "            'attention_mask': encoding['attention_mask'].flatten(),\n",
        "            'labels': torch.tensor(label, dtype=torch.long),\n",
        "        }\n",
        "\n",
        "# 데이터셋 생성\n",
        "max_length = 128\n",
        "train_dataset = MovieReviewDataset(train_df['content'].values, train_df['sentiment'].values, tokenizer, max_length)\n",
        "test_dataset = MovieReviewDataset(test_df['content'].values, test_df['sentiment'].values, tokenizer, max_length)\n",
        "\n",
        "# 모델 준비\n",
        "model = BertForSequenceClassification.from_pretrained('bert-base-uncased', num_labels=len(set(df['sentiment'])))\n",
        "\n",
        "# 평가를 위한 함수 정의\n",
        "def compute_metrics(pred):\n",
        "    labels = pred.label_ids\n",
        "    preds = pred.predictions.argmax(-1)  # 예측값 중 가장 높은 점수를 가진 클래스로 선택\n",
        "    acc = accuracy_score(labels, preds)  # 정확도 계산\n",
        "    precision, recall, f1, _ = precision_recall_fscore_support(labels, preds, average='weighted')  # 정밀도, 재현율, F1 점수\n",
        "    return {\n",
        "        'accuracy': acc,\n",
        "        'precision': precision,\n",
        "        'recall': recall,\n",
        "        'f1': f1\n",
        "    }\n",
        "\n",
        "# 트레이너 설정\n",
        "training_args = TrainingArguments(\n",
        "    output_dir='./results',\n",
        "    num_train_epochs=5,\n",
        "    per_device_train_batch_size=16,\n",
        "    per_device_eval_batch_size=16,\n",
        "    warmup_steps=500,\n",
        "    weight_decay=0.01,\n",
        "    logging_dir='./logs',\n",
        "    logging_steps=10,\n",
        "    evaluation_strategy='epoch'\n",
        ")\n",
        "\n",
        "trainer = Trainer(\n",
        "    model=model,\n",
        "    args=training_args,\n",
        "    train_dataset=train_dataset,\n",
        "    eval_dataset=test_dataset,\n",
        "    compute_metrics=compute_metrics  # 평가 지표 추가\n",
        ")\n",
        "\n",
        "# 모델 학습\n",
        "trainer.train()\n",
        "\n",
        "# 평가\n",
        "eval_result = trainer.evaluate()\n",
        "\n",
        "# 평가 결과 출력\n",
        "print(f\"Evaluation Results: {eval_result}\")\n",
        "\n",
        "# 정확도만 따로 출력\n",
        "accuracy = eval_result['eval_accuracy']\n",
        "print(f\"Accuracy: {accuracy}\")\n"
      ]
    },
    {
      "cell_type": "markdown",
      "metadata": {
        "id": "Vll0DX9uzOly"
      },
      "source": [
        "### 6. 긍정 / 부정 리뷰의 워드 클라우드 그려보기"
      ]
    },
    {
      "cell_type": "markdown",
      "metadata": {
        "id": "9j9_wMvWlA2W"
      },
      "source": [
        "#### Negative word cloud"
      ]
    },
    {
      "cell_type": "code",
      "source": [
        "from wordcloud import WordCloud, STOPWORDS\n",
        "import numpy as np\n",
        "from PIL import Image\n",
        "import matplotlib.pyplot as plt\n",
        "\n",
        "# 텍스트파일 열기\n",
        "text_negative = open('./negative.txt').read()\n",
        "# 마스크 이미지 가져오기\n",
        "alice_mask = np.array(Image.open('./alice_mask.png'))\n",
        "\n",
        "# 불용어 지정\n",
        "stopwords = set(STOPWORDS)\n",
        "stopwords.update(['netflix', 'movie', 'movies', 'show', 'shows', 'watch', 'account', 'time', 'app', 'series', 'phone', 'good','use','now','cant','dont','even'])\n",
        "\n",
        "# 이미지 확인\n",
        "plt.figure(figsize = (8,8))\n",
        "plt.imshow(alice_mask, cmap=plt.cm.gray, interpolation='bilinear')\n",
        "plt.axis('off')\n",
        "plt.show()"
      ],
      "metadata": {
        "id": "koLfta3SKydm"
      },
      "execution_count": null,
      "outputs": []
    },
    {
      "cell_type": "code",
      "execution_count": null,
      "metadata": {
        "id": "-zNs7ITmlF09"
      },
      "outputs": [],
      "source": [
        "# 단어들 설정과 빈도분석\n",
        "wc = WordCloud(background_color = 'white', max_words = 500, mask = alice_mask, stopwords=stopwords)\n",
        "wc = wc.generate(text_negative)\n",
        "\n",
        "# 워드클라우드생성\n",
        "plt.figure(figsize=(12, 12))\n",
        "plt.imshow(wc, interpolation='bilinear')\n",
        "plt.title('Negative Reviews Word Cloud', size=20)\n",
        "plt.axis('off')\n",
        "plt.show()"
      ]
    },
    {
      "cell_type": "markdown",
      "metadata": {
        "id": "6Bn4oUs7lJU1"
      },
      "source": [
        "#### Positive word cloud"
      ]
    },
    {
      "cell_type": "code",
      "execution_count": null,
      "metadata": {
        "id": "U2hLqC2xlMHV"
      },
      "outputs": [],
      "source": [
        "# 텍스트파일 열기\n",
        "text_positive = open('./positive.txt').read()\n",
        "# 마스크 이미지 가져오기\n",
        "alice_mask = np.array(Image.open('./alice_mask.png'))\n",
        "\n",
        "# 불용어 지정\n",
        "stopwords = set(STOPWORDS)\n",
        "stopwords.update(['netflix', 'movie', 'movies', 'show', 'shows', 'watch', 'account', 'time', 'app', 'series', 'phone','use','now','problem','cant','dont','even'])\n",
        "\n",
        "# 이미지 확인\n",
        "plt.figure(figsize = (8,8))\n",
        "plt.imshow(alice_mask, cmap=plt.cm.gray, interpolation='bilinear')\n",
        "plt.axis('off')\n",
        "plt.show()"
      ]
    },
    {
      "cell_type": "code",
      "execution_count": null,
      "metadata": {
        "id": "jjzsRD9ClOX0"
      },
      "outputs": [],
      "source": [
        "# 단어들 설정과 빈도분석\n",
        "wc = WordCloud(background_color = 'white', max_words = 500, mask = alice_mask, stopwords=stopwords)\n",
        "wc = wc.generate(text_positive)\n",
        "\n",
        "# 워드클라우드생성\n",
        "plt.figure(figsize=(12, 12))\n",
        "plt.imshow(wc, interpolation='bilinear')\n",
        "plt.title('Positive Reviews Word Cloud', size=20)\n",
        "plt.axis('off')\n",
        "plt.show()"
      ]
    }
  ],
  "metadata": {
    "accelerator": "GPU",
>>>>>>> a51c56648f94254c54b9ec83c4d11f40548caaf9
    "colab": {
      "gpuType": "T4",
      "machine_shape": "hm",
      "provenance": []
    },
<<<<<<< HEAD
    "id": "LbSYP7T8liYs"
   },
   "outputs": [
    {
     "name": "stderr",
     "output_type": "stream",
     "text": [
      "[nltk_data] Downloading package punkt to\n",
      "[nltk_data]     /Users/t2023-m0072/nltk_data...\n",
      "[nltk_data]   Package punkt is already up-to-date!\n"
     ]
    },
    {
     "data": {
      "text/plain": [
       "True"
      ]
     },
     "execution_count": 95,
     "metadata": {},
     "output_type": "execute_result"
    }
   ],
   "source": [
    "nltk.download('punkt')"
   ]
  },
  {
   "cell_type": "code",
   "execution_count": 101,
   "metadata": {
    "colab": {
     "background_save": true
=======
    "kernelspec": {
      "display_name": "Python 3 (ipykernel)",
      "language": "python",
      "name": "python3"
>>>>>>> a51c56648f94254c54b9ec83c4d11f40548caaf9
    },
    "language_info": {
      "codemirror_mode": {
        "name": "ipython",
        "version": 3
      },
      "file_extension": ".py",
      "mimetype": "text/x-python",
      "name": "python",
      "nbconvert_exporter": "python",
      "pygments_lexer": "ipython3",
      "version": "3.12.4"
    }
  },
<<<<<<< HEAD
  {
   "cell_type": "code",
   "execution_count": 103,
   "metadata": {
    "colab": {
     "background_save": true
    },
    "id": "9XhSTRx6llgs"
   },
   "outputs": [
    {
     "ename": "NameError",
     "evalue": "name 'train_test_split' is not defined",
     "output_type": "error",
     "traceback": [
      "\u001b[0;31m---------------------------------------------------------------------------\u001b[0m",
      "\u001b[0;31mNameError\u001b[0m                                 Traceback (most recent call last)",
      "Cell \u001b[0;32mIn[103], line 2\u001b[0m\n\u001b[1;32m      1\u001b[0m \u001b[38;5;66;03m# 훈련 및 테스트 데이터 분할 (train_test_split 사용)\u001b[39;00m\n\u001b[0;32m----> 2\u001b[0m train_reviews, test_reviews, train_ratings, test_ratings \u001b[38;5;241m=\u001b[39m train_test_split(reviews, ratings, test_size\u001b[38;5;241m=\u001b[39m\u001b[38;5;241m0.3\u001b[39m, random_state\u001b[38;5;241m=\u001b[39m\u001b[38;5;241m42\u001b[39m)\n",
      "\u001b[0;31mNameError\u001b[0m: name 'train_test_split' is not defined"
     ]
    }
   ],
   "source": [
    "# 훈련 및 테스트 데이터 분할 (train_test_split 사용)\n",
    "train_reviews, test_reviews, train_ratings, test_ratings = train_test_split(reviews, ratings, test_size=0.3, random_state=42)"
   ]
  },
  {
   "cell_type": "code",
   "execution_count": null,
   "metadata": {
    "colab": {
     "background_save": true
    },
    "id": "rahi8vqHln6f"
   },
   "outputs": [],
   "source": [
    "# 인덱스 초기화 (데이터 프레임 인덱스 리셋)\n",
    "train_reviews.reset_index(drop=True, inplace=True)\n",
    "train_ratings.reset_index(drop=True, inplace=True)\n",
    "test_reviews.reset_index(drop=True, inplace=True)\n",
    "test_ratings.reset_index(drop=True, inplace=True)"
   ]
  },
  {
   "cell_type": "code",
   "execution_count": null,
   "metadata": {
    "colab": {
     "background_save": true
    },
    "id": "ftOoi5OJlveH"
   },
   "outputs": [],
   "source": [
    "# 단어 사전 구축 함수 정의 (리뷰 텍스트를 토큰화하고 사전 생성)\n",
    "def build_vocab(reviews):\n",
    "    tokenized_reviews = [word_tokenize(review) for review in reviews]\n",
    "    vocab = build_vocab_from_iterator(tokenized_reviews, specials=[\"<pad>\", \"<unk>\"])\n",
    "    vocab.set_default_index(vocab[\"<unk>\"])  # 알 수 없는 단어 처리\n",
    "    return vocab\n",
    "\n",
    "# 단어 사전 생성 (훈련 데이터 리뷰를 기반으로 어휘 사전 구축)\n",
    "vocab = build_vocab(train_reviews)"
   ]
  },
  {
   "cell_type": "code",
   "execution_count": null,
   "metadata": {
    "colab": {
     "background_save": true
    },
    "id": "9DcSGjWLl6ex"
   },
   "outputs": [],
   "source": [
    "# 데이터셋 클래스 정의 (데이터셋을 커스텀하여 사용하기 위해 클래스 정의)\n",
    "class ReviewDataset(Dataset):\n",
    "    def __init__(self, reviews, ratings, text_pipeline, label_pipeline):\n",
    "        self.reviews = reviews\n",
    "        self.ratings = ratings\n",
    "        self.text_pipeline = text_pipeline\n",
    "        self.label_pipeline = label_pipeline\n",
    "\n",
    "    def __len__(self):\n",
    "        return len(self.reviews)\n",
    "\n",
    "    def __getitem__(self, idx):\n",
    "        review = self.text_pipeline(self.reviews[idx])\n",
    "        rating = self.label_pipeline(self.ratings[idx])\n",
    "        return review, rating"
   ]
  },
  {
   "cell_type": "code",
   "execution_count": null,
   "metadata": {
    "colab": {
     "background_save": true
    },
    "id": "0-c4J5s1l8sd"
   },
   "outputs": [],
   "source": [
    "# 패딩과 텐서 변환을 위한 collate 함수 정의\n",
    "def collate_fn(batch):\n",
    "    reviews, ratings = zip(*batch)  # 배치에서 리뷰와 레이팅 분리\n",
    "    reviews_padded = pad_sequence(reviews, batch_first=True)  # 리뷰를 패딩\n",
    "    ratings_tensor = torch.tensor(ratings, dtype=torch.long)  # 레이팅을 텐서로 변환\n",
    "    return reviews_padded, ratings_tensor  # 패딩된 리뷰와 레이팅 반환"
   ]
  },
  {
   "cell_type": "code",
   "execution_count": null,
   "metadata": {
    "colab": {
     "background_save": true
    },
    "id": "GmhNAAFNl-lX"
   },
   "outputs": [],
   "source": [
    "# 텍스트 파이프라인 정의 (텍스트를 토큰화하고 텐서로 변환)\n",
    "def text_pipeline(text):\n",
    "    tokenized = word_tokenize(text)  # 토큰화\n",
    "    return torch.tensor([vocab[token] for token in tokenized], dtype=torch.long)"
   ]
  },
  {
   "cell_type": "code",
   "execution_count": null,
   "metadata": {
    "colab": {
     "background_save": true
    },
    "id": "_xkoX-SemEw5"
   },
   "outputs": [],
   "source": [
    "# 레이블 파이프라인 클래스 정의 (평점을 수치화하여 모델에 입력)\n",
    "class LabelPipeline:\n",
    "    def __init__(self):\n",
    "        self.label_encoder = LabelEncoder()\n",
    "\n",
    "    def fit(self, labels):\n",
    "        self.label_encoder.fit(labels)\n",
    "\n",
    "    def __call__(self, label):\n",
    "        return self.label_encoder.transform([label])[0]"
   ]
  },
  {
   "cell_type": "code",
   "execution_count": null,
   "metadata": {
    "colab": {
     "background_save": true
    },
    "id": "gdagimuymG4g"
   },
   "outputs": [],
   "source": [
    "# 레이블 파이프라인 초기화 및 학습\n",
    "label_pipeline = LabelPipeline()\n",
    "label_pipeline.fit(df['score'].values)"
   ]
  },
  {
   "cell_type": "code",
   "execution_count": null,
   "metadata": {
    "colab": {
     "background_save": true
    },
    "id": "YSt4E1XFmJNI"
   },
   "outputs": [],
   "source": [
    "# 데이터셋 정의 (훈련 및 테스트 데이터셋 구성)\n",
    "train_dataset = ReviewDataset(train_reviews, train_ratings, text_pipeline, label_pipeline)\n",
    "test_dataset = ReviewDataset(test_reviews, test_ratings, text_pipeline, label_pipeline)"
   ]
  },
  {
   "cell_type": "code",
   "execution_count": null,
   "metadata": {
    "colab": {
     "background_save": true
    },
    "id": "-3izexBNmLkR"
   },
   "outputs": [],
   "source": [
    "# 데이터 로더 정의 (DataLoader를 통해 배치로 데이터를 로딩)\n",
    "BATCH_SIZE = 64\n",
    "train_dataloader = DataLoader(train_dataset, batch_size=BATCH_SIZE, shuffle=True, collate_fn=collate_fn)\n",
    "test_dataloader = DataLoader(test_dataset, batch_size=BATCH_SIZE, collate_fn=collate_fn)"
   ]
  },
  {
   "cell_type": "markdown",
   "metadata": {
    "id": "Qsk4PYcoixw7"
   },
   "source": [
    "#### LSTM model"
   ]
  },
  {
   "cell_type": "code",
   "execution_count": null,
   "metadata": {
    "colab": {
     "background_save": true
    },
    "id": "LHtyi5LdmNiv"
   },
   "outputs": [],
   "source": [
    "# 모델 정의 (LSTM 모델 구조를 설정하여 시퀀스 처리 수행)\n",
    "class LSTMModel(nn.Module):\n",
    "  def __init__(self, vocab_size, embed_dim, hidden_dim, output_dim):\n",
    "    super(LSTMModel, self).__init__()\n",
    "    self.embedding = nn.Embedding(vocab_size, embed_dim, sparse=True, padding_idx=0)\n",
    "    self.lstm = nn.LSTM(embed_dim, hidden_dim, batch_first=True)\n",
    "    self.fc = nn.Sequential(\n",
    "        nn.Linear(hidden_dim, 128),\n",
    "        nn.ReLU(),\n",
    "        nn.Dropout(0.5),\n",
    "        nn.Linear(128, output_dim),\n",
    "    )\n",
    "\n",
    "  # 순전파 정의 (입력 텍스트를 임베딩하고 LSTM과 FC 계층에 통과)\n",
    "  def forward(self, text):\n",
    "    embedded = self.embedding(text)\n",
    "    output, (hidden, cell) = self.lstm(embedded)  # 배치 사이즈에 맞게 차원 추가\n",
    "    return self.fc(hidden[-1].view(hidden.size(1), -1))"
   ]
  },
  {
   "cell_type": "code",
   "execution_count": null,
   "metadata": {
    "colab": {
     "background_save": true
    },
    "id": "LOCpVRzOmPdh"
   },
   "outputs": [],
   "source": [
    "# 하이퍼파라미터 정의 (어휘 크기, 임베딩 차원, LSTM 은닉 차원 및 출력 차원 설정)\n",
    "VOCAB_SIZE = len(vocab)\n",
    "EMBED_DIM = 64\n",
    "HIDDEN_DIM = 128\n",
    "OUTPUT_DIM = 5\n",
    "\n",
    "# 모델 초기화 (LSTM 모델 인스턴스 생성)\n",
    "model = LSTMModel(VOCAB_SIZE, EMBED_DIM, HIDDEN_DIM, OUTPUT_DIM)\n",
    "\n",
    "# 손실 함수와 옵티마이저 정의 (교차 엔트로피 손실과 SGD 사용)\n",
    "criterion = nn.CrossEntropyLoss()\n",
    "optimizer = optim.SGD(model.parameters(), lr=0.01)"
   ]
  },
  {
   "cell_type": "code",
   "execution_count": null,
   "metadata": {
    "colab": {
     "background_save": true
    },
    "id": "7JF5hhElmTNv"
   },
   "outputs": [],
   "source": [
    "# 모델 학습 과정 정의 (에포크 동안 훈련 데이터에 대해 손실 계산 및 가중치 업데이트)\n",
    "def train_model(model, train_dataloader, optimizer, criterion, epochs=10):\n",
    "    model.train()  # 모델을 학습 모드로 전환\n",
    "    for epoch in range(epochs):\n",
    "        total_loss = 0\n",
    "\n",
    "        for batch in train_dataloader:\n",
    "            reviews, ratings = batch  # 배치 데이터\n",
    "\n",
    "            # reviews와 ratings를 안전하게 복사\n",
    "            reviews = reviews.clone().detach()\n",
    "            ratings = ratings.clone().detach()\n",
    "\n",
    "            optimizer.zero_grad()  # 옵티마이저 초기화\n",
    "\n",
    "            # 모델의 출력\n",
    "            output = model(reviews)\n",
    "\n",
    "            # 손실 계산 및 역전파\n",
    "            loss = criterion(output, ratings)\n",
    "            loss.backward()  # 그라디언트 계산\n",
    "            optimizer.step()  # 옵티마이저를 통한 파라미터 업데이트\n",
    "\n",
    "            total_loss += loss.item()"
   ]
  },
  {
   "cell_type": "code",
   "execution_count": null,
   "metadata": {
    "colab": {
     "background_save": true
    },
    "id": "9DQ1Yv0AmWVh"
   },
   "outputs": [],
   "source": [
    "# 모델 학습 (훈련 함수 호출하여 모델 학습)\n",
    "train_model(model, train_dataloader, optimizer, criterion, epochs=10)"
   ]
  },
  {
   "cell_type": "code",
   "execution_count": null,
   "metadata": {
    "colab": {
     "background_save": true
    },
    "id": "ZYKrZ0wZmZRZ"
   },
   "outputs": [],
   "source": [
    "# 모델 평가 함수\n",
    "def evaluate(model, loader):\n",
    "    model.eval()\n",
    "    correct = 0\n",
    "    total = 0\n",
    "    with torch.no_grad():\n",
    "        for reviews, labels in loader:\n",
    "            outputs = model(reviews)\n",
    "            _, predicted = torch.max(outputs, 1)\n",
    "            total += labels.size(0)\n",
    "            correct += (predicted == labels).sum().item()\n",
    "    return correct / total\n",
    "\n",
    "# 모델 평가\n",
    "accuracy = evaluate(model, test_dataloader)\n",
    "print(f'Accuracy: {accuracy:.4f}')"
   ]
  },
  {
   "cell_type": "markdown",
   "metadata": {
    "id": "LxCEAriTi_lz"
   },
   "source": [
    "#### LSTM model with ***learning rate = 0.001***"
   ]
  },
  {
   "cell_type": "code",
   "execution_count": null,
   "metadata": {
    "colab": {
     "background_save": true
    },
    "id": "ps6BVuXZqRcy"
   },
   "outputs": [],
   "source": [
    "# 모델 초기화 (LSTM 모델 인스턴스 생성)\n",
    "model = LSTMModel(VOCAB_SIZE, EMBED_DIM, HIDDEN_DIM, OUTPUT_DIM)\n",
    "\n",
    "# 손실 함수와 옵티마이저 정의 (교차 엔트로피 손실과 SGD 사용, 학습률 0.001로 설정)\n",
    "criterion = nn.CrossEntropyLoss()\n",
    "optimizer = optim.SGD(model.parameters(), lr=0.001)\n",
    "\n",
    "# 모델 학습 과정 정의 (에포크 동안 훈련 데이터에 대해 손실 계산 및 가중치 업데이트)\n",
    "def train_model(model, train_dataloader, optimizer, criterion, epochs=10):\n",
    "    model.train()  # 모델을 학습 모드로 전환\n",
    "    for epoch in range(epochs):\n",
    "        total_loss = 0\n",
    "\n",
    "        for batch in train_dataloader:\n",
    "            reviews, ratings = batch  # 배치 데이터\n",
    "\n",
    "            # reviews와 ratings를 안전하게 복사\n",
    "            reviews = reviews.clone().detach()\n",
    "            ratings = ratings.clone().detach()\n",
    "\n",
    "            optimizer.zero_grad()  # 옵티마이저 초기화\n",
    "\n",
    "            # 모델의 출력\n",
    "            output = model(reviews)\n",
    "\n",
    "            # 손실 계산 및 역전파\n",
    "            loss = criterion(output, ratings)\n",
    "            loss.backward()  # 그라디언트 계산\n",
    "            optimizer.step()  # 옵티마이저를 통한 파라미터 업데이트\n",
    "\n",
    "            total_loss += loss.item()\n",
    "\n",
    "# 모델 학습 (훈련 함수 호출하여 모델 학습)\n",
    "train_model(model, train_dataloader, optimizer, criterion, epochs=10)"
   ]
  },
  {
   "cell_type": "code",
   "execution_count": null,
   "metadata": {
    "colab": {
     "background_save": true
    },
    "id": "SEft5Kse5w12"
   },
   "outputs": [],
   "source": [
    "# 모델 평가\n",
    "accuracy = evaluate(model, test_dataloader)\n",
    "print(f'Accuracy: {accuracy:.4f}')"
   ]
  },
  {
   "cell_type": "markdown",
   "metadata": {
    "id": "39jGWMCQjkhM"
   },
   "source": [
    "#### LSTM model with ***Adam optimizer***"
   ]
  },
  {
   "cell_type": "code",
   "execution_count": null,
   "metadata": {
    "colab": {
     "background_save": true
    },
    "id": "2iPoUw1E6Jzk"
   },
   "outputs": [],
   "source": [
    "# 모델 정의 (LSTM 모델 구조를 설정하여 시퀀스 처리 수행)\n",
    "class LSTMModel(nn.Module):\n",
    "  def __init__(self, vocab_size, embed_dim, hidden_dim, output_dim):\n",
    "    super(LSTMModel, self).__init__()\n",
    "    self.embedding = nn.Embedding(vocab_size, embed_dim, padding_idx=0)\n",
    "    self.lstm = nn.LSTM(embed_dim, hidden_dim, batch_first=True)\n",
    "    self.fc = nn.Sequential(\n",
    "    nn.Linear(hidden_dim, 128),\n",
    "    nn.ReLU(),\n",
    "    nn.Dropout(0.5),\n",
    "    nn.Linear(128, output_dim)\n",
    ")\n",
    "\n",
    "  # 순전파 정의 (입력 텍스트를 임베딩하고 LSTM과 FC 계층에 통과)\n",
    "  def forward(self, text):\n",
    "    embedded = self.embedding(text)\n",
    "    output, (hidden, cell) = self.lstm(embedded)  # 배치 사이즈에 맞게 차원 추가\n",
    "    return self.fc(hidden[-1].view(hidden.size(1), -1))\n",
    "\n",
    "# 하이퍼파라미터 정의 (어휘 크기, 임베딩 차원, LSTM 은닉 차원 및 출력 차원 설정)\n",
    "VOCAB_SIZE = len(vocab)\n",
    "EMBED_DIM = 64\n",
    "HIDDEN_DIM = 128\n",
    "OUTPUT_DIM = 5  # 예측할 점수 개수\n",
    "\n",
    "# 모델 초기화 (LSTM 모델 인스턴스 생성)\n",
    "model = LSTMModel(VOCAB_SIZE, EMBED_DIM, HIDDEN_DIM, OUTPUT_DIM)\n",
    "\n",
    "# 손실 함수와 옵티마이저 정의 (교차 엔트로피 손실과 Adam 사용, 학습률 0.01로 설정)\n",
    "criterion = nn.CrossEntropyLoss()\n",
    "optimizer = optim.Adam(model.parameters(), lr=0.01)\n",
    "\n",
    "# 모델 학습 과정 정의 (에포크 동안 훈련 데이터에 대해 손실 계산 및 가중치 업데이트)\n",
    "def train_model(model, train_dataloader, optimizer, criterion, epochs=10):\n",
    "    model.train()  # 모델을 학습 모드로 전환\n",
    "    for epoch in range(epochs):\n",
    "        total_loss = 0\n",
    "\n",
    "        for batch in train_dataloader:\n",
    "            reviews, ratings = batch  # 배치 데이터\n",
    "\n",
    "            # reviews와 ratings를 안전하게 복사\n",
    "            reviews = reviews.clone().detach()\n",
    "            ratings = ratings.clone().detach()\n",
    "\n",
    "            optimizer.zero_grad()  # 옵티마이저 초기화\n",
    "\n",
    "            # 모델의 출력\n",
    "            output = model(reviews)\n",
    "\n",
    "            # 손실 계산 및 역전파\n",
    "            loss = criterion(output, ratings)\n",
    "            loss.backward()  # 그라디언트 계산\n",
    "            optimizer.step()  # 옵티마이저를 통한 파라미터 업데이트\n",
    "\n",
    "            total_loss += loss.item()\n",
    "\n",
    "# 모델 학습 (훈련 함수 호출하여 모델 학습)\n",
    "train_model(model, train_dataloader, optimizer, criterion, epochs=10)"
   ]
  },
  {
   "cell_type": "code",
   "execution_count": null,
   "metadata": {
    "colab": {
     "background_save": true
    },
    "id": "R7ZDQ7086RPl"
   },
   "outputs": [],
   "source": [
    "# 모델 평가\n",
    "accuracy = evaluate(model, test_dataloader)\n",
    "print(f'Accuracy: {accuracy:.4f}')"
   ]
  },
  {
   "cell_type": "markdown",
   "metadata": {
    "id": "IlY1dVnEke_H"
   },
   "source": [
    "#### LSTM model with ***Adam optimizer and Early stopping***"
   ]
  },
  {
   "cell_type": "code",
   "execution_count": null,
   "metadata": {
    "id": "tB_WMYO6kTju"
   },
   "outputs": [],
   "source": [
    "# 데이터 분할\n",
    "# 훈련 데이터와 임시 데이터(검증 + 테스트 데이터) 분리(train_test_split 사용)\n",
    "train_reviews, temp_reviews, train_ratings, temp_ratings = train_test_split(reviews, ratings, test_size=0.3, random_state=42)\n",
    "\n",
    "# 임시 데이터를 검증 데이터와 테스트 데이터로 분리(train_test_split 사용)\n",
    "test_reviews, rtest_reviews, test_ratings, rtest_ratings = train_test_split(temp_reviews, temp_ratings, test_size=0.5, random_state=42)\n",
    "\n",
    "# 인덱스 초기화 (데이터 프레임 인덱스 리셋)\n",
    "train_reviews.reset_index(drop=True, inplace=True)\n",
    "train_ratings.reset_index(drop=True, inplace=True)\n",
    "test_reviews.reset_index(drop=True, inplace=True)\n",
    "test_ratings.reset_index(drop=True, inplace=True)\n",
    "rtest_reviews.reset_index(drop=True, inplace=True)\n",
    "rtest_ratings.reset_index(drop=True, inplace=True)\n",
    "\n",
    "# 데이터셋 정의 (훈련 및 테스트 데이터셋 구성)\n",
    "train_dataset = ReviewDataset(train_reviews, train_ratings, text_pipeline, label_pipeline)\n",
    "test_dataset = ReviewDataset(test_reviews, test_ratings, text_pipeline, label_pipeline)\n",
    "rtest_dataset = ReviewDataset(rtest_reviews, rtest_ratings, text_pipeline, label_pipeline)\n",
    "\n",
    "# 데이터 로더 정의 (DataLoader를 통해 배치로 데이터를 로딩)\n",
    "BATCH_SIZE = 64\n",
    "\n",
    "train_dataloader = DataLoader(train_dataset, batch_size=BATCH_SIZE, shuffle=True, collate_fn=collate_fn)\n",
    "test_dataloader = DataLoader(test_dataset, batch_size=BATCH_SIZE, collate_fn=collate_fn)\n",
    "rtest_dataloader = DataLoader(rtest_dataset, batch_size=BATCH_SIZE, collate_fn=collate_fn)"
   ]
  },
  {
   "cell_type": "code",
   "execution_count": null,
   "metadata": {
    "colab": {
     "background_save": true
    },
    "id": "aGPNPvfL9Xcd"
   },
   "outputs": [],
   "source": [
    "# 조기 종료 함수 정의\n",
    "class EarlyStopping:\n",
    "    def __init__(self, patience=3, verbose=False):\n",
    "        self.patience = patience\n",
    "        self.verbose = verbose\n",
    "        self.best_loss = None\n",
    "        self.counter = 0\n",
    "\n",
    "    def __call__(self, val_loss):\n",
    "        if self.best_loss is None:\n",
    "            self.best_loss = val_loss\n",
    "        elif val_loss < self.best_loss:\n",
    "            self.best_loss = val_loss\n",
    "            self.counter = 0\n",
    "        else:\n",
    "            self.counter += 1\n",
    "            if self.counter >= self.patience:\n",
    "                if self.verbose:\n",
    "                    print(\"Early stopping triggered.\")\n",
    "                return True\n",
    "        return False\n",
    "\n",
    "\n",
    "# 모델 학습 과정 정의 (Early Stopping 추가)\n",
    "def train_model(model, train_dataloader, test_dataloader, optimizer, criterion, epochs=10, patience=1):\n",
    "    model.train()  # 모델을 학습 모드로 전환\n",
    "    early_stopping = EarlyStopping(patience=patience, verbose=True)\n",
    "\n",
    "    for epoch in range(epochs):\n",
    "        total_loss = 0\n",
    "\n",
    "        # 훈련 모드에서의 손실 계산\n",
    "        for batch in train_dataloader:\n",
    "            reviews, ratings = batch  # 배치 데이터\n",
    "            optimizer.zero_grad()  # 옵티마이저 초기화\n",
    "\n",
    "            # 모델의 출력\n",
    "            output = model(reviews)\n",
    "\n",
    "            # 손실 계산 및 역전파\n",
    "            loss = criterion(output, ratings)\n",
    "            loss.backward()  # 그라디언트 계산\n",
    "            optimizer.step()  # 옵티마이저를 통한 파라미터 업데이트\n",
    "\n",
    "            total_loss += loss.item()\n",
    "\n",
    "        avg_train_loss = total_loss / len(train_dataloader)\n",
    "        print(f'Epoch [{epoch+1}/{epochs}], Train Loss: {avg_train_loss:.4f}')\n",
    "\n",
    "        # 테스트 손실 계산\n",
    "        model.eval()  # 모델을 평가 모드로 전환\n",
    "        total_test_loss = 0\n",
    "        with torch.no_grad():\n",
    "            for batch in test_dataloader:\n",
    "                reviews, ratings = batch  # 배치 데이터\n",
    "                output = model(reviews)  # 모델의 출력\n",
    "                test_loss = criterion(output, ratings)  # 테스트 손실 계산\n",
    "                total_test_loss += test_loss.item()\n",
    "\n",
    "        avg_test_loss = total_test_loss / len(test_dataloader)\n",
    "        print(f'Epoch [{epoch+1}/{epochs}], Test Loss: {avg_test_loss:.4f}')\n",
    "\n",
    "        # Early Stopping 체크\n",
    "        if early_stopping(avg_test_loss):\n",
    "            break  # 학습 중단\n",
    "\n",
    "# 모델 학습 (훈련 함수 호출하여 모델 학습)\n",
    "train_model(model, train_dataloader, test_dataloader, optimizer, criterion, epochs=10, patience=3)"
   ]
  },
  {
   "cell_type": "code",
   "execution_count": null,
   "metadata": {
    "colab": {
     "background_save": true
    },
    "id": "FmDFRXR29ayZ"
   },
   "outputs": [],
   "source": [
    "# 모델 평가\n",
    "accuracy = evaluate(model, rtest_dataloader)\n",
    "print(f'Accuracy: {accuracy:.4f}')"
   ]
  },
  {
   "cell_type": "markdown",
   "metadata": {
    "id": "0xcHmdTsy-NJ"
   },
   "source": [
    "## 추가 선택 과제"
   ]
  },
  {
   "cell_type": "markdown",
   "metadata": {
    "id": "r5dFsatDzEqM"
   },
   "source": [
    "### 5. NLP 이용해보기"
   ]
  },
  {
   "cell_type": "markdown",
   "metadata": {
    "id": "OtLJo1lMl93y"
   },
   "source": [
    "#### BERT model"
   ]
  },
  {
   "cell_type": "code",
   "execution_count": null,
   "metadata": {
    "colab": {
     "background_save": true
    },
    "id": "sYs12_6lzSka"
   },
   "outputs": [],
   "source": [
    "import torch\n",
    "import torch.nn as nn\n",
    "import torch.optim as optim\n",
    "from torch.utils.data import Dataset, DataLoader\n",
    "from sklearn.preprocessing import LabelEncoder\n",
    "from nltk.tokenize import word_tokenize\n",
    "from collections import Counter\n",
    "import nltk\n",
    "import numpy as np\n",
    "nltk.download('punkt')"
   ]
  },
  {
   "cell_type": "code",
   "execution_count": null,
   "metadata": {
    "id": "i5dl2YTtmChG"
   },
   "outputs": [],
   "source": [
    "class TextPipeline:\n",
    "    def __init__(self):\n",
    "        self.vocab = {}\n",
    "\n",
    "    def fit(self, texts):\n",
    "        word_counts = Counter()\n",
    "        for text in texts:\n",
    "            words = word_tokenize(text)\n",
    "            word_counts.update(words)\n",
    "        self.vocab = {word: idx for idx, (word, _) in enumerate(word_counts.items(), 1)}  # 1부터 시작\n",
    "\n",
    "    def __call__(self, text):\n",
    "        words = word_tokenize(text)\n",
    "        return [self.vocab.get(word, 0) for word in words]  # 사전에 없는 단어는 0으로 처리"
   ]
  },
  {
   "cell_type": "code",
   "execution_count": null,
   "metadata": {
    "id": "l7b4NbvGmFDb"
   },
   "outputs": [],
   "source": [
    "class LabelPipeline:\n",
    "    def __init__(self):\n",
    "        self.label_encoder = LabelEncoder()\n",
    "\n",
    "    def fit(self, labels):\n",
    "        self.label_encoder.fit(labels)\n",
    "\n",
    "    def __call__(self, label):\n",
    "        return self.label_encoder.transform([label])[0]"
   ]
  },
  {
   "cell_type": "code",
   "execution_count": null,
   "metadata": {
    "id": "oqZI0h5smH5D"
   },
   "outputs": [],
   "source": [
    "class ReviewDataset(Dataset):\n",
    "    def __init__(self, reviews, ratings, text_pipeline, label_pipeline):\n",
    "        self.reviews = reviews\n",
    "        self.ratings = ratings\n",
    "        self.text_pipeline = text_pipeline\n",
    "        self.label_pipeline = label_pipeline\n",
    "\n",
    "    def __len__(self):\n",
    "        return len(self.reviews)\n",
    "\n",
    "    def __getitem__(self, idx):\n",
    "        review = self.text_pipeline(self.reviews[idx])\n",
    "        rating = self.label_pipeline(self.ratings[idx])\n",
    "        return torch.tensor(review, dtype=torch.long), torch.tensor(rating, dtype=torch.long)"
   ]
  },
  {
   "cell_type": "code",
   "execution_count": null,
   "metadata": {
    "id": "zs2HLminmKIH"
   },
   "outputs": [],
   "source": [
    "# 'content' 열이 문자열 형식인지 확인하고 변환\n",
    "df['content'] = df['content'].astype(str)"
   ]
  },
  {
   "cell_type": "code",
   "execution_count": null,
   "metadata": {
    "id": "K7XLe7eJmK8d"
   },
   "outputs": [],
   "source": [
    "print(df.columns)"
   ]
  },
  {
   "cell_type": "code",
   "execution_count": null,
   "metadata": {
    "id": "oM5BrvQCmNLN"
   },
   "outputs": [],
   "source": [
    "# 텍스트 파이프라인 인스턴스 생성 및 학습\n",
    "text_pipeline = TextPipeline()\n",
    "text_pipeline.fit(df['content'].values)\n",
    "\n",
    "# 레이블 파이프라인 인스턴스 생성 및 학습\n",
    "label_pipeline = LabelPipeline()\n",
    "label_pipeline.fit(df['score'].values)\n",
    "\n",
    "# 훈련 및 테스트 데이터를 설정\n",
    "train_reviews = df['content'][:800].values  # 첫 800개는 훈련 데이터로\n",
    "train_ratings = df['score'][:800].values\n",
    "test_reviews = df['content'][800:].values   # 나머지는 테스트 데이터로\n",
    "test_ratings = df['score'][800:].values\n",
    "\n",
    "# 데이터셋 생성\n",
    "train_dataset = ReviewDataset(train_reviews, train_ratings, text_pipeline, label_pipeline)\n",
    "test_dataset = ReviewDataset(test_reviews, test_ratings, text_pipeline, label_pipeline)\n",
    "\n",
    "# DataLoader 생성\n",
    "train_loader = DataLoader(train_dataset, batch_size=32, shuffle=True)\n",
    "test_loader = DataLoader(test_dataset, batch_size=32)"
   ]
  },
  {
   "cell_type": "code",
   "execution_count": null,
   "metadata": {
    "id": "bcQFnSnOmPh2"
   },
   "outputs": [],
   "source": [
    "class SentimentLSTM(nn.Module):\n",
    "    def __init__(self, vocab_size, embed_size, hidden_size, output_size, num_layers=1):\n",
    "        super(SentimentLSTM, self).__init__()\n",
    "        self.embedding = nn.Embedding(vocab_size, embed_size)\n",
    "        self.lstm = nn.LSTM(embed_size, hidden_size, num_layers, batch_first=True)\n",
    "        self.fc = nn.Linear(hidden_size, output_size)\n",
    "\n",
    "    def forward(self, x):\n",
    "        embeds = self.embedding(x)\n",
    "        lstm_out, _ = self.lstm(embeds)\n",
    "        out = self.fc(lstm_out[:, -1, :])  # 마지막 타임스텝 출력\n",
    "        return out\n"
   ]
  },
  {
   "cell_type": "code",
   "execution_count": null,
   "metadata": {
    "id": "FcNpWhdjmRz4"
   },
   "outputs": [],
   "source": [
    "def train(model, loader, criterion, optimizer, num_epochs=5):\n",
    "    model.train()\n",
    "    for epoch in range(num_epochs):\n",
    "        total_loss = 0\n",
    "        for reviews, labels in loader:\n",
    "            optimizer.zero_grad()\n",
    "            outputs = model(reviews)\n",
    "            loss = criterion(outputs, labels)\n",
    "            loss.backward()\n",
    "            optimizer.step()\n",
    "            total_loss += loss.item()\n",
    "        print(f'Epoch {epoch+1}/{num_epochs}, Loss: {total_loss/len(loader):.4f}')\n",
    "\n",
    "def evaluate(model, loader):\n",
    "    model.eval()\n",
    "    correct, total = 0, 0\n",
    "    with torch.no_grad():\n",
    "        for reviews, labels in loader:\n",
    "            outputs = model(reviews)\n",
    "            _, predicted = torch.max(outputs, 1)\n",
    "            total += labels.size(0)\n",
    "            correct += (predicted == labels).sum().item()\n",
    "    return correct / total\n"
   ]
  },
  {
   "cell_type": "code",
   "execution_count": null,
   "metadata": {
    "id": "qocNGiDjmTwU"
   },
   "outputs": [],
   "source": [
    "!pip install transformers"
   ]
  },
  {
   "cell_type": "code",
   "execution_count": null,
   "metadata": {
    "id": "Od0pfI7NmWmv"
   },
   "outputs": [],
   "source": [
    "import torch\n",
    "import pandas as pd\n",
    "from sklearn.model_selection import train_test_split\n",
    "from transformers import BertTokenizer, BertForSequenceClassification\n",
    "from transformers import Trainer, TrainingArguments"
   ]
  },
  {
   "cell_type": "code",
   "execution_count": null,
   "metadata": {
    "id": "SxE1G9FumdDz"
   },
   "outputs": [],
   "source": [
    "train_df, test_df = train_test_split(df, test_size=0.2, random_state=42)\n",
    "\n",
    "tokenizer = BertTokenizer.from_pretrained('bert-base-uncased')\n",
    "import os\n",
    "os.environ[\"WANDB_DISABLED\"] = \"true\"\n",
    "\n",
    "# 데이터셋 클래스 정의\n",
    "class MovieReviewDataset(torch.utils.data.Dataset):\n",
    "    def __init__(self, texts, labels, tokenizer, max_length):\n",
    "        self.texts = texts\n",
    "        self.labels = labels\n",
    "        self.tokenizer = tokenizer\n",
    "        self.max_length = max_length\n",
    "\n",
    "    def __len__(self):\n",
    "        return len(self.texts)\n",
    "\n",
    "    def __getitem__(self, idx):\n",
    "        text = self.texts[idx]\n",
    "        label = self.labels[idx]\n",
    "        encoding = self.tokenizer.encode_plus(\n",
    "            text,\n",
    "            add_special_tokens=True,\n",
    "            max_length=self.max_length,\n",
    "            return_token_type_ids=False,\n",
    "            padding='max_length',\n",
    "            truncation=True,\n",
    "            return_attention_mask=True,\n",
    "            return_tensors='pt',\n",
    "        )\n",
    "        return {\n",
    "            'input_ids': encoding['input_ids'].flatten(),\n",
    "            'attention_mask': encoding['attention_mask'].flatten(),\n",
    "            'labels': torch.tensor(label, dtype=torch.long),\n",
    "        }\n",
    "\n",
    "# 데이터셋 생성\n",
    "max_length = 128\n",
    "train_dataset = MovieReviewDataset(train_df['content'].values, train_df['sentiment'].values, tokenizer, max_length)\n",
    "test_dataset = MovieReviewDataset(test_df['content'].values, test_df['sentiment'].values, tokenizer, max_length)\n",
    "\n",
    "# 모델 준비\n",
    "model = BertForSequenceClassification.from_pretrained('bert-base-uncased', num_labels=len(set(df['sentiment'])))\n",
    "\n",
    "# 트레이너 설정\n",
    "training_args = TrainingArguments(\n",
    "    output_dir='./results',\n",
    "    num_train_epochs=5,\n",
    "    per_device_train_batch_size=16,\n",
    "    per_device_eval_batch_size=16,\n",
    "    warmup_steps=500,\n",
    "    weight_decay=0.01,\n",
    "    logging_dir='./logs',\n",
    "    logging_steps=10,\n",
    "    evaluation_strategy='epoch'\n",
    ")\n",
    "\n",
    "trainer = Trainer(\n",
    "    model=model,\n",
    "    args=training_args,\n",
    "    train_dataset=train_dataset,\n",
    "    eval_dataset=test_dataset\n",
    ")\n",
    "\n",
    "# 모델 학습\n",
    "trainer.train()\n",
    "\n",
    "# 평가\n",
    "trainer.evaluate()"
   ]
  },
  {
   "cell_type": "code",
   "execution_count": null,
   "metadata": {
    "id": "V3xpsZ-BmgT7"
   },
   "outputs": [],
   "source": [
    "import torch\n",
    "from sklearn.model_selection import train_test_split\n",
    "from transformers import BertTokenizer, BertForSequenceClassification, Trainer, TrainingArguments\n",
    "from sklearn.metrics import accuracy_score, precision_recall_fscore_support\n",
    "import os\n",
    "\n",
    "# 환경 설정\n",
    "os.environ[\"WANDB_DISABLED\"] = \"true\"\n",
    "\n",
    "# 데이터셋 분리\n",
    "train_df, test_df = train_test_split(df, test_size=0.2, random_state=42)\n",
    "\n",
    "# 토크나이저 로드\n",
    "tokenizer = BertTokenizer.from_pretrained('bert-base-uncased')\n",
    "\n",
    "# 데이터셋 클래스 정의\n",
    "class MovieReviewDataset(torch.utils.data.Dataset):\n",
    "    def __init__(self, texts, labels, tokenizer, max_length):\n",
    "        self.texts = texts\n",
    "        self.labels = labels\n",
    "        self.tokenizer = tokenizer\n",
    "        self.max_length = max_length\n",
    "\n",
    "    def __len__(self):\n",
    "        return len(self.texts)\n",
    "\n",
    "    def __getitem__(self, idx):\n",
    "        text = self.texts[idx]\n",
    "        label = self.labels[idx]\n",
    "        encoding = self.tokenizer.encode_plus(\n",
    "            text,\n",
    "            add_special_tokens=True,\n",
    "            max_length=self.max_length,\n",
    "            return_token_type_ids=False,\n",
    "            padding='max_length',\n",
    "            truncation=True,\n",
    "            return_attention_mask=True,\n",
    "            return_tensors='pt',\n",
    "        )\n",
    "        return {\n",
    "            'input_ids': encoding['input_ids'].flatten(),\n",
    "            'attention_mask': encoding['attention_mask'].flatten(),\n",
    "            'labels': torch.tensor(label, dtype=torch.long),\n",
    "        }\n",
    "\n",
    "# 데이터셋 생성\n",
    "max_length = 128\n",
    "train_dataset = MovieReviewDataset(train_df['content'].values, train_df['sentiment'].values, tokenizer, max_length)\n",
    "test_dataset = MovieReviewDataset(test_df['content'].values, test_df['sentiment'].values, tokenizer, max_length)\n",
    "\n",
    "# 모델 준비\n",
    "model = BertForSequenceClassification.from_pretrained('bert-base-uncased', num_labels=len(set(df['sentiment'])))\n",
    "\n",
    "# 평가를 위한 함수 정의\n",
    "def compute_metrics(pred):\n",
    "    labels = pred.label_ids\n",
    "    preds = pred.predictions.argmax(-1)  # 예측값 중 가장 높은 점수를 가진 클래스로 선택\n",
    "    acc = accuracy_score(labels, preds)  # 정확도 계산\n",
    "    precision, recall, f1, _ = precision_recall_fscore_support(labels, preds, average='weighted')  # 정밀도, 재현율, F1 점수\n",
    "    return {\n",
    "        'accuracy': acc,\n",
    "        'precision': precision,\n",
    "        'recall': recall,\n",
    "        'f1': f1\n",
    "    }\n",
    "\n",
    "# 트레이너 설정\n",
    "training_args = TrainingArguments(\n",
    "    output_dir='./results',\n",
    "    num_train_epochs=5,\n",
    "    per_device_train_batch_size=16,\n",
    "    per_device_eval_batch_size=16,\n",
    "    warmup_steps=500,\n",
    "    weight_decay=0.01,\n",
    "    logging_dir='./logs',\n",
    "    logging_steps=10,\n",
    "    evaluation_strategy='epoch'\n",
    ")\n",
    "\n",
    "trainer = Trainer(\n",
    "    model=model,\n",
    "    args=training_args,\n",
    "    train_dataset=train_dataset,\n",
    "    eval_dataset=test_dataset,\n",
    "    compute_metrics=compute_metrics  # 평가 지표 추가\n",
    ")\n",
    "\n",
    "# 모델 학습\n",
    "trainer.train()\n",
    "\n",
    "# 평가\n",
    "eval_result = trainer.evaluate()\n",
    "\n",
    "# 평가 결과 출력\n",
    "print(f\"Evaluation Results: {eval_result}\")\n",
    "\n",
    "# 정확도만 따로 출력\n",
    "accuracy = eval_result['eval_accuracy']\n",
    "print(f\"Accuracy: {accuracy}\")\n"
   ]
  },
  {
   "cell_type": "markdown",
   "metadata": {
    "id": "Vll0DX9uzOly"
   },
   "source": [
    "### 6. 긍정 / 부정 리뷰의 워드 클라우드 그려보기"
   ]
  },
  {
   "cell_type": "markdown",
   "metadata": {
    "id": "9j9_wMvWlA2W"
   },
   "source": [
    "#### Negative word cloud"
   ]
  },
  {
   "cell_type": "code",
   "execution_count": null,
   "metadata": {
    "colab": {
     "background_save": true
    },
    "id": "o2i1Lb7LzNKf"
   },
   "outputs": [],
   "source": [
    "from wordcloud import WordCloud, STOPWORDS\n",
    "import numpy as np\n",
    "from PIL import Image\n",
    "import matplotlib.pyplot as plt\n",
    "\n",
    "# 텍스트파일 열기\n",
    "text_negative = open('./negative.txt').read()\n",
    "# 마스크 이미지 가져오기\n",
    "alice_mask = np.array(Image.open('./alice_mask.png'))\n",
    "\n",
    "# 불용어 지정\n",
    "stopwords = set(STOPWORDS)\n",
    "stopwords.update(['netflix', 'movie', 'movies', 'show', 'shows', 'watch', 'account', 'time', 'app', 'series', 'phone', 'good','use','now','cant','dont','even'])\n",
    "\n",
    "# 이미지 확인\n",
    "plt.figure(figsize = (8,8))\n",
    "plt.imshow(alice_mask, cmap=plt.cm.gray, interpolation='bilinear')\n",
    "plt.axis('off')\n",
    "plt.show()"
   ]
  },
  {
   "cell_type": "code",
   "execution_count": null,
   "metadata": {
    "id": "-zNs7ITmlF09"
   },
   "outputs": [],
   "source": [
    "# 단어들 설정과 빈도분석\n",
    "wc = WordCloud(background_color = 'white', max_words = 500, mask = alice_mask, stopwords=stopwords)\n",
    "wc = wc.generate(text_negative)\n",
    "\n",
    "# 워드클라우드생성\n",
    "plt.figure(figsize=(12, 12))\n",
    "plt.imshow(wc, interpolation='bilinear')\n",
    "plt.title('Negative Reviews Word Cloud', size=20)\n",
    "plt.axis('off')\n",
    "plt.show()"
   ]
  },
  {
   "cell_type": "markdown",
   "metadata": {
    "id": "6Bn4oUs7lJU1"
   },
   "source": [
    "#### Positive word cloud"
   ]
  },
  {
   "cell_type": "code",
   "execution_count": null,
   "metadata": {
    "id": "U2hLqC2xlMHV"
   },
   "outputs": [],
   "source": [
    "# 텍스트파일 열기\n",
    "text_positive = open('./positive.txt').read()\n",
    "# 마스크 이미지 가져오기\n",
    "alice_mask = np.array(Image.open('./alice_mask.png'))\n",
    "\n",
    "# 불용어 지정\n",
    "stopwords = set(STOPWORDS)\n",
    "stopwords.update(['netflix', 'movie', 'movies', 'show', 'shows', 'watch', 'account', 'time', 'app', 'series', 'phone','use','now','problem','cant','dont','even'])\n",
    "\n",
    "# 이미지 확인\n",
    "plt.figure(figsize = (8,8))\n",
    "plt.imshow(alice_mask, cmap=plt.cm.gray, interpolation='bilinear')\n",
    "plt.axis('off')\n",
    "plt.show()"
   ]
  },
  {
   "cell_type": "code",
   "execution_count": null,
   "metadata": {
    "id": "jjzsRD9ClOX0"
   },
   "outputs": [],
   "source": [
    "# 단어들 설정과 빈도분석\n",
    "wc = WordCloud(background_color = 'white', max_words = 500, mask = alice_mask, stopwords=stopwords)\n",
    "wc = wc.generate(text_positive)\n",
    "\n",
    "# 워드클라우드생성\n",
    "plt.figure(figsize=(12, 12))\n",
    "plt.imshow(wc, interpolation='bilinear')\n",
    "plt.title('Positive Reviews Word Cloud', size=20)\n",
    "plt.axis('off')\n",
    "plt.show()"
   ]
  },
  {
   "cell_type": "code",
   "execution_count": null,
   "metadata": {},
   "outputs": [],
   "source": [
    "conda import nl"
   ]
  }
 ],
 "metadata": {
  "accelerator": "GPU",
  "colab": {
   "gpuType": "A100",
   "machine_shape": "hm",
   "provenance": []
  },
  "kernelspec": {
   "display_name": "Python (dl_test)",
   "language": "python",
   "name": "dl_test"
  },
  "language_info": {
   "codemirror_mode": {
    "name": "ipython",
    "version": 3
   },
   "file_extension": ".py",
   "mimetype": "text/x-python",
   "name": "python",
   "nbconvert_exporter": "python",
   "pygments_lexer": "ipython3",
   "version": "3.12.7"
  }
 },
 "nbformat": 4,
 "nbformat_minor": 4
}
=======
  "nbformat": 4,
  "nbformat_minor": 0
}
>>>>>>> a51c56648f94254c54b9ec83c4d11f40548caaf9
