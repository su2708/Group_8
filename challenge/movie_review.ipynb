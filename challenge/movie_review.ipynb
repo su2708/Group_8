{
  "cells": [
    {
      "cell_type": "markdown",
      "metadata": {
        "id": "LwAqX71jwvuB"
      },
      "source": [
        "# 영화 리뷰 감성 분석"
      ]
    },
    {
      "cell_type": "markdown",
      "metadata": {
        "id": "jj5LWBzkxXgj"
      },
      "source": [
        "## 필수과제"
      ]
    },
    {
      "cell_type": "markdown",
      "metadata": {
        "id": "x7dzFLpXxZV-"
      },
      "source": [
        "### 1. 데이터셋 불러오기"
      ]
    },
    {
      "cell_type": "code",
      "execution_count": 1,
      "metadata": {
        "id": "iXHlQDfkA3ro"
      },
      "outputs": [],
      "source": [
        "import pandas as pd\n",
        "\n",
        "df = pd.read_csv('./netflix_reviews.csv')"
      ]
    },
    {
      "cell_type": "code",
      "execution_count": 2,
      "metadata": {
        "colab": {
          "base_uri": "https://localhost:8080/",
          "height": 293
        },
        "collapsed": true,
        "id": "whVH37t2A0Rj",
        "jupyter": {
          "outputs_hidden": true
        },
        "outputId": "be613ae5-191b-41ae-c83c-f9e52c74c9c5"
      },
      "outputs": [
        {
          "data": {
            "text/html": [
              "<div>\n",
              "<style scoped>\n",
              "    .dataframe tbody tr th:only-of-type {\n",
              "        vertical-align: middle;\n",
              "    }\n",
              "\n",
              "    .dataframe tbody tr th {\n",
              "        vertical-align: top;\n",
              "    }\n",
              "\n",
              "    .dataframe thead th {\n",
              "        text-align: right;\n",
              "    }\n",
              "</style>\n",
              "<table border=\"1\" class=\"dataframe\">\n",
              "  <thead>\n",
              "    <tr style=\"text-align: right;\">\n",
              "      <th></th>\n",
              "      <th>reviewId</th>\n",
              "      <th>userName</th>\n",
              "      <th>content</th>\n",
              "      <th>score</th>\n",
              "      <th>thumbsUpCount</th>\n",
              "      <th>reviewCreatedVersion</th>\n",
              "      <th>at</th>\n",
              "      <th>appVersion</th>\n",
              "    </tr>\n",
              "  </thead>\n",
              "  <tbody>\n",
              "    <tr>\n",
              "      <th>0</th>\n",
              "      <td>09ed2c3a-a4ca-4241-a01c-e7543943ee05</td>\n",
              "      <td>reyes Cruz</td>\n",
              "      <td>Very good experience. Great customer service.</td>\n",
              "      <td>5</td>\n",
              "      <td>0</td>\n",
              "      <td>7.89.0 build 18 35322</td>\n",
              "      <td>2024-10-20 14:10:34</td>\n",
              "      <td>7.89.0 build 18 35322</td>\n",
              "    </tr>\n",
              "    <tr>\n",
              "      <th>1</th>\n",
              "      <td>b2d324ff-0005-45c4-accf-dc983124400d</td>\n",
              "      <td>NISITH DISSANAYAKE (Widenn Gamer)</td>\n",
              "      <td>Bro I was watching w cartoon then this error c...</td>\n",
              "      <td>1</td>\n",
              "      <td>0</td>\n",
              "      <td>8.136.0 build 3 50908</td>\n",
              "      <td>2024-10-20 14:10:25</td>\n",
              "      <td>8.136.0 build 3 50908</td>\n",
              "    </tr>\n",
              "    <tr>\n",
              "      <th>2</th>\n",
              "      <td>2d619b1e-aca3-4807-b77f-c9446a606ddf</td>\n",
              "      <td>Evelyn Okoro</td>\n",
              "      <td>Desent</td>\n",
              "      <td>5</td>\n",
              "      <td>0</td>\n",
              "      <td>NaN</td>\n",
              "      <td>2024-10-20 14:06:08</td>\n",
              "      <td>NaN</td>\n",
              "    </tr>\n",
              "    <tr>\n",
              "      <th>3</th>\n",
              "      <td>03cc29b9-a49a-4e26-885a-d1652bb669be</td>\n",
              "      <td>Yogesh Bhatta</td>\n",
              "      <td>THIS IS SCAM COMPANY.. THEY JUST LOOT PEOPLE M...</td>\n",
              "      <td>1</td>\n",
              "      <td>0</td>\n",
              "      <td>7.98.0 build 7 35414</td>\n",
              "      <td>2024-10-20 14:02:13</td>\n",
              "      <td>7.98.0 build 7 35414</td>\n",
              "    </tr>\n",
              "    <tr>\n",
              "      <th>4</th>\n",
              "      <td>c1b98dcf-0b75-4952-b9ac-6165381f41cf</td>\n",
              "      <td>P3L0NAZ0</td>\n",
              "      <td>Stopped opening. I've uninstalled and reinstal...</td>\n",
              "      <td>1</td>\n",
              "      <td>0</td>\n",
              "      <td>8.136.0 build 3 50908</td>\n",
              "      <td>2024-10-20 14:01:12</td>\n",
              "      <td>8.136.0 build 3 50908</td>\n",
              "    </tr>\n",
              "  </tbody>\n",
              "</table>\n",
              "</div>"
            ],
            "text/plain": [
              "                               reviewId                           userName  \\\n",
              "0  09ed2c3a-a4ca-4241-a01c-e7543943ee05                         reyes Cruz   \n",
              "1  b2d324ff-0005-45c4-accf-dc983124400d  NISITH DISSANAYAKE (Widenn Gamer)   \n",
              "2  2d619b1e-aca3-4807-b77f-c9446a606ddf                       Evelyn Okoro   \n",
              "3  03cc29b9-a49a-4e26-885a-d1652bb669be                      Yogesh Bhatta   \n",
              "4  c1b98dcf-0b75-4952-b9ac-6165381f41cf                           P3L0NAZ0   \n",
              "\n",
              "                                             content  score  thumbsUpCount  \\\n",
              "0      Very good experience. Great customer service.      5              0   \n",
              "1  Bro I was watching w cartoon then this error c...      1              0   \n",
              "2                                             Desent      5              0   \n",
              "3  THIS IS SCAM COMPANY.. THEY JUST LOOT PEOPLE M...      1              0   \n",
              "4  Stopped opening. I've uninstalled and reinstal...      1              0   \n",
              "\n",
              "    reviewCreatedVersion                   at             appVersion  \n",
              "0  7.89.0 build 18 35322  2024-10-20 14:10:34  7.89.0 build 18 35322  \n",
              "1  8.136.0 build 3 50908  2024-10-20 14:10:25  8.136.0 build 3 50908  \n",
              "2                    NaN  2024-10-20 14:06:08                    NaN  \n",
              "3   7.98.0 build 7 35414  2024-10-20 14:02:13   7.98.0 build 7 35414  \n",
              "4  8.136.0 build 3 50908  2024-10-20 14:01:12  8.136.0 build 3 50908  "
            ]
          },
          "execution_count": 2,
          "metadata": {},
          "output_type": "execute_result"
        }
      ],
      "source": [
        "df.head()"
      ]
    },
    {
      "cell_type": "code",
      "execution_count": 3,
      "metadata": {
        "colab": {
          "base_uri": "https://localhost:8080/",
          "height": 293
        },
        "id": "B0JZUIJSBezE",
        "outputId": "2d7a43a8-45be-4ea5-d8ca-3b6bda2cc319"
      },
      "outputs": [
        {
          "data": {
            "text/html": [
              "<div>\n",
              "<style scoped>\n",
              "    .dataframe tbody tr th:only-of-type {\n",
              "        vertical-align: middle;\n",
              "    }\n",
              "\n",
              "    .dataframe tbody tr th {\n",
              "        vertical-align: top;\n",
              "    }\n",
              "\n",
              "    .dataframe thead th {\n",
              "        text-align: right;\n",
              "    }\n",
              "</style>\n",
              "<table border=\"1\" class=\"dataframe\">\n",
              "  <thead>\n",
              "    <tr style=\"text-align: right;\">\n",
              "      <th></th>\n",
              "      <th>reviewId</th>\n",
              "      <th>userName</th>\n",
              "      <th>content</th>\n",
              "      <th>score</th>\n",
              "      <th>thumbsUpCount</th>\n",
              "      <th>reviewCreatedVersion</th>\n",
              "      <th>at</th>\n",
              "      <th>appVersion</th>\n",
              "    </tr>\n",
              "  </thead>\n",
              "  <tbody>\n",
              "    <tr>\n",
              "      <th>117035</th>\n",
              "      <td>a760ead9-e7aa-4ed1-a651-5c37c3600dac</td>\n",
              "      <td>A Google user</td>\n",
              "      <td>i really like it! there are so many movies and...</td>\n",
              "      <td>5</td>\n",
              "      <td>0</td>\n",
              "      <td>NaN</td>\n",
              "      <td>2019-08-03 15:06:03</td>\n",
              "      <td>NaN</td>\n",
              "    </tr>\n",
              "    <tr>\n",
              "      <th>117036</th>\n",
              "      <td>4957f9e7-d7f4-4a52-9764-031cebcac83f</td>\n",
              "      <td>Captain Jeoy</td>\n",
              "      <td>I love Netflix. I always enjoy my time using it.</td>\n",
              "      <td>5</td>\n",
              "      <td>0</td>\n",
              "      <td>8.34.0 build 4 50250</td>\n",
              "      <td>2022-08-15 16:16:30</td>\n",
              "      <td>8.34.0 build 4 50250</td>\n",
              "    </tr>\n",
              "    <tr>\n",
              "      <th>117037</th>\n",
              "      <td>9acf7586-7abf-4b50-8c50-3ede3b2a42c4</td>\n",
              "      <td>Suryansh</td>\n",
              "      <td>Sound quality is very slow of movies</td>\n",
              "      <td>1</td>\n",
              "      <td>0</td>\n",
              "      <td>NaN</td>\n",
              "      <td>2020-08-17 07:26:58</td>\n",
              "      <td>NaN</td>\n",
              "    </tr>\n",
              "    <tr>\n",
              "      <th>117038</th>\n",
              "      <td>32870f7f-c461-4256-b602-75244ca60248</td>\n",
              "      <td>A Google user</td>\n",
              "      <td>Rate is very expensive.. bcos we see netflix s...</td>\n",
              "      <td>1</td>\n",
              "      <td>0</td>\n",
              "      <td>7.17.0 build 13 34346</td>\n",
              "      <td>2019-07-21 09:41:42</td>\n",
              "      <td>7.17.0 build 13 34346</td>\n",
              "    </tr>\n",
              "    <tr>\n",
              "      <th>117039</th>\n",
              "      <td>dc1352e9-10a8-41ca-ab23-05d045b08e90</td>\n",
              "      <td>suraj soni</td>\n",
              "      <td>this app is awesome for english movies ,series...</td>\n",
              "      <td>4</td>\n",
              "      <td>0</td>\n",
              "      <td>NaN</td>\n",
              "      <td>2020-05-24 11:04:08</td>\n",
              "      <td>NaN</td>\n",
              "    </tr>\n",
              "  </tbody>\n",
              "</table>\n",
              "</div>"
            ],
            "text/plain": [
              "                                    reviewId       userName  \\\n",
              "117035  a760ead9-e7aa-4ed1-a651-5c37c3600dac  A Google user   \n",
              "117036  4957f9e7-d7f4-4a52-9764-031cebcac83f   Captain Jeoy   \n",
              "117037  9acf7586-7abf-4b50-8c50-3ede3b2a42c4       Suryansh   \n",
              "117038  32870f7f-c461-4256-b602-75244ca60248  A Google user   \n",
              "117039  dc1352e9-10a8-41ca-ab23-05d045b08e90     suraj soni   \n",
              "\n",
              "                                                  content  score  \\\n",
              "117035  i really like it! there are so many movies and...      5   \n",
              "117036   I love Netflix. I always enjoy my time using it.      5   \n",
              "117037               Sound quality is very slow of movies      1   \n",
              "117038  Rate is very expensive.. bcos we see netflix s...      1   \n",
              "117039  this app is awesome for english movies ,series...      4   \n",
              "\n",
              "        thumbsUpCount   reviewCreatedVersion                   at  \\\n",
              "117035              0                    NaN  2019-08-03 15:06:03   \n",
              "117036              0   8.34.0 build 4 50250  2022-08-15 16:16:30   \n",
              "117037              0                    NaN  2020-08-17 07:26:58   \n",
              "117038              0  7.17.0 build 13 34346  2019-07-21 09:41:42   \n",
              "117039              0                    NaN  2020-05-24 11:04:08   \n",
              "\n",
              "                   appVersion  \n",
              "117035                    NaN  \n",
              "117036   8.34.0 build 4 50250  \n",
              "117037                    NaN  \n",
              "117038  7.17.0 build 13 34346  \n",
              "117039                    NaN  "
            ]
          },
          "execution_count": 3,
          "metadata": {},
          "output_type": "execute_result"
        }
      ],
      "source": [
        "df.tail()"
      ]
    },
    {
      "cell_type": "code",
      "execution_count": 4,
      "metadata": {
        "colab": {
          "base_uri": "https://localhost:8080/"
        },
        "id": "8iree8aKBhSr",
        "outputId": "fad4cfc0-08f9-45b1-9534-a106499abee5"
      },
      "outputs": [
        {
          "name": "stdout",
          "output_type": "stream",
          "text": [
            "Shape of the dataset: (117040, 8)\n",
            "Columns in the dataset: Index(['reviewId', 'userName', 'content', 'score', 'thumbsUpCount',\n",
            "       'reviewCreatedVersion', 'at', 'appVersion'],\n",
            "      dtype='object')\n"
          ]
        }
      ],
      "source": [
        "print(f'Shape of the dataset: {df.shape}')\n",
        "print(f'Columns in the dataset: {df.columns}')"
      ]
    },
    {
      "cell_type": "markdown",
      "metadata": {
        "id": "1Oqnil4VxfYf"
      },
      "source": [
        "### 2. 데이터 전처리"
      ]
    },
    {
      "cell_type": "code",
      "execution_count": 5,
      "metadata": {
        "colab": {
          "base_uri": "https://localhost:8080/"
        },
        "id": "0SdCh2hFBl_j",
        "outputId": "faf2e45a-966e-4d0a-d81a-105d54a8cac0"
      },
      "outputs": [
        {
          "name": "stderr",
          "output_type": "stream",
          "text": [
            "[nltk_data] Downloading package stopwords to\n",
            "[nltk_data]     C:\\Users\\USER\\AppData\\Roaming\\nltk_data...\n",
            "[nltk_data]   Package stopwords is already up-to-date!\n"
          ]
        }
      ],
      "source": [
        "import re  # 정규 표현식을 사용하기 위함\n",
        "import nltk  # natural language toolkit\n",
        "from nltk.corpus import stopwords\n",
        "from nltk.tokenize import word_tokenize\n",
        "nltk.download('stopwords')\n",
        "\n",
        "# 전처리 함수\n",
        "def preprocess_text(text):\n",
        "    if isinstance(text, float):\n",
        "        return \"\"\n",
        "    text = text.lower()  # 대문자를 소문자로\n",
        "    text = text.strip()  # 띄어쓰기 제외하고 빈 칸 제거\n",
        "    pattern = r'[^a-zA-Z가-힣]'\n",
        "    text = re.sub(r'[^a-zA-Z\\s.!?,]', '', text)  # 알파벳, 공백, 그리고 일부 구두점만 유지\n",
        "    return text\n",
        "\n",
        "# 불필요한 열 제거\n",
        "df = df[['content', 'score']]\n",
        "\n",
        "# 리뷰 텍스트 정제\n",
        "df['content'] = df['content'].apply(preprocess_text)\n",
        "\n",
        "# 불용어 제거\n",
        "stop_words = set(stopwords.words('english'))\n",
        "def remove_stopwords(text):\n",
        "    words = text.split()\n",
        "    words = [word for word in words if word not in stop_words]\n",
        "    return ' '.join(words)\n",
        "\n",
        "df['content'] = df['content'].apply(remove_stopwords)"
      ]
    },
    {
      "cell_type": "code",
      "execution_count": 6,
      "metadata": {
        "colab": {
          "base_uri": "https://localhost:8080/",
          "height": 676
        },
        "id": "zA6reR4DhMxJ",
        "outputId": "ecf531c8-94b2-4837-da76-23e43de2765e"
      },
      "outputs": [
        {
          "data": {
            "text/html": [
              "<div>\n",
              "<style scoped>\n",
              "    .dataframe tbody tr th:only-of-type {\n",
              "        vertical-align: middle;\n",
              "    }\n",
              "\n",
              "    .dataframe tbody tr th {\n",
              "        vertical-align: top;\n",
              "    }\n",
              "\n",
              "    .dataframe thead th {\n",
              "        text-align: right;\n",
              "    }\n",
              "</style>\n",
              "<table border=\"1\" class=\"dataframe\">\n",
              "  <thead>\n",
              "    <tr style=\"text-align: right;\">\n",
              "      <th></th>\n",
              "      <th>content</th>\n",
              "      <th>score</th>\n",
              "    </tr>\n",
              "  </thead>\n",
              "  <tbody>\n",
              "    <tr>\n",
              "      <th>0</th>\n",
              "      <td>good experience. great customer service.</td>\n",
              "      <td>5</td>\n",
              "    </tr>\n",
              "    <tr>\n",
              "      <th>1</th>\n",
              "      <td>bro watching w cartoon error came next season ...</td>\n",
              "      <td>1</td>\n",
              "    </tr>\n",
              "    <tr>\n",
              "      <th>2</th>\n",
              "      <td>desent</td>\n",
              "      <td>5</td>\n",
              "    </tr>\n",
              "    <tr>\n",
              "      <th>3</th>\n",
              "      <td>scam company.. loot people money name giftcard...</td>\n",
              "      <td>1</td>\n",
              "    </tr>\n",
              "    <tr>\n",
              "      <th>4</th>\n",
              "      <td>stopped opening. ive uninstalled reinstalled s...</td>\n",
              "      <td>1</td>\n",
              "    </tr>\n",
              "    <tr>\n",
              "      <th>5</th>\n",
              "      <td>phone cant watch netflix. stupid app</td>\n",
              "      <td>1</td>\n",
              "    </tr>\n",
              "    <tr>\n",
              "      <th>6</th>\n",
              "      <td></td>\n",
              "      <td>1</td>\n",
              "    </tr>\n",
              "    <tr>\n",
              "      <th>7</th>\n",
              "      <td>beban q</td>\n",
              "      <td>1</td>\n",
              "    </tr>\n",
              "    <tr>\n",
              "      <th>8</th>\n",
              "      <td>z</td>\n",
              "      <td>5</td>\n",
              "    </tr>\n",
              "    <tr>\n",
              "      <th>9</th>\n",
              "      <td>progress often saved, takes away core function...</td>\n",
              "      <td>1</td>\n",
              "    </tr>\n",
              "    <tr>\n",
              "      <th>10</th>\n",
              "      <td>minds shaped,your opinions molded men manipula...</td>\n",
              "      <td>1</td>\n",
              "    </tr>\n",
              "    <tr>\n",
              "      <th>11</th>\n",
              "      <td>paying subscription still getting english hind...</td>\n",
              "      <td>1</td>\n",
              "    </tr>\n",
              "    <tr>\n",
              "      <th>12</th>\n",
              "      <td></td>\n",
              "      <td>4</td>\n",
              "    </tr>\n",
              "    <tr>\n",
              "      <th>13</th>\n",
              "      <td>streaming services worse every day. minutes lo...</td>\n",
              "      <td>1</td>\n",
              "    </tr>\n",
              "    <tr>\n",
              "      <th>14</th>\n",
              "      <td>add kannadda</td>\n",
              "      <td>1</td>\n",
              "    </tr>\n",
              "    <tr>\n",
              "      <th>15</th>\n",
              "      <td>sorry oh brother saw good offer ebay dad lowli...</td>\n",
              "      <td>5</td>\n",
              "    </tr>\n",
              "    <tr>\n",
              "      <th>16</th>\n",
              "      <td>get new account</td>\n",
              "      <td>5</td>\n",
              "    </tr>\n",
              "    <tr>\n",
              "      <th>17</th>\n",
              "      <td>always hang</td>\n",
              "      <td>1</td>\n",
              "    </tr>\n",
              "    <tr>\n",
              "      <th>18</th>\n",
              "      <td>nice option always hand</td>\n",
              "      <td>5</td>\n",
              "    </tr>\n",
              "    <tr>\n",
              "      <th>19</th>\n",
              "      <td>uninstalling due persistent buffering issues. ...</td>\n",
              "      <td>1</td>\n",
              "    </tr>\n",
              "  </tbody>\n",
              "</table>\n",
              "</div>"
            ],
            "text/plain": [
              "                                              content  score\n",
              "0            good experience. great customer service.      5\n",
              "1   bro watching w cartoon error came next season ...      1\n",
              "2                                              desent      5\n",
              "3   scam company.. loot people money name giftcard...      1\n",
              "4   stopped opening. ive uninstalled reinstalled s...      1\n",
              "5                phone cant watch netflix. stupid app      1\n",
              "6                                                          1\n",
              "7                                             beban q      1\n",
              "8                                                   z      5\n",
              "9   progress often saved, takes away core function...      1\n",
              "10  minds shaped,your opinions molded men manipula...      1\n",
              "11  paying subscription still getting english hind...      1\n",
              "12                                                         4\n",
              "13  streaming services worse every day. minutes lo...      1\n",
              "14                                       add kannadda      1\n",
              "15  sorry oh brother saw good offer ebay dad lowli...      5\n",
              "16                                    get new account      5\n",
              "17                                        always hang      1\n",
              "18                            nice option always hand      5\n",
              "19  uninstalling due persistent buffering issues. ...      1"
            ]
          },
          "execution_count": 6,
          "metadata": {},
          "output_type": "execute_result"
        }
      ],
      "source": [
        "df.head(20)"
      ]
    },
    {
      "cell_type": "markdown",
      "metadata": {
        "id": "BdaI8Y59xmwf"
      },
      "source": [
        "### 3. feature 분석 (EDA)"
      ]
    },
    {
      "cell_type": "code",
      "execution_count": 7,
      "metadata": {
        "colab": {
          "base_uri": "https://localhost:8080/",
          "height": 472
        },
        "id": "uBxRZoTyDBKT",
        "outputId": "9f1554e6-3933-4f39-ea27-d1e0c5e74a73"
      },
      "outputs": [
        {
          "data": {
            "image/png": "[encoded data removed]",
            "text/plain": [
              "<Figure size 640x480 with 1 Axes>"
            ]
          },
          "metadata": {},
          "output_type": "display_data"
        }
      ],
      "source": [
        "import seaborn as sns  # 그래프를 그리기 위한 seaborn 라이브러리 임포트 (없으면 설치 바랍니다)\n",
        "import matplotlib.pyplot as plt  # 그래프 표시를 위한 pyplot 임포트\n",
        "\n",
        "sns.countplot(x='score', data=df, hue='score', palette='Set1', legend=False)\n",
        "plt.xlabel('Score')\n",
        "plt.ylabel('Count')\n",
        "plt.title('Distribution of Scores')\n",
        "plt.show()"
      ]
    },
    {
      "cell_type": "markdown",
      "metadata": {
        "id": "RIb3tseZxtqV"
      },
      "source": [
        "### 4. 리뷰 예측 모델 학습시키기 (LSTM)\n"
      ]
    },
    {
      "cell_type": "code",
      "execution_count": 33,
      "metadata": {
        "collapsed": true,
        "id": "meBQlWPKylH-",
        "jupyter": {
          "outputs_hidden": true
        }
      },
      "outputs": [],
      "source": [
        "import pandas as pd\n",
        "import torch\n",
        "import torch.nn as nn\n",
        "import torch.optim as optim\n",
        "import numpy as np\n",
        "from torch.utils.data import DataLoader, Dataset\n",
        "from torch.nn.utils.rnn import pad_sequence\n",
        "from torchtext.data.utils import get_tokenizer\n",
        "from torchtext.vocab import build_vocab_from_iterator\n",
        "from sklearn.model_selection import train_test_split\n",
        "from sklearn.preprocessing import LabelEncoder\n",
        "from collections import Counter\n",
        "import nltk"
      ]
    },
    {
      "cell_type": "code",
      "execution_count": 34,
      "metadata": {
        "colab": {
          "base_uri": "https://localhost:8080/"
        },
        "id": "LbSYP7T8liYs",
        "outputId": "ad8457a0-aea5-4758-d237-9877c4cd90c5"
      },
      "outputs": [
        {
          "name": "stderr",
          "output_type": "stream",
          "text": [
            "[nltk_data] Downloading package punkt to /root/nltk_data...\n",
            "[nltk_data]   Package punkt is already up-to-date!\n"
          ]
        },
        {
          "data": {
            "text/plain": [
              "True"
            ]
          },
          "execution_count": 34,
          "metadata": {},
          "output_type": "execute_result"
        }
      ],
      "source": [
        "nltk.download('punkt')"
      ]
    },
    {
      "cell_type": "code",
      "execution_count": 35,
      "metadata": {
        "id": "CT_sTE44lkAa"
      },
      "outputs": [],
      "source": [
        "# 데이터 준비 (리뷰와 평점 컬럼을 추출)\n",
        "reviews = df['content']\n",
        "ratings = df['score']"
      ]
    },
    {
      "cell_type": "code",
      "execution_count": 36,
      "metadata": {
        "id": "ftOoi5OJlveH"
      },
      "outputs": [],
      "source": [
        "# 단어 사전 구축 함수 정의 (리뷰 텍스트를 토큰화하고 사전 생성)\n",
        "def build_vocab(reviews):\n",
        "    tokenized_reviews = [word_tokenize(review) for review in reviews]\n",
        "    vocab = build_vocab_from_iterator(tokenized_reviews, specials=[\"<pad>\", \"<unk>\"])\n",
        "    vocab.set_default_index(vocab[\"<unk>\"])  # 알 수 없는 단어 처리\n",
        "    return vocab"
      ]
    },
    {
      "cell_type": "code",
      "execution_count": 37,
      "metadata": {
        "id": "9DcSGjWLl6ex"
      },
      "outputs": [],
      "source": [
        "# 데이터셋 클래스 정의 (데이터셋을 커스텀하여 사용하기 위해 클래스 정의)\n",
        "class ReviewDataset(Dataset):\n",
        "    def __init__(self, reviews, ratings, text_pipeline, label_pipeline):\n",
        "        self.reviews = reviews\n",
        "        self.ratings = ratings\n",
        "        self.text_pipeline = text_pipeline\n",
        "        self.label_pipeline = label_pipeline\n",
        "\n",
        "    def __len__(self):\n",
        "        return len(self.reviews)\n",
        "\n",
        "    def __getitem__(self, idx):\n",
        "        review = self.text_pipeline(self.reviews[idx])\n",
        "        rating = self.label_pipeline(self.ratings[idx])\n",
        "        return review, rating"
      ]
    },
    {
      "cell_type": "code",
      "execution_count": 38,
      "metadata": {
        "id": "0-c4J5s1l8sd"
      },
      "outputs": [],
      "source": [
        "# 패딩과 텐서 변환을 위한 collate 함수 정의\n",
        "def collate_fn(batch):\n",
        "    reviews, ratings = zip(*batch)  # 배치에서 리뷰와 레이팅 분리\n",
        "    reviews_padded = pad_sequence(reviews, batch_first=True)  # 리뷰를 패딩\n",
        "    ratings_tensor = torch.tensor(ratings, dtype=torch.long)  # 레이팅을 텐서로 변환\n",
        "    return reviews_padded, ratings_tensor  # 패딩된 리뷰와 레이팅 반환"
      ]
    },
    {
      "cell_type": "code",
      "execution_count": 39,
      "metadata": {
        "id": "GmhNAAFNl-lX"
      },
      "outputs": [],
      "source": [
        "# 텍스트 파이프라인 정의 (텍스트를 토큰화하고 텐서로 변환)\n",
        "def text_pipeline(text):\n",
        "    tokenized = word_tokenize(text)  # 토큰화\n",
        "    return torch.tensor([vocab[token] for token in tokenized], dtype=torch.long)"
      ]
    },
    {
      "cell_type": "code",
      "execution_count": 40,
      "metadata": {
        "id": "_xkoX-SemEw5"
      },
      "outputs": [],
      "source": [
        "# 레이블 파이프라인 클래스 정의 (평점을 수치화하여 모델에 입력)\n",
        "class LabelPipeline:\n",
        "    def __init__(self):\n",
        "        self.label_encoder = LabelEncoder()\n",
        "\n",
        "    def fit(self, labels):\n",
        "        self.label_encoder.fit(labels)\n",
        "\n",
        "    def __call__(self, label):\n",
        "        return self.label_encoder.transform([label])[0]"
      ]
    },
    {
      "cell_type": "code",
      "execution_count": 41,
      "metadata": {
        "id": "gdagimuymG4g"
      },
      "outputs": [],
      "source": [
        "# 레이블 파이프라인 초기화 및 학습\n",
        "label_pipeline = LabelPipeline()\n",
        "label_pipeline.fit(df['score'].values)"
      ]
    },
    {
      "cell_type": "markdown",
      "metadata": {
        "id": "IlY1dVnEke_H"
      },
      "source": [
        "#### LSTM model with ***Adam optimizer and Early stopping***"
      ]
    },
    {
      "cell_type": "code",
      "execution_count": 42,
      "metadata": {
        "id": "tB_WMYO6kTju"
      },
      "outputs": [],
      "source": [
        "# 데이터 분할\n",
        "# 훈련 데이터와 임시 데이터(검증 + 테스트 데이터) 분리(train_test_split 사용)\n",
        "train_reviews, temp_reviews, train_ratings, temp_ratings = train_test_split(reviews, ratings, test_size=0.3, random_state=42)\n",
        "\n",
        "# 임시 데이터를 검증 데이터와 테스트 데이터로 분리(train_test_split 사용)\n",
        "test_reviews, rtest_reviews, test_ratings, rtest_ratings = train_test_split(temp_reviews, temp_ratings, test_size=0.5, random_state=42)\n",
        "\n",
        "# 인덱스 초기화 (데이터 프레임 인덱스 리셋)\n",
        "train_reviews.reset_index(drop=True, inplace=True)\n",
        "train_ratings.reset_index(drop=True, inplace=True)\n",
        "test_reviews.reset_index(drop=True, inplace=True)\n",
        "test_ratings.reset_index(drop=True, inplace=True)\n",
        "rtest_reviews.reset_index(drop=True, inplace=True)\n",
        "rtest_ratings.reset_index(drop=True, inplace=True)\n",
        "\n",
        "# 데이터셋 정의 (훈련 및 테스트 데이터셋 구성)\n",
        "train_dataset = ReviewDataset(train_reviews, train_ratings, text_pipeline, label_pipeline)\n",
        "test_dataset = ReviewDataset(test_reviews, test_ratings, text_pipeline, label_pipeline)\n",
        "rtest_dataset = ReviewDataset(rtest_reviews, rtest_ratings, text_pipeline, label_pipeline)\n",
        "\n",
        "# 단어 사전 생성 (훈련 데이터 리뷰를 기반으로 어휘 사전 구축)\n",
        "vocab = build_vocab(train_reviews)\n",
        "\n",
        "# 데이터 로더 정의 (DataLoader를 통해 배치로 데이터를 로딩)\n",
        "BATCH_SIZE = 64\n",
        "\n",
        "train_dataloader = DataLoader(train_dataset, batch_size=BATCH_SIZE, shuffle=True, collate_fn=collate_fn)\n",
        "test_dataloader = DataLoader(test_dataset, batch_size=BATCH_SIZE, collate_fn=collate_fn)\n",
        "rtest_dataloader = DataLoader(rtest_dataset, batch_size=BATCH_SIZE, collate_fn=collate_fn)"
      ]
    },
    {
      "cell_type": "code",
      "execution_count": 43,
      "metadata": {
        "id": "2iPoUw1E6Jzk"
      },
      "outputs": [],
      "source": [
        "# 모델 정의 (LSTM 모델 구조를 설정하여 시퀀스 처리 수행)\n",
        "class LSTMModel(nn.Module):\n",
        "  def __init__(self, vocab_size, embed_dim, hidden_dim, output_dim):\n",
        "    super(LSTMModel, self).__init__()\n",
        "    self.embedding = nn.Embedding(vocab_size, embed_dim, padding_idx=0)\n",
        "    self.lstm = nn.LSTM(embed_dim, hidden_dim, batch_first=True)\n",
        "    self.fc = nn.Sequential(\n",
        "    nn.Linear(hidden_dim, 128),\n",
        "    nn.ReLU(),\n",
        "    nn.Dropout(0.5),\n",
        "    nn.Linear(128, output_dim)\n",
        ")\n",
        "\n",
        "  # 순전파 정의 (입력 텍스트를 임베딩하고 LSTM과 FC 계층에 통과)\n",
        "  def forward(self, text):\n",
        "    embedded = self.embedding(text)\n",
        "    output, (hidden, cell) = self.lstm(embedded)  # 배치 사이즈에 맞게 차원 추가\n",
        "    return self.fc(hidden[-1].view(hidden.size(1), -1))\n",
        "\n",
        "# 단어 사전 생성 (훈련 데이터 리뷰를 기반으로 어휘 사전 구축)\n",
        "vocab = build_vocab(train_reviews)\n",
        "\n",
        "# 하이퍼파라미터 정의 (어휘 크기, 임베딩 차원, LSTM 은닉 차원 및 출력 차원 설정)\n",
        "VOCAB_SIZE = len(vocab)\n",
        "EMBED_DIM = 64\n",
        "HIDDEN_DIM = 128\n",
        "OUTPUT_DIM = 5  # 예측할 점수 개수\n",
        "\n",
        "# 모델 초기화 (LSTM 모델 인스턴스 생성)\n",
        "model = LSTMModel(VOCAB_SIZE, EMBED_DIM, HIDDEN_DIM, OUTPUT_DIM)\n",
        "\n",
        "# 손실 함수와 옵티마이저 정의 (교차 엔트로피 손실과 Adam 사용, 학습률 0.01로 설정)\n",
        "criterion = nn.CrossEntropyLoss()\n",
        "optimizer = optim.Adam(model.parameters(), lr=0.01)"
      ]
    },
    {
      "cell_type": "code",
      "execution_count": 44,
      "metadata": {
        "colab": {
          "base_uri": "https://localhost:8080/"
        },
        "id": "aGPNPvfL9Xcd",
        "outputId": "5a538905-3d8c-4d86-ab95-a125c8ef937b"
      },
      "outputs": [
        {
          "name": "stdout",
          "output_type": "stream",
          "text": [
            "Epoch [1/10], Train Loss: 1.2433\n",
            "Epoch [1/10], Test Loss: 1.0547\n",
            "Epoch [2/10], Train Loss: 1.0122\n",
            "Epoch [2/10], Test Loss: 1.0071\n",
            "Epoch [3/10], Train Loss: 0.9604\n",
            "Epoch [3/10], Test Loss: 1.0068\n",
            "Epoch [4/10], Train Loss: 0.9299\n",
            "Epoch [4/10], Test Loss: 1.0159\n",
            "Epoch [5/10], Train Loss: 0.9106\n",
            "Epoch [5/10], Test Loss: 1.0085\n",
            "Epoch [6/10], Train Loss: 0.8898\n",
            "Epoch [6/10], Test Loss: 1.0113\n",
            "Early stopping triggered.\n"
          ]
        }
      ],
      "source": [
        "# 조기 종료 함수 정의\n",
        "class EarlyStopping:\n",
        "    def __init__(self, patience=3, verbose=False):\n",
        "        self.patience = patience\n",
        "        self.verbose = verbose\n",
        "        self.best_loss = None\n",
        "        self.counter = 0\n",
        "\n",
        "    def __call__(self, val_loss):\n",
        "        if self.best_loss is None:\n",
        "            self.best_loss = val_loss\n",
        "        elif val_loss < self.best_loss:\n",
        "            self.best_loss = val_loss\n",
        "            self.counter = 0\n",
        "        else:\n",
        "            self.counter += 1\n",
        "            if self.counter >= self.patience:\n",
        "                if self.verbose:\n",
        "                    print(\"Early stopping triggered.\")\n",
        "                return True\n",
        "        return False\n",
        "\n",
        "\n",
        "# 모델 학습 과정 정의 (Early Stopping 추가)\n",
        "def train_model(model, train_dataloader, test_dataloader, optimizer, criterion, epochs=10, patience=1):\n",
        "    model.train()  # 모델을 학습 모드로 전환\n",
        "    early_stopping = EarlyStopping(patience=patience, verbose=True)\n",
        "\n",
        "    for epoch in range(epochs):\n",
        "        total_loss = 0\n",
        "\n",
        "        # 훈련 모드에서의 손실 계산\n",
        "        for batch in train_dataloader:\n",
        "            reviews, ratings = batch  # 배치 데이터\n",
        "            optimizer.zero_grad()  # 옵티마이저 초기화\n",
        "\n",
        "            # 모델의 출력\n",
        "            output = model(reviews)\n",
        "\n",
        "            # 손실 계산 및 역전파\n",
        "            loss = criterion(output, ratings)\n",
        "            loss.backward()  # 그라디언트 계산\n",
        "            optimizer.step()  # 옵티마이저를 통한 파라미터 업데이트\n",
        "\n",
        "            total_loss += loss.item()\n",
        "\n",
        "        avg_train_loss = total_loss / len(train_dataloader)\n",
        "        print(f'Epoch [{epoch+1}/{epochs}], Train Loss: {avg_train_loss:.4f}')\n",
        "\n",
        "        # 테스트 손실 계산\n",
        "        model.eval()  # 모델을 평가 모드로 전환\n",
        "        total_test_loss = 0\n",
        "        with torch.no_grad():\n",
        "            for batch in test_dataloader:\n",
        "                reviews, ratings = batch  # 배치 데이터\n",
        "                output = model(reviews)  # 모델의 출력\n",
        "                test_loss = criterion(output, ratings)  # 테스트 손실 계산\n",
        "                total_test_loss += test_loss.item()\n",
        "\n",
        "        avg_test_loss = total_test_loss / len(test_dataloader)\n",
        "        print(f'Epoch [{epoch+1}/{epochs}], Test Loss: {avg_test_loss:.4f}')\n",
        "\n",
        "        # Early Stopping 체크\n",
        "        if early_stopping(avg_test_loss):\n",
        "            break  # 학습 중단\n",
        "\n",
        "# 모델 학습 (훈련 함수 호출하여 모델 학습)\n",
        "train_model(model, train_dataloader, test_dataloader, optimizer, criterion, epochs=10, patience=3)"
      ]
    },
    {
      "cell_type": "code",
      "execution_count": 45,
      "metadata": {
        "colab": {
          "base_uri": "https://localhost:8080/"
        },
        "id": "FmDFRXR29ayZ",
        "outputId": "fc22224e-f59b-4257-e633-6851baf05850"
      },
      "outputs": [
        {
          "name": "stdout",
          "output_type": "stream",
          "text": [
            "Accuracy: 0.6386\n"
          ]
        }
      ],
      "source": [
        "# 모델 평가 함수\n",
        "def evaluate(model, loader):\n",
        "    model.eval()\n",
        "    correct = 0\n",
        "    total = 0\n",
        "    with torch.no_grad():\n",
        "        for reviews, labels in loader:\n",
        "            outputs = model(reviews)\n",
        "            _, predicted = torch.max(outputs, 1)\n",
        "            total += labels.size(0)\n",
        "            correct += (predicted == labels).sum().item()\n",
        "    return correct / total\n",
        "\n",
        "# 모델 평가\n",
        "accuracy = evaluate(model, rtest_dataloader)\n",
        "print(f'Accuracy: {accuracy:.4f}')"
      ]
    },
    {
      "cell_type": "markdown",
      "metadata": {
        "id": "0xcHmdTsy-NJ"
      },
      "source": [
        "## 추가 선택 과제"
      ]
    },
    {
      "cell_type": "markdown",
      "metadata": {
        "id": "r5dFsatDzEqM"
      },
      "source": [
        "### 5. NLP 이용해보기"
      ]
    },
    {
      "cell_type": "markdown",
      "metadata": {
        "id": "OtLJo1lMl93y"
      },
      "source": [
        "#### BERT model"
      ]
    },
    {
      "cell_type": "code",
      "execution_count": null,
      "metadata": {
        "colab": {
          "background_save": true
        },
        "id": "sYs12_6lzSka"
      },
      "outputs": [],
      "source": [
        "import torch\n",
        "import torch.nn as nn\n",
        "import torch.optim as optim\n",
        "from torch.utils.data import Dataset, DataLoader\n",
        "from sklearn.preprocessing import LabelEncoder\n",
        "from nltk.tokenize import word_tokenize\n",
        "from collections import Counter\n",
        "import nltk\n",
        "import numpy as np\n",
        "nltk.download('punkt')"
      ]
    },
    {
      "cell_type": "code",
      "execution_count": null,
      "metadata": {
        "id": "i5dl2YTtmChG"
      },
      "outputs": [],
      "source": [
        "class TextPipeline:\n",
        "    def __init__(self):\n",
        "        self.vocab = {}\n",
        "\n",
        "    def fit(self, texts):\n",
        "        word_counts = Counter()\n",
        "        for text in texts:\n",
        "            words = word_tokenize(text)\n",
        "            word_counts.update(words)\n",
        "        self.vocab = {word: idx for idx, (word, _) in enumerate(word_counts.items(), 1)}  # 1부터 시작\n",
        "\n",
        "    def __call__(self, text):\n",
        "        words = word_tokenize(text)\n",
        "        return [self.vocab.get(word, 0) for word in words]  # 사전에 없는 단어는 0으로 처리"
      ]
    },
    {
      "cell_type": "code",
      "execution_count": null,
      "metadata": {
        "id": "l7b4NbvGmFDb"
      },
      "outputs": [],
      "source": [
        "class LabelPipeline:\n",
        "    def __init__(self):\n",
        "        self.label_encoder = LabelEncoder()\n",
        "\n",
        "    def fit(self, labels):\n",
        "        self.label_encoder.fit(labels)\n",
        "\n",
        "    def __call__(self, label):\n",
        "        return self.label_encoder.transform([label])[0]"
      ]
    },
    {
      "cell_type": "code",
      "execution_count": null,
      "metadata": {
        "id": "oqZI0h5smH5D"
      },
      "outputs": [],
      "source": [
        "class ReviewDataset(Dataset):\n",
        "    def __init__(self, reviews, ratings, text_pipeline, label_pipeline):\n",
        "        self.reviews = reviews\n",
        "        self.ratings = ratings\n",
        "        self.text_pipeline = text_pipeline\n",
        "        self.label_pipeline = label_pipeline\n",
        "\n",
        "    def __len__(self):\n",
        "        return len(self.reviews)\n",
        "\n",
        "    def __getitem__(self, idx):\n",
        "        review = self.text_pipeline(self.reviews[idx])\n",
        "        rating = self.label_pipeline(self.ratings[idx])\n",
        "        return torch.tensor(review, dtype=torch.long), torch.tensor(rating, dtype=torch.long)"
      ]
    },
    {
      "cell_type": "code",
      "execution_count": null,
      "metadata": {
        "id": "zs2HLminmKIH"
      },
      "outputs": [],
      "source": [
        "# 'content' 열이 문자열 형식인지 확인하고 변환\n",
        "df['content'] = df['content'].astype(str)"
      ]
    },
    {
      "cell_type": "code",
      "execution_count": null,
      "metadata": {
        "id": "K7XLe7eJmK8d"
      },
      "outputs": [],
      "source": [
        "print(df.columns)"
      ]
    },
    {
      "cell_type": "code",
      "execution_count": null,
      "metadata": {
        "id": "oM5BrvQCmNLN"
      },
      "outputs": [],
      "source": [
        "# 텍스트 파이프라인 인스턴스 생성 및 학습\n",
        "text_pipeline = TextPipeline()\n",
        "text_pipeline.fit(df['content'].values)\n",
        "\n",
        "# 레이블 파이프라인 인스턴스 생성 및 학습\n",
        "label_pipeline = LabelPipeline()\n",
        "label_pipeline.fit(df['score'].values)\n",
        "\n",
        "# 훈련 및 테스트 데이터를 설정\n",
        "train_reviews = df['content'][:800].values  # 첫 800개는 훈련 데이터로\n",
        "train_ratings = df['score'][:800].values\n",
        "test_reviews = df['content'][800:].values   # 나머지는 테스트 데이터로\n",
        "test_ratings = df['score'][800:].values\n",
        "\n",
        "# 데이터셋 생성\n",
        "train_dataset = ReviewDataset(train_reviews, train_ratings, text_pipeline, label_pipeline)\n",
        "test_dataset = ReviewDataset(test_reviews, test_ratings, text_pipeline, label_pipeline)\n",
        "\n",
        "# DataLoader 생성\n",
        "train_loader = DataLoader(train_dataset, batch_size=32, shuffle=True)\n",
        "test_loader = DataLoader(test_dataset, batch_size=32)"
      ]
    },
    {
      "cell_type": "code",
      "execution_count": null,
      "metadata": {
        "id": "bcQFnSnOmPh2"
      },
      "outputs": [],
      "source": [
        "class SentimentLSTM(nn.Module):\n",
        "    def __init__(self, vocab_size, embed_size, hidden_size, output_size, num_layers=1):\n",
        "        super(SentimentLSTM, self).__init__()\n",
        "        self.embedding = nn.Embedding(vocab_size, embed_size)\n",
        "        self.lstm = nn.LSTM(embed_size, hidden_size, num_layers, batch_first=True)\n",
        "        self.fc = nn.Linear(hidden_size, output_size)\n",
        "\n",
        "    def forward(self, x):\n",
        "        embeds = self.embedding(x)\n",
        "        lstm_out, _ = self.lstm(embeds)\n",
        "        out = self.fc(lstm_out[:, -1, :])  # 마지막 타임스텝 출력\n",
        "        return out\n"
      ]
    },
    {
      "cell_type": "code",
      "execution_count": null,
      "metadata": {
        "id": "FcNpWhdjmRz4"
      },
      "outputs": [],
      "source": [
        "def train(model, loader, criterion, optimizer, num_epochs=5):\n",
        "    model.train()\n",
        "    for epoch in range(num_epochs):\n",
        "        total_loss = 0\n",
        "        for reviews, labels in loader:\n",
        "            optimizer.zero_grad()\n",
        "            outputs = model(reviews)\n",
        "            loss = criterion(outputs, labels)\n",
        "            loss.backward()\n",
        "            optimizer.step()\n",
        "            total_loss += loss.item()\n",
        "        print(f'Epoch {epoch+1}/{num_epochs}, Loss: {total_loss/len(loader):.4f}')\n",
        "\n",
        "def evaluate(model, loader):\n",
        "    model.eval()\n",
        "    correct, total = 0, 0\n",
        "    with torch.no_grad():\n",
        "        for reviews, labels in loader:\n",
        "            outputs = model(reviews)\n",
        "            _, predicted = torch.max(outputs, 1)\n",
        "            total += labels.size(0)\n",
        "            correct += (predicted == labels).sum().item()\n",
        "    return correct / total\n"
      ]
    },
    {
      "cell_type": "code",
      "execution_count": null,
      "metadata": {
        "id": "qocNGiDjmTwU"
      },
      "outputs": [],
      "source": [
        "!pip install transformers"
      ]
    },
    {
      "cell_type": "code",
      "execution_count": null,
      "metadata": {
        "id": "Od0pfI7NmWmv"
      },
      "outputs": [],
      "source": [
        "import torch\n",
        "import pandas as pd\n",
        "from sklearn.model_selection import train_test_split\n",
        "from transformers import BertTokenizer, BertForSequenceClassification\n",
        "from transformers import Trainer, TrainingArguments"
      ]
    },
    {
      "cell_type": "code",
      "execution_count": null,
      "metadata": {
        "id": "SxE1G9FumdDz"
      },
      "outputs": [],
      "source": [
        "train_df, test_df = train_test_split(df, test_size=0.2, random_state=42)\n",
        "\n",
        "tokenizer = BertTokenizer.from_pretrained('bert-base-uncased')\n",
        "import os\n",
        "os.environ[\"WANDB_DISABLED\"] = \"true\"\n",
        "\n",
        "# 데이터셋 클래스 정의\n",
        "class MovieReviewDataset(torch.utils.data.Dataset):\n",
        "    def __init__(self, texts, labels, tokenizer, max_length):\n",
        "        self.texts = texts\n",
        "        self.labels = labels\n",
        "        self.tokenizer = tokenizer\n",
        "        self.max_length = max_length\n",
        "\n",
        "    def __len__(self):\n",
        "        return len(self.texts)\n",
        "\n",
        "    def __getitem__(self, idx):\n",
        "        text = self.texts[idx]\n",
        "        label = self.labels[idx]\n",
        "        encoding = self.tokenizer.encode_plus(\n",
        "            text,\n",
        "            add_special_tokens=True,\n",
        "            max_length=self.max_length,\n",
        "            return_token_type_ids=False,\n",
        "            padding='max_length',\n",
        "            truncation=True,\n",
        "            return_attention_mask=True,\n",
        "            return_tensors='pt',\n",
        "        )\n",
        "        return {\n",
        "            'input_ids': encoding['input_ids'].flatten(),\n",
        "            'attention_mask': encoding['attention_mask'].flatten(),\n",
        "            'labels': torch.tensor(label, dtype=torch.long),\n",
        "        }\n",
        "\n",
        "# 데이터셋 생성\n",
        "max_length = 128\n",
        "train_dataset = MovieReviewDataset(train_df['content'].values, train_df['sentiment'].values, tokenizer, max_length)\n",
        "test_dataset = MovieReviewDataset(test_df['content'].values, test_df['sentiment'].values, tokenizer, max_length)\n",
        "\n",
        "# 모델 준비\n",
        "model = BertForSequenceClassification.from_pretrained('bert-base-uncased', num_labels=len(set(df['sentiment'])))\n",
        "\n",
        "# 트레이너 설정\n",
        "training_args = TrainingArguments(\n",
        "    output_dir='./results',\n",
        "    num_train_epochs=5,\n",
        "    per_device_train_batch_size=16,\n",
        "    per_device_eval_batch_size=16,\n",
        "    warmup_steps=500,\n",
        "    weight_decay=0.01,\n",
        "    logging_dir='./logs',\n",
        "    logging_steps=10,\n",
        "    evaluation_strategy='epoch'\n",
        ")\n",
        "\n",
        "trainer = Trainer(\n",
        "    model=model,\n",
        "    args=training_args,\n",
        "    train_dataset=train_dataset,\n",
        "    eval_dataset=test_dataset\n",
        ")\n",
        "\n",
        "# 모델 학습\n",
        "trainer.train()\n",
        "\n",
        "# 평가\n",
        "trainer.evaluate()"
      ]
    },
    {
      "cell_type": "code",
      "execution_count": null,
      "metadata": {
        "id": "V3xpsZ-BmgT7"
      },
      "outputs": [],
      "source": [
        "import torch\n",
        "from sklearn.model_selection import train_test_split\n",
        "from transformers import BertTokenizer, BertForSequenceClassification, Trainer, TrainingArguments\n",
        "from sklearn.metrics import accuracy_score, precision_recall_fscore_support\n",
        "import os\n",
        "\n",
        "# 환경 설정\n",
        "os.environ[\"WANDB_DISABLED\"] = \"true\"\n",
        "\n",
        "# 데이터셋 분리\n",
        "train_df, test_df = train_test_split(df, test_size=0.2, random_state=42)\n",
        "\n",
        "# 토크나이저 로드\n",
        "tokenizer = BertTokenizer.from_pretrained('bert-base-uncased')\n",
        "\n",
        "# 데이터셋 클래스 정의\n",
        "class MovieReviewDataset(torch.utils.data.Dataset):\n",
        "    def __init__(self, texts, labels, tokenizer, max_length):\n",
        "        self.texts = texts\n",
        "        self.labels = labels\n",
        "        self.tokenizer = tokenizer\n",
        "        self.max_length = max_length\n",
        "\n",
        "    def __len__(self):\n",
        "        return len(self.texts)\n",
        "\n",
        "    def __getitem__(self, idx):\n",
        "        text = self.texts[idx]\n",
        "        label = self.labels[idx]\n",
        "        encoding = self.tokenizer.encode_plus(\n",
        "            text,\n",
        "            add_special_tokens=True,\n",
        "            max_length=self.max_length,\n",
        "            return_token_type_ids=False,\n",
        "            padding='max_length',\n",
        "            truncation=True,\n",
        "            return_attention_mask=True,\n",
        "            return_tensors='pt',\n",
        "        )\n",
        "        return {\n",
        "            'input_ids': encoding['input_ids'].flatten(),\n",
        "            'attention_mask': encoding['attention_mask'].flatten(),\n",
        "            'labels': torch.tensor(label, dtype=torch.long),\n",
        "        }\n",
        "\n",
        "# 데이터셋 생성\n",
        "max_length = 128\n",
        "train_dataset = MovieReviewDataset(train_df['content'].values, train_df['sentiment'].values, tokenizer, max_length)\n",
        "test_dataset = MovieReviewDataset(test_df['content'].values, test_df['sentiment'].values, tokenizer, max_length)\n",
        "\n",
        "# 모델 준비\n",
        "model = BertForSequenceClassification.from_pretrained('bert-base-uncased', num_labels=len(set(df['sentiment'])))\n",
        "\n",
        "# 평가를 위한 함수 정의\n",
        "def compute_metrics(pred):\n",
        "    labels = pred.label_ids\n",
        "    preds = pred.predictions.argmax(-1)  # 예측값 중 가장 높은 점수를 가진 클래스로 선택\n",
        "    acc = accuracy_score(labels, preds)  # 정확도 계산\n",
        "    precision, recall, f1, _ = precision_recall_fscore_support(labels, preds, average='weighted')  # 정밀도, 재현율, F1 점수\n",
        "    return {\n",
        "        'accuracy': acc,\n",
        "        'precision': precision,\n",
        "        'recall': recall,\n",
        "        'f1': f1\n",
        "    }\n",
        "\n",
        "# 트레이너 설정\n",
        "training_args = TrainingArguments(\n",
        "    output_dir='./results',\n",
        "    num_train_epochs=5,\n",
        "    per_device_train_batch_size=16,\n",
        "    per_device_eval_batch_size=16,\n",
        "    warmup_steps=500,\n",
        "    weight_decay=0.01,\n",
        "    logging_dir='./logs',\n",
        "    logging_steps=10,\n",
        "    evaluation_strategy='epoch'\n",
        ")\n",
        "\n",
        "trainer = Trainer(\n",
        "    model=model,\n",
        "    args=training_args,\n",
        "    train_dataset=train_dataset,\n",
        "    eval_dataset=test_dataset,\n",
        "    compute_metrics=compute_metrics  # 평가 지표 추가\n",
        ")\n",
        "\n",
        "# 모델 학습\n",
        "trainer.train()\n",
        "\n",
        "# 평가\n",
        "eval_result = trainer.evaluate()\n",
        "\n",
        "# 평가 결과 출력\n",
        "print(f\"Evaluation Results: {eval_result}\")\n",
        "\n",
        "# 정확도만 따로 출력\n",
        "accuracy = eval_result['eval_accuracy']\n",
        "print(f\"Accuracy: {accuracy}\")\n"
      ]
    },
    {
      "cell_type": "markdown",
      "metadata": {
        "id": "Vll0DX9uzOly"
      },
      "source": [
        "### 6. 긍정 / 부정 리뷰의 워드 클라우드 그려보기"
      ]
    },
    {
      "cell_type": "markdown",
      "metadata": {
        "id": "9j9_wMvWlA2W"
      },
      "source": [
        "#### Negative word cloud"
      ]
    },
    {
      "cell_type": "code",
      "execution_count": null,
      "metadata": {
        "id": "koLfta3SKydm"
      },
      "outputs": [],
      "source": [
        "from wordcloud import WordCloud, STOPWORDS\n",
        "import numpy as np\n",
        "from PIL import Image\n",
        "import matplotlib.pyplot as plt\n",
        "\n",
        "# 텍스트파일 열기\n",
        "text_negative = open('./negative.txt').read()\n",
        "# 마스크 이미지 가져오기\n",
        "alice_mask = np.array(Image.open('./alice_mask.png'))\n",
        "\n",
        "# 불용어 지정\n",
        "stopwords = set(STOPWORDS)\n",
        "stopwords.update(['netflix', 'movie', 'movies', 'show', 'shows', 'watch', 'account', 'time', 'app', 'series', 'phone', 'good','use','now','cant','dont','even'])\n",
        "\n",
        "# 이미지 확인\n",
        "plt.figure(figsize = (8,8))\n",
        "plt.imshow(alice_mask, cmap=plt.cm.gray, interpolation='bilinear')\n",
        "plt.axis('off')\n",
        "plt.show()"
      ]
    },
    {
      "cell_type": "code",
      "execution_count": null,
      "metadata": {
        "id": "-zNs7ITmlF09"
      },
      "outputs": [],
      "source": [
        "# 단어들 설정과 빈도분석\n",
        "wc = WordCloud(background_color = 'white', max_words = 500, mask = alice_mask, stopwords=stopwords)\n",
        "wc = wc.generate(text_negative)\n",
        "\n",
        "# 워드클라우드생성\n",
        "plt.figure(figsize=(12, 12))\n",
        "plt.imshow(wc, interpolation='bilinear')\n",
        "plt.title('Negative Reviews Word Cloud', size=20)\n",
        "plt.axis('off')\n",
        "plt.show()"
      ]
    },
    {
      "cell_type": "markdown",
      "metadata": {
        "id": "6Bn4oUs7lJU1"
      },
      "source": [
        "#### Positive word cloud"
      ]
    },
    {
      "cell_type": "code",
      "execution_count": null,
      "metadata": {
        "id": "U2hLqC2xlMHV"
      },
      "outputs": [],
      "source": [
        "# 텍스트파일 열기\n",
        "text_positive = open('./positive.txt').read()\n",
        "# 마스크 이미지 가져오기\n",
        "alice_mask = np.array(Image.open('./alice_mask.png'))\n",
        "\n",
        "# 불용어 지정\n",
        "stopwords = set(STOPWORDS)\n",
        "stopwords.update(['netflix', 'movie', 'movies', 'show', 'shows', 'watch', 'account', 'time', 'app', 'series', 'phone','use','now','problem','cant','dont','even'])\n",
        "\n",
        "# 이미지 확인\n",
        "plt.figure(figsize = (8,8))\n",
        "plt.imshow(alice_mask, cmap=plt.cm.gray, interpolation='bilinear')\n",
        "plt.axis('off')\n",
        "plt.show()"
      ]
    },
    {
      "cell_type": "code",
      "execution_count": null,
      "metadata": {
        "id": "jjzsRD9ClOX0"
      },
      "outputs": [],
      "source": [
        "# 단어들 설정과 빈도분석\n",
        "wc = WordCloud(background_color = 'white', max_words = 500, mask = alice_mask, stopwords=stopwords)\n",
        "wc = wc.generate(text_positive)\n",
        "\n",
        "# 워드클라우드생성\n",
        "plt.figure(figsize=(12, 12))\n",
        "plt.imshow(wc, interpolation='bilinear')\n",
        "plt.title('Positive Reviews Word Cloud', size=20)\n",
        "plt.axis('off')\n",
        "plt.show()"
      ]
    }
  ],
  "metadata": {
    "accelerator": "GPU",
    "colab": {
      "gpuType": "T4",
      "machine_shape": "hm",
      "provenance": []
    },
    "kernelspec": {
      "display_name": "Group_8",
      "language": "python",
      "name": "python3"
    },
    "language_info": {
      "codemirror_mode": {
        "name": "ipython",
        "version": 3
      },
      "file_extension": ".py",
      "mimetype": "text/x-python",
      "name": "python",
      "nbconvert_exporter": "python",
      "pygments_lexer": "ipython3",
      "version": "3.11.10"
    }
  },
  "nbformat": 4,
  "nbformat_minor": 0
}
