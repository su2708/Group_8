{
 "cells": [
  {
   "cell_type": "code",
   "execution_count": 19,
   "id": "54c55ec4",
   "metadata": {},
   "outputs": [],
   "source": [
    "import pandas as pd"
   ]
  },
  {
   "cell_type": "code",
   "execution_count": 20,
   "id": "b334589a-f37d-4f06-92f6-5aec8acc0391",
   "metadata": {},
   "outputs": [
    {
     "name": "stdout",
     "output_type": "stream",
     "text": [
      "Shape of the dataset: (116931, 8)\n",
      "Columns in the dataset: Index(['reviewId', 'userName', 'content', 'score', 'thumbsUpCount',\n",
      "       'reviewCreatedVersion', 'at', 'appVersion'],\n",
      "      dtype='object')\n"
     ]
    }
   ],
   "source": [
    "# 데이터셋 불러오기\n",
    "df = pd.read_csv(\"netflix_reviews.csv\")\n",
    "\n",
    "# 데이터셋 크기와 열 정보 출력\n",
    "print(f\"Shape of the dataset: {df.shape}\")\n",
    "print(f\"Columns in the dataset: {df.columns}\")"
   ]
  },
  {
   "cell_type": "code",
   "execution_count": 24,
   "id": "cb993231-6afd-4099-8b92-b4db02a286c0",
   "metadata": {},
   "outputs": [
    {
     "name": "stdout",
     "output_type": "stream",
     "text": [
      "                                             content  score  sentiment\n",
      "0                                          cant open      1          0\n",
      "1                                       the best app      5          1\n",
      "2  most of the famous korean drama are not dubbed...      2          0\n",
      "3  its superb but can you please add comments sec...      5          1\n",
      "4  the only reason i didnt give it four stars is ...      1          0\n"
     ]
    }
   ],
   "source": [
    "import re\n",
    "from nltk.corpus import stopwords\n",
    "from nltk.tokenize import word_tokenize\n",
    "\n",
    "# 전처리 함수\n",
    "def preprocess_text(text):\n",
    "    if isinstance(text, float):\n",
    "        return \"\"\n",
    "    text = text.lower()  # 대문자를 소문자로\n",
    "    text = re.sub(r'[^\\w\\s]', '', text)  # 구두점 제거\n",
    "    text = re.sub(r'\\d+', '', text)  # 숫자 제거\n",
    "    text = text.strip()  # 띄어쓰기 제외하고 빈 칸 제거\n",
    "    return text\n",
    "\n",
    "# 불필요한 열 제거\n",
    "df = df[['content', 'score']]\n",
    "\n",
    "# 리뷰 텍스트 정제\n",
    "df['content'] = df['content'].apply(preprocess_text)\n",
    "\n",
    "# 평점을 이진 레이블로 변환 (예: 3점 이상은 긍정, 그 외는 부정)\n",
    "df['sentiment'] = df['score'].apply(lambda x: 1 if x >= 3 else 0)\n",
    "\n",
    "# 전처리된 데이터 확인\n",
    "print(df.head())"
   ]
  },
  {
   "cell_type": "code",
   "execution_count": 22,
   "id": "6392a675-a0a7-4f7d-a949-7e32fc1b12c3",
   "metadata": {},
   "outputs": [
    {
     "data": {
      "image/png": "[encoded data removed]",
      "text/plain": [
       "<Figure size 640x480 with 1 Axes>"
      ]
     },
     "metadata": {},
     "output_type": "display_data"
    }
   ],
   "source": [
    "import seaborn as sns\n",
    "import matplotlib.pyplot as plt\n",
    "\n",
    "# 리뷰 점수 분포 확인\n",
    "sns.countplot(x='score', data=df)\n",
    "plt.xlabel('Score')\n",
    "plt.ylabel('Count')\n",
    "plt.title('Distribution of Scores')\n",
    "plt.show()"
   ]
  },
  {
   "cell_type": "code",
   "execution_count": null,
   "id": "1e356fed-0568-43d1-8a68-3ad62e657798",
   "metadata": {},
   "outputs": [],
   "source": []
  },
  {
   "cell_type": "code",
   "execution_count": 23,
   "id": "b48c952b-8c69-42a8-b004-042882bd95fe",
   "metadata": {},
   "outputs": [],
   "source": [
    "# 리뷰 예측 모델 학습시키기 (LSTM)\n"
   ]
  }
 ],
 "metadata": {
  "kernelspec": {
   "display_name": "base",
   "language": "python",
   "name": "python3"
  },
  "language_info": {
   "codemirror_mode": {
    "name": "ipython",
    "version": 3
   },
   "file_extension": ".py",
   "mimetype": "text/x-python",
   "name": "python",
   "nbconvert_exporter": "python",
   "pygments_lexer": "ipython3",
   "version": "3.12.4"
  }
 },
 "nbformat": 4,
 "nbformat_minor": 5
}
